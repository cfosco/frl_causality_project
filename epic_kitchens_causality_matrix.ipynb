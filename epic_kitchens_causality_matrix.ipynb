{
 "cells": [
  {
   "cell_type": "markdown",
   "id": "865f7b72",
   "metadata": {},
   "source": [
    "# Co-occurence and causality matrix calculation for the Epic Kitchens dataset\n",
    "\n",
    "Causality matrix will be computed by:\n",
    "- Considering pairs of verb-noun in epic kitchens\n",
    "- For each pair of verb-noun, adding occurences of each other pair that comes after it\n",
    "    - version 1: only count what comes right after\n",
    "    - version 2: count every action that comes after the given pair, but reduce contribution exponentially according to temporal distance"
   ]
  },
  {
   "cell_type": "code",
   "execution_count": 1,
   "id": "09bc53fc",
   "metadata": {},
   "outputs": [],
   "source": [
    "import numpy as np\n",
    "import pandas as pd\n",
    "import matplotlib.pyplot as plt\n",
    "import seaborn as sns\n",
    "import os\n",
    "import sys\n",
    "from tqdm import tqdm\n",
    "from build_causality_matrix import *\n",
    "from decays import *\n",
    "import pickle\n",
    "import json\n",
    "import seaborn as sns\n",
    "\n",
    "%load_ext autoreload\n",
    "%autoreload 2"
   ]
  },
  {
   "cell_type": "code",
   "execution_count": 2,
   "metadata": {},
   "outputs": [
    {
     "name": "stdout",
     "output_type": "stream",
     "text": [
      "Train annotations:\n",
      "Size (67217, 15)\n"
     ]
    },
    {
     "data": {
      "text/html": [
       "<div>\n",
       "<style scoped>\n",
       "    .dataframe tbody tr th:only-of-type {\n",
       "        vertical-align: middle;\n",
       "    }\n",
       "\n",
       "    .dataframe tbody tr th {\n",
       "        vertical-align: top;\n",
       "    }\n",
       "\n",
       "    .dataframe thead th {\n",
       "        text-align: right;\n",
       "    }\n",
       "</style>\n",
       "<table border=\"1\" class=\"dataframe\">\n",
       "  <thead>\n",
       "    <tr style=\"text-align: right;\">\n",
       "      <th></th>\n",
       "      <th>narration_id</th>\n",
       "      <th>participant_id</th>\n",
       "      <th>video_id</th>\n",
       "      <th>narration_timestamp</th>\n",
       "      <th>start_timestamp</th>\n",
       "      <th>stop_timestamp</th>\n",
       "      <th>start_frame</th>\n",
       "      <th>stop_frame</th>\n",
       "      <th>narration</th>\n",
       "      <th>verb</th>\n",
       "      <th>verb_class</th>\n",
       "      <th>noun</th>\n",
       "      <th>noun_class</th>\n",
       "      <th>all_nouns</th>\n",
       "      <th>all_noun_classes</th>\n",
       "    </tr>\n",
       "  </thead>\n",
       "  <tbody>\n",
       "    <tr>\n",
       "      <th>0</th>\n",
       "      <td>P01_01_0</td>\n",
       "      <td>P01</td>\n",
       "      <td>P01_01</td>\n",
       "      <td>00:00:01.089</td>\n",
       "      <td>00:00:00.14</td>\n",
       "      <td>00:00:03.37</td>\n",
       "      <td>8</td>\n",
       "      <td>202</td>\n",
       "      <td>open door</td>\n",
       "      <td>open</td>\n",
       "      <td>3</td>\n",
       "      <td>door</td>\n",
       "      <td>3</td>\n",
       "      <td>['door']</td>\n",
       "      <td>[3]</td>\n",
       "    </tr>\n",
       "    <tr>\n",
       "      <th>1</th>\n",
       "      <td>P01_01_1</td>\n",
       "      <td>P01</td>\n",
       "      <td>P01_01</td>\n",
       "      <td>00:00:02.629</td>\n",
       "      <td>00:00:04.37</td>\n",
       "      <td>00:00:06.17</td>\n",
       "      <td>262</td>\n",
       "      <td>370</td>\n",
       "      <td>turn on light</td>\n",
       "      <td>turn-on</td>\n",
       "      <td>6</td>\n",
       "      <td>light</td>\n",
       "      <td>114</td>\n",
       "      <td>['light']</td>\n",
       "      <td>[114]</td>\n",
       "    </tr>\n",
       "    <tr>\n",
       "      <th>2</th>\n",
       "      <td>P01_01_10</td>\n",
       "      <td>P01</td>\n",
       "      <td>P01_01</td>\n",
       "      <td>00:00:23.340</td>\n",
       "      <td>00:00:24.97</td>\n",
       "      <td>00:00:26.20</td>\n",
       "      <td>1498</td>\n",
       "      <td>1572</td>\n",
       "      <td>open drawer</td>\n",
       "      <td>open</td>\n",
       "      <td>3</td>\n",
       "      <td>drawer</td>\n",
       "      <td>8</td>\n",
       "      <td>['drawer']</td>\n",
       "      <td>[8]</td>\n",
       "    </tr>\n",
       "    <tr>\n",
       "      <th>3</th>\n",
       "      <td>P01_01_100</td>\n",
       "      <td>P01</td>\n",
       "      <td>P01_01</td>\n",
       "      <td>00:07:57.919</td>\n",
       "      <td>00:07:59.75</td>\n",
       "      <td>00:08:00.88</td>\n",
       "      <td>28785</td>\n",
       "      <td>28852</td>\n",
       "      <td>take cup</td>\n",
       "      <td>take</td>\n",
       "      <td>0</td>\n",
       "      <td>cup</td>\n",
       "      <td>13</td>\n",
       "      <td>['cup']</td>\n",
       "      <td>[13]</td>\n",
       "    </tr>\n",
       "    <tr>\n",
       "      <th>4</th>\n",
       "      <td>P01_01_101</td>\n",
       "      <td>P01</td>\n",
       "      <td>P01_01</td>\n",
       "      <td>00:08:00.020</td>\n",
       "      <td>00:08:01.47</td>\n",
       "      <td>00:08:02.21</td>\n",
       "      <td>28888</td>\n",
       "      <td>28932</td>\n",
       "      <td>open cupboard</td>\n",
       "      <td>open</td>\n",
       "      <td>3</td>\n",
       "      <td>cupboard</td>\n",
       "      <td>3</td>\n",
       "      <td>['cupboard']</td>\n",
       "      <td>[3]</td>\n",
       "    </tr>\n",
       "    <tr>\n",
       "      <th>5</th>\n",
       "      <td>P01_01_102</td>\n",
       "      <td>P01</td>\n",
       "      <td>P01_01</td>\n",
       "      <td>00:08:01.229</td>\n",
       "      <td>00:08:02.13</td>\n",
       "      <td>00:08:03.00</td>\n",
       "      <td>28927</td>\n",
       "      <td>28980</td>\n",
       "      <td>put cup into cupboard</td>\n",
       "      <td>put-into</td>\n",
       "      <td>5</td>\n",
       "      <td>cup</td>\n",
       "      <td>13</td>\n",
       "      <td>['cup', 'cupboard']</td>\n",
       "      <td>[13, 3]</td>\n",
       "    </tr>\n",
       "    <tr>\n",
       "      <th>6</th>\n",
       "      <td>P01_01_103</td>\n",
       "      <td>P01</td>\n",
       "      <td>P01_01</td>\n",
       "      <td>00:08:03.919</td>\n",
       "      <td>00:08:05.22</td>\n",
       "      <td>00:08:07.21</td>\n",
       "      <td>29113</td>\n",
       "      <td>29232</td>\n",
       "      <td>take container and lid</td>\n",
       "      <td>take</td>\n",
       "      <td>0</td>\n",
       "      <td>container</td>\n",
       "      <td>21</td>\n",
       "      <td>['container', 'lid']</td>\n",
       "      <td>[21, 6]</td>\n",
       "    </tr>\n",
       "    <tr>\n",
       "      <th>7</th>\n",
       "      <td>P01_01_104</td>\n",
       "      <td>P01</td>\n",
       "      <td>P01_01</td>\n",
       "      <td>00:08:07.610</td>\n",
       "      <td>00:08:08.38</td>\n",
       "      <td>00:08:09.12</td>\n",
       "      <td>29302</td>\n",
       "      <td>29347</td>\n",
       "      <td>put container on top of counter</td>\n",
       "      <td>put-on</td>\n",
       "      <td>1</td>\n",
       "      <td>container</td>\n",
       "      <td>21</td>\n",
       "      <td>['container', 'top:counter']</td>\n",
       "      <td>[21, 42]</td>\n",
       "    </tr>\n",
       "    <tr>\n",
       "      <th>8</th>\n",
       "      <td>P01_01_105</td>\n",
       "      <td>P01</td>\n",
       "      <td>P01_01</td>\n",
       "      <td>00:08:09.860</td>\n",
       "      <td>00:08:12.00</td>\n",
       "      <td>00:08:12.74</td>\n",
       "      <td>29520</td>\n",
       "      <td>29564</td>\n",
       "      <td>open container</td>\n",
       "      <td>open</td>\n",
       "      <td>3</td>\n",
       "      <td>container</td>\n",
       "      <td>21</td>\n",
       "      <td>['container']</td>\n",
       "      <td>[21]</td>\n",
       "    </tr>\n",
       "    <tr>\n",
       "      <th>9</th>\n",
       "      <td>P01_01_106</td>\n",
       "      <td>P01</td>\n",
       "      <td>P01_01</td>\n",
       "      <td>00:08:12.900</td>\n",
       "      <td>00:08:13.22</td>\n",
       "      <td>00:08:14.37</td>\n",
       "      <td>29593</td>\n",
       "      <td>29662</td>\n",
       "      <td>put container inside container</td>\n",
       "      <td>put-inside</td>\n",
       "      <td>5</td>\n",
       "      <td>container</td>\n",
       "      <td>21</td>\n",
       "      <td>['container', 'container']</td>\n",
       "      <td>[21, 21]</td>\n",
       "    </tr>\n",
       "    <tr>\n",
       "      <th>10</th>\n",
       "      <td>P01_01_107</td>\n",
       "      <td>P01</td>\n",
       "      <td>P01_01</td>\n",
       "      <td>00:08:14.550</td>\n",
       "      <td>00:08:15.80</td>\n",
       "      <td>00:08:16.99</td>\n",
       "      <td>29748</td>\n",
       "      <td>29819</td>\n",
       "      <td>close lid</td>\n",
       "      <td>close</td>\n",
       "      <td>4</td>\n",
       "      <td>lid</td>\n",
       "      <td>6</td>\n",
       "      <td>['lid']</td>\n",
       "      <td>[6]</td>\n",
       "    </tr>\n",
       "    <tr>\n",
       "      <th>11</th>\n",
       "      <td>P01_01_108</td>\n",
       "      <td>P01</td>\n",
       "      <td>P01_01</td>\n",
       "      <td>00:08:18.039</td>\n",
       "      <td>00:08:19.64</td>\n",
       "      <td>00:08:20.60</td>\n",
       "      <td>29978</td>\n",
       "      <td>30036</td>\n",
       "      <td>put container in cupboard</td>\n",
       "      <td>put-in</td>\n",
       "      <td>5</td>\n",
       "      <td>container</td>\n",
       "      <td>21</td>\n",
       "      <td>['container', 'cupboard']</td>\n",
       "      <td>[21, 3]</td>\n",
       "    </tr>\n",
       "    <tr>\n",
       "      <th>12</th>\n",
       "      <td>P01_01_109</td>\n",
       "      <td>P01</td>\n",
       "      <td>P01_01</td>\n",
       "      <td>00:08:21.050</td>\n",
       "      <td>00:08:22.35</td>\n",
       "      <td>00:08:23.31</td>\n",
       "      <td>30141</td>\n",
       "      <td>30198</td>\n",
       "      <td>take plate</td>\n",
       "      <td>take</td>\n",
       "      <td>0</td>\n",
       "      <td>plate</td>\n",
       "      <td>2</td>\n",
       "      <td>['plate']</td>\n",
       "      <td>[2]</td>\n",
       "    </tr>\n",
       "    <tr>\n",
       "      <th>13</th>\n",
       "      <td>P01_01_11</td>\n",
       "      <td>P01</td>\n",
       "      <td>P01_01</td>\n",
       "      <td>00:00:27.960</td>\n",
       "      <td>00:00:29.22</td>\n",
       "      <td>00:00:31.32</td>\n",
       "      <td>1753</td>\n",
       "      <td>1879</td>\n",
       "      <td>close fridge</td>\n",
       "      <td>close</td>\n",
       "      <td>4</td>\n",
       "      <td>fridge</td>\n",
       "      <td>12</td>\n",
       "      <td>['fridge']</td>\n",
       "      <td>[12]</td>\n",
       "    </tr>\n",
       "    <tr>\n",
       "      <th>14</th>\n",
       "      <td>P01_01_110</td>\n",
       "      <td>P01</td>\n",
       "      <td>P01_01</td>\n",
       "      <td>00:08:25.669</td>\n",
       "      <td>00:08:24.66</td>\n",
       "      <td>00:08:27.92</td>\n",
       "      <td>30279</td>\n",
       "      <td>30475</td>\n",
       "      <td>put plate down</td>\n",
       "      <td>put-down</td>\n",
       "      <td>1</td>\n",
       "      <td>plate</td>\n",
       "      <td>2</td>\n",
       "      <td>['plate']</td>\n",
       "      <td>[2]</td>\n",
       "    </tr>\n",
       "    <tr>\n",
       "      <th>15</th>\n",
       "      <td>P01_01_111</td>\n",
       "      <td>P01</td>\n",
       "      <td>P01_01</td>\n",
       "      <td>00:08:26.759</td>\n",
       "      <td>00:08:28.16</td>\n",
       "      <td>00:08:29.94</td>\n",
       "      <td>30489</td>\n",
       "      <td>30596</td>\n",
       "      <td>open drawer</td>\n",
       "      <td>open</td>\n",
       "      <td>3</td>\n",
       "      <td>drawer</td>\n",
       "      <td>8</td>\n",
       "      <td>['drawer']</td>\n",
       "      <td>[8]</td>\n",
       "    </tr>\n",
       "    <tr>\n",
       "      <th>16</th>\n",
       "      <td>P01_01_112</td>\n",
       "      <td>P01</td>\n",
       "      <td>P01_01</td>\n",
       "      <td>00:08:29.879</td>\n",
       "      <td>00:08:29.29</td>\n",
       "      <td>00:08:31.54</td>\n",
       "      <td>30557</td>\n",
       "      <td>30692</td>\n",
       "      <td>take something</td>\n",
       "      <td>take</td>\n",
       "      <td>0</td>\n",
       "      <td>drawer</td>\n",
       "      <td>8</td>\n",
       "      <td>['drawer']</td>\n",
       "      <td>[8]</td>\n",
       "    </tr>\n",
       "    <tr>\n",
       "      <th>17</th>\n",
       "      <td>P01_01_113</td>\n",
       "      <td>P01</td>\n",
       "      <td>P01_01</td>\n",
       "      <td>00:08:32.200</td>\n",
       "      <td>00:08:32.66</td>\n",
       "      <td>00:08:34.43</td>\n",
       "      <td>30759</td>\n",
       "      <td>30865</td>\n",
       "      <td>put down something</td>\n",
       "      <td>put-down</td>\n",
       "      <td>1</td>\n",
       "      <td>drawer</td>\n",
       "      <td>8</td>\n",
       "      <td>['drawer']</td>\n",
       "      <td>[8]</td>\n",
       "    </tr>\n",
       "    <tr>\n",
       "      <th>18</th>\n",
       "      <td>P01_01_114</td>\n",
       "      <td>P01</td>\n",
       "      <td>P01_01</td>\n",
       "      <td>00:08:35.200</td>\n",
       "      <td>00:08:36.81</td>\n",
       "      <td>00:08:38.05</td>\n",
       "      <td>31008</td>\n",
       "      <td>31082</td>\n",
       "      <td>open drawer</td>\n",
       "      <td>open</td>\n",
       "      <td>3</td>\n",
       "      <td>drawer</td>\n",
       "      <td>8</td>\n",
       "      <td>['drawer']</td>\n",
       "      <td>[8]</td>\n",
       "    </tr>\n",
       "    <tr>\n",
       "      <th>19</th>\n",
       "      <td>P01_01_115</td>\n",
       "      <td>P01</td>\n",
       "      <td>P01_01</td>\n",
       "      <td>00:08:36.460</td>\n",
       "      <td>00:08:37.88</td>\n",
       "      <td>00:08:39.13</td>\n",
       "      <td>31072</td>\n",
       "      <td>31147</td>\n",
       "      <td>take fork</td>\n",
       "      <td>take</td>\n",
       "      <td>0</td>\n",
       "      <td>fork</td>\n",
       "      <td>14</td>\n",
       "      <td>['fork']</td>\n",
       "      <td>[14]</td>\n",
       "    </tr>\n",
       "  </tbody>\n",
       "</table>\n",
       "</div>"
      ],
      "text/plain": [
       "   narration_id participant_id video_id narration_timestamp start_timestamp  \\\n",
       "0      P01_01_0            P01   P01_01        00:00:01.089     00:00:00.14   \n",
       "1      P01_01_1            P01   P01_01        00:00:02.629     00:00:04.37   \n",
       "2     P01_01_10            P01   P01_01        00:00:23.340     00:00:24.97   \n",
       "3    P01_01_100            P01   P01_01        00:07:57.919     00:07:59.75   \n",
       "4    P01_01_101            P01   P01_01        00:08:00.020     00:08:01.47   \n",
       "5    P01_01_102            P01   P01_01        00:08:01.229     00:08:02.13   \n",
       "6    P01_01_103            P01   P01_01        00:08:03.919     00:08:05.22   \n",
       "7    P01_01_104            P01   P01_01        00:08:07.610     00:08:08.38   \n",
       "8    P01_01_105            P01   P01_01        00:08:09.860     00:08:12.00   \n",
       "9    P01_01_106            P01   P01_01        00:08:12.900     00:08:13.22   \n",
       "10   P01_01_107            P01   P01_01        00:08:14.550     00:08:15.80   \n",
       "11   P01_01_108            P01   P01_01        00:08:18.039     00:08:19.64   \n",
       "12   P01_01_109            P01   P01_01        00:08:21.050     00:08:22.35   \n",
       "13    P01_01_11            P01   P01_01        00:00:27.960     00:00:29.22   \n",
       "14   P01_01_110            P01   P01_01        00:08:25.669     00:08:24.66   \n",
       "15   P01_01_111            P01   P01_01        00:08:26.759     00:08:28.16   \n",
       "16   P01_01_112            P01   P01_01        00:08:29.879     00:08:29.29   \n",
       "17   P01_01_113            P01   P01_01        00:08:32.200     00:08:32.66   \n",
       "18   P01_01_114            P01   P01_01        00:08:35.200     00:08:36.81   \n",
       "19   P01_01_115            P01   P01_01        00:08:36.460     00:08:37.88   \n",
       "\n",
       "   stop_timestamp  start_frame  stop_frame                        narration  \\\n",
       "0     00:00:03.37            8         202                        open door   \n",
       "1     00:00:06.17          262         370                    turn on light   \n",
       "2     00:00:26.20         1498        1572                      open drawer   \n",
       "3     00:08:00.88        28785       28852                         take cup   \n",
       "4     00:08:02.21        28888       28932                    open cupboard   \n",
       "5     00:08:03.00        28927       28980            put cup into cupboard   \n",
       "6     00:08:07.21        29113       29232           take container and lid   \n",
       "7     00:08:09.12        29302       29347  put container on top of counter   \n",
       "8     00:08:12.74        29520       29564                   open container   \n",
       "9     00:08:14.37        29593       29662   put container inside container   \n",
       "10    00:08:16.99        29748       29819                        close lid   \n",
       "11    00:08:20.60        29978       30036        put container in cupboard   \n",
       "12    00:08:23.31        30141       30198                       take plate   \n",
       "13    00:00:31.32         1753        1879                     close fridge   \n",
       "14    00:08:27.92        30279       30475                   put plate down   \n",
       "15    00:08:29.94        30489       30596                      open drawer   \n",
       "16    00:08:31.54        30557       30692                   take something   \n",
       "17    00:08:34.43        30759       30865               put down something   \n",
       "18    00:08:38.05        31008       31082                      open drawer   \n",
       "19    00:08:39.13        31072       31147                        take fork   \n",
       "\n",
       "          verb  verb_class       noun  noun_class  \\\n",
       "0         open           3       door           3   \n",
       "1      turn-on           6      light         114   \n",
       "2         open           3     drawer           8   \n",
       "3         take           0        cup          13   \n",
       "4         open           3   cupboard           3   \n",
       "5     put-into           5        cup          13   \n",
       "6         take           0  container          21   \n",
       "7       put-on           1  container          21   \n",
       "8         open           3  container          21   \n",
       "9   put-inside           5  container          21   \n",
       "10       close           4        lid           6   \n",
       "11      put-in           5  container          21   \n",
       "12        take           0      plate           2   \n",
       "13       close           4     fridge          12   \n",
       "14    put-down           1      plate           2   \n",
       "15        open           3     drawer           8   \n",
       "16        take           0     drawer           8   \n",
       "17    put-down           1     drawer           8   \n",
       "18        open           3     drawer           8   \n",
       "19        take           0       fork          14   \n",
       "\n",
       "                       all_nouns all_noun_classes  \n",
       "0                       ['door']              [3]  \n",
       "1                      ['light']            [114]  \n",
       "2                     ['drawer']              [8]  \n",
       "3                        ['cup']             [13]  \n",
       "4                   ['cupboard']              [3]  \n",
       "5            ['cup', 'cupboard']          [13, 3]  \n",
       "6           ['container', 'lid']          [21, 6]  \n",
       "7   ['container', 'top:counter']         [21, 42]  \n",
       "8                  ['container']             [21]  \n",
       "9     ['container', 'container']         [21, 21]  \n",
       "10                       ['lid']              [6]  \n",
       "11     ['container', 'cupboard']          [21, 3]  \n",
       "12                     ['plate']              [2]  \n",
       "13                    ['fridge']             [12]  \n",
       "14                     ['plate']              [2]  \n",
       "15                    ['drawer']              [8]  \n",
       "16                    ['drawer']              [8]  \n",
       "17                    ['drawer']              [8]  \n",
       "18                    ['drawer']              [8]  \n",
       "19                      ['fork']             [14]  "
      ]
     },
     "execution_count": 2,
     "metadata": {},
     "output_type": "execute_result"
    }
   ],
   "source": [
    "# Load Epic kitchens train annotations\n",
    "train_annotations = pd.read_csv('../epic-kitchens-100-annotations/EPIC_100_train.csv')\n",
    "\n",
    "# Show statistics\n",
    "print('Train annotations:')\n",
    "print(\"Size\", train_annotations.shape)\n",
    "\n",
    "train_annotations.head(20)\n"
   ]
  },
  {
   "cell_type": "code",
   "execution_count": 3,
   "id": "0e805fe0",
   "metadata": {},
   "outputs": [
    {
     "data": {
      "text/html": [
       "<div>\n",
       "<style scoped>\n",
       "    .dataframe tbody tr th:only-of-type {\n",
       "        vertical-align: middle;\n",
       "    }\n",
       "\n",
       "    .dataframe tbody tr th {\n",
       "        vertical-align: top;\n",
       "    }\n",
       "\n",
       "    .dataframe thead th {\n",
       "        text-align: right;\n",
       "    }\n",
       "</style>\n",
       "<table border=\"1\" class=\"dataframe\">\n",
       "  <thead>\n",
       "    <tr style=\"text-align: right;\">\n",
       "      <th></th>\n",
       "      <th>narration_id</th>\n",
       "      <th>participant_id</th>\n",
       "      <th>video_id</th>\n",
       "      <th>narration_timestamp</th>\n",
       "      <th>start_timestamp</th>\n",
       "      <th>stop_timestamp</th>\n",
       "      <th>start_frame</th>\n",
       "      <th>stop_frame</th>\n",
       "      <th>narration</th>\n",
       "      <th>verb</th>\n",
       "      <th>verb_class</th>\n",
       "      <th>noun</th>\n",
       "      <th>noun_class</th>\n",
       "      <th>all_nouns</th>\n",
       "      <th>all_noun_classes</th>\n",
       "    </tr>\n",
       "  </thead>\n",
       "  <tbody>\n",
       "    <tr>\n",
       "      <th>0</th>\n",
       "      <td>P01_01_0</td>\n",
       "      <td>P01</td>\n",
       "      <td>P01_01</td>\n",
       "      <td>00:00:01.089</td>\n",
       "      <td>00:00:00.14</td>\n",
       "      <td>00:00:03.37</td>\n",
       "      <td>8</td>\n",
       "      <td>202</td>\n",
       "      <td>open door</td>\n",
       "      <td>open</td>\n",
       "      <td>3</td>\n",
       "      <td>door</td>\n",
       "      <td>3</td>\n",
       "      <td>['door']</td>\n",
       "      <td>[3]</td>\n",
       "    </tr>\n",
       "    <tr>\n",
       "      <th>1</th>\n",
       "      <td>P01_01_1</td>\n",
       "      <td>P01</td>\n",
       "      <td>P01_01</td>\n",
       "      <td>00:00:02.629</td>\n",
       "      <td>00:00:04.37</td>\n",
       "      <td>00:00:06.17</td>\n",
       "      <td>262</td>\n",
       "      <td>370</td>\n",
       "      <td>turn on light</td>\n",
       "      <td>turn-on</td>\n",
       "      <td>6</td>\n",
       "      <td>light</td>\n",
       "      <td>114</td>\n",
       "      <td>['light']</td>\n",
       "      <td>[114]</td>\n",
       "    </tr>\n",
       "    <tr>\n",
       "      <th>2</th>\n",
       "      <td>P01_01_10</td>\n",
       "      <td>P01</td>\n",
       "      <td>P01_01</td>\n",
       "      <td>00:00:23.340</td>\n",
       "      <td>00:00:24.97</td>\n",
       "      <td>00:00:26.20</td>\n",
       "      <td>1498</td>\n",
       "      <td>1572</td>\n",
       "      <td>open drawer</td>\n",
       "      <td>open</td>\n",
       "      <td>3</td>\n",
       "      <td>drawer</td>\n",
       "      <td>8</td>\n",
       "      <td>['drawer']</td>\n",
       "      <td>[8]</td>\n",
       "    </tr>\n",
       "    <tr>\n",
       "      <th>3</th>\n",
       "      <td>P01_01_100</td>\n",
       "      <td>P01</td>\n",
       "      <td>P01_01</td>\n",
       "      <td>00:07:57.919</td>\n",
       "      <td>00:07:59.75</td>\n",
       "      <td>00:08:00.88</td>\n",
       "      <td>28785</td>\n",
       "      <td>28852</td>\n",
       "      <td>take cup</td>\n",
       "      <td>take</td>\n",
       "      <td>0</td>\n",
       "      <td>cup</td>\n",
       "      <td>13</td>\n",
       "      <td>['cup']</td>\n",
       "      <td>[13]</td>\n",
       "    </tr>\n",
       "    <tr>\n",
       "      <th>4</th>\n",
       "      <td>P01_01_101</td>\n",
       "      <td>P01</td>\n",
       "      <td>P01_01</td>\n",
       "      <td>00:08:00.020</td>\n",
       "      <td>00:08:01.47</td>\n",
       "      <td>00:08:02.21</td>\n",
       "      <td>28888</td>\n",
       "      <td>28932</td>\n",
       "      <td>open cupboard</td>\n",
       "      <td>open</td>\n",
       "      <td>3</td>\n",
       "      <td>cupboard</td>\n",
       "      <td>3</td>\n",
       "      <td>['cupboard']</td>\n",
       "      <td>[3]</td>\n",
       "    </tr>\n",
       "  </tbody>\n",
       "</table>\n",
       "</div>"
      ],
      "text/plain": [
       "  narration_id participant_id video_id narration_timestamp start_timestamp  \\\n",
       "0     P01_01_0            P01   P01_01        00:00:01.089     00:00:00.14   \n",
       "1     P01_01_1            P01   P01_01        00:00:02.629     00:00:04.37   \n",
       "2    P01_01_10            P01   P01_01        00:00:23.340     00:00:24.97   \n",
       "3   P01_01_100            P01   P01_01        00:07:57.919     00:07:59.75   \n",
       "4   P01_01_101            P01   P01_01        00:08:00.020     00:08:01.47   \n",
       "\n",
       "  stop_timestamp  start_frame  stop_frame      narration     verb  verb_class  \\\n",
       "0    00:00:03.37            8         202      open door     open           3   \n",
       "1    00:00:06.17          262         370  turn on light  turn-on           6   \n",
       "2    00:00:26.20         1498        1572    open drawer     open           3   \n",
       "3    00:08:00.88        28785       28852       take cup     take           0   \n",
       "4    00:08:02.21        28888       28932  open cupboard     open           3   \n",
       "\n",
       "       noun  noun_class     all_nouns all_noun_classes  \n",
       "0      door           3      ['door']              [3]  \n",
       "1     light         114     ['light']            [114]  \n",
       "2    drawer           8    ['drawer']              [8]  \n",
       "3       cup          13       ['cup']             [13]  \n",
       "4  cupboard           3  ['cupboard']              [3]  "
      ]
     },
     "execution_count": 3,
     "metadata": {},
     "output_type": "execute_result"
    }
   ],
   "source": [
    "# Sort train annotations by video id, then narration id\n",
    "train_annotations = train_annotations.sort_values(by=['video_id', 'narration_id'])\n",
    "\n",
    "train_annotations.head()"
   ]
  },
  {
   "cell_type": "code",
   "execution_count": 4,
   "metadata": {},
   "outputs": [
    {
     "name": "stdout",
     "output_type": "stream",
     "text": [
      "pick-up      9868\n",
      "put-down     7726\n",
      "open         4851\n",
      "close        3463\n",
      "take         3412\n",
      "             ... \n",
      "pat-into        1\n",
      "stem            1\n",
      "tear-into       1\n",
      "strain-in       1\n",
      "flip-with       1\n",
      "Name: verb, Length: 856, dtype: int64\n",
      "\n",
      "tap                 3567\n",
      "plate               2186\n",
      "knife               2092\n",
      "spoon               1806\n",
      "cupboard            1786\n",
      "                    ... \n",
      "bowl:onion             1\n",
      "rubber                 1\n",
      "box:blender            1\n",
      "lid:clip:top:jar       1\n",
      "package:paprika        1\n",
      "Name: noun, Length: 2032, dtype: int64\n"
     ]
    }
   ],
   "source": [
    "# Get count of actions in train set\n",
    "print(train_annotations['verb'].value_counts())\n",
    "print()\n",
    "print(train_annotations['noun'].value_counts())"
   ]
  },
  {
   "cell_type": "code",
   "execution_count": 5,
   "id": "0d0cf563",
   "metadata": {},
   "outputs": [
    {
     "name": "stdout",
     "output_type": "stream",
     "text": [
      "<class 'numpy.int64'>\n"
     ]
    },
    {
     "data": {
      "text/html": [
       "<div>\n",
       "<style scoped>\n",
       "    .dataframe tbody tr th:only-of-type {\n",
       "        vertical-align: middle;\n",
       "    }\n",
       "\n",
       "    .dataframe tbody tr th {\n",
       "        vertical-align: top;\n",
       "    }\n",
       "\n",
       "    .dataframe thead th {\n",
       "        text-align: right;\n",
       "    }\n",
       "</style>\n",
       "<table border=\"1\" class=\"dataframe\">\n",
       "  <thead>\n",
       "    <tr style=\"text-align: right;\">\n",
       "      <th></th>\n",
       "      <th>narration_id</th>\n",
       "      <th>participant_id</th>\n",
       "      <th>video_id</th>\n",
       "      <th>narration_timestamp</th>\n",
       "      <th>start_timestamp</th>\n",
       "      <th>stop_timestamp</th>\n",
       "      <th>start_frame</th>\n",
       "      <th>stop_frame</th>\n",
       "      <th>narration</th>\n",
       "      <th>verb</th>\n",
       "      <th>verb_class</th>\n",
       "      <th>noun</th>\n",
       "      <th>noun_class</th>\n",
       "      <th>all_nouns</th>\n",
       "      <th>all_noun_classes</th>\n",
       "      <th>narration_number</th>\n",
       "    </tr>\n",
       "  </thead>\n",
       "  <tbody>\n",
       "    <tr>\n",
       "      <th>0</th>\n",
       "      <td>P01_01_0</td>\n",
       "      <td>P01</td>\n",
       "      <td>P01_01</td>\n",
       "      <td>00:00:01.089</td>\n",
       "      <td>00:00:00.14</td>\n",
       "      <td>00:00:03.37</td>\n",
       "      <td>8</td>\n",
       "      <td>202</td>\n",
       "      <td>open door</td>\n",
       "      <td>open</td>\n",
       "      <td>3</td>\n",
       "      <td>door</td>\n",
       "      <td>3</td>\n",
       "      <td>['door']</td>\n",
       "      <td>[3]</td>\n",
       "      <td>0</td>\n",
       "    </tr>\n",
       "    <tr>\n",
       "      <th>1</th>\n",
       "      <td>P01_01_1</td>\n",
       "      <td>P01</td>\n",
       "      <td>P01_01</td>\n",
       "      <td>00:00:02.629</td>\n",
       "      <td>00:00:04.37</td>\n",
       "      <td>00:00:06.17</td>\n",
       "      <td>262</td>\n",
       "      <td>370</td>\n",
       "      <td>turn on light</td>\n",
       "      <td>turn-on</td>\n",
       "      <td>6</td>\n",
       "      <td>light</td>\n",
       "      <td>114</td>\n",
       "      <td>['light']</td>\n",
       "      <td>[114]</td>\n",
       "      <td>1</td>\n",
       "    </tr>\n",
       "    <tr>\n",
       "      <th>111</th>\n",
       "      <td>P01_01_2</td>\n",
       "      <td>P01</td>\n",
       "      <td>P01_01</td>\n",
       "      <td>00:00:05.349</td>\n",
       "      <td>00:00:06.98</td>\n",
       "      <td>00:00:09.49</td>\n",
       "      <td>418</td>\n",
       "      <td>569</td>\n",
       "      <td>close door</td>\n",
       "      <td>close</td>\n",
       "      <td>4</td>\n",
       "      <td>door</td>\n",
       "      <td>3</td>\n",
       "      <td>['door']</td>\n",
       "      <td>[3]</td>\n",
       "      <td>2</td>\n",
       "    </tr>\n",
       "    <tr>\n",
       "      <th>222</th>\n",
       "      <td>P01_01_3</td>\n",
       "      <td>P01</td>\n",
       "      <td>P01_01</td>\n",
       "      <td>00:00:11.040</td>\n",
       "      <td>00:00:12.77</td>\n",
       "      <td>00:00:13.99</td>\n",
       "      <td>766</td>\n",
       "      <td>839</td>\n",
       "      <td>open fridge</td>\n",
       "      <td>open</td>\n",
       "      <td>3</td>\n",
       "      <td>fridge</td>\n",
       "      <td>12</td>\n",
       "      <td>['fridge']</td>\n",
       "      <td>[12]</td>\n",
       "      <td>3</td>\n",
       "    </tr>\n",
       "    <tr>\n",
       "      <th>263</th>\n",
       "      <td>P01_01_4</td>\n",
       "      <td>P01</td>\n",
       "      <td>P01_01</td>\n",
       "      <td>00:00:13.360</td>\n",
       "      <td>00:00:15.25</td>\n",
       "      <td>00:00:16.40</td>\n",
       "      <td>915</td>\n",
       "      <td>983</td>\n",
       "      <td>take celery</td>\n",
       "      <td>take</td>\n",
       "      <td>0</td>\n",
       "      <td>celery</td>\n",
       "      <td>223</td>\n",
       "      <td>['celery']</td>\n",
       "      <td>[223]</td>\n",
       "      <td>4</td>\n",
       "    </tr>\n",
       "    <tr>\n",
       "      <th>274</th>\n",
       "      <td>P01_01_5</td>\n",
       "      <td>P01</td>\n",
       "      <td>P01_01</td>\n",
       "      <td>00:00:14.990</td>\n",
       "      <td>00:00:16.50</td>\n",
       "      <td>00:00:18.06</td>\n",
       "      <td>990</td>\n",
       "      <td>1083</td>\n",
       "      <td>take container</td>\n",
       "      <td>take</td>\n",
       "      <td>0</td>\n",
       "      <td>container</td>\n",
       "      <td>21</td>\n",
       "      <td>['container']</td>\n",
       "      <td>[21]</td>\n",
       "      <td>5</td>\n",
       "    </tr>\n",
       "    <tr>\n",
       "      <th>285</th>\n",
       "      <td>P01_01_6</td>\n",
       "      <td>P01</td>\n",
       "      <td>P01_01</td>\n",
       "      <td>00:00:18.850</td>\n",
       "      <td>00:00:18.19</td>\n",
       "      <td>00:00:21.14</td>\n",
       "      <td>1091</td>\n",
       "      <td>1268</td>\n",
       "      <td>take tofu</td>\n",
       "      <td>take</td>\n",
       "      <td>0</td>\n",
       "      <td>tofu</td>\n",
       "      <td>81</td>\n",
       "      <td>['tofu']</td>\n",
       "      <td>[81]</td>\n",
       "      <td>6</td>\n",
       "    </tr>\n",
       "    <tr>\n",
       "      <th>296</th>\n",
       "      <td>P01_01_7</td>\n",
       "      <td>P01</td>\n",
       "      <td>P01_01</td>\n",
       "      <td>00:00:20.410</td>\n",
       "      <td>00:00:21.91</td>\n",
       "      <td>00:00:23.33</td>\n",
       "      <td>1314</td>\n",
       "      <td>1399</td>\n",
       "      <td>close fridge</td>\n",
       "      <td>close</td>\n",
       "      <td>4</td>\n",
       "      <td>fridge</td>\n",
       "      <td>12</td>\n",
       "      <td>['fridge']</td>\n",
       "      <td>[12]</td>\n",
       "      <td>7</td>\n",
       "    </tr>\n",
       "    <tr>\n",
       "      <th>307</th>\n",
       "      <td>P01_01_8</td>\n",
       "      <td>P01</td>\n",
       "      <td>P01_01</td>\n",
       "      <td>00:00:21.650</td>\n",
       "      <td>00:00:23.18</td>\n",
       "      <td>00:00:24.29</td>\n",
       "      <td>1390</td>\n",
       "      <td>1457</td>\n",
       "      <td>open fridge</td>\n",
       "      <td>open</td>\n",
       "      <td>3</td>\n",
       "      <td>fridge</td>\n",
       "      <td>12</td>\n",
       "      <td>['fridge']</td>\n",
       "      <td>[12]</td>\n",
       "      <td>8</td>\n",
       "    </tr>\n",
       "    <tr>\n",
       "      <th>318</th>\n",
       "      <td>P01_01_9</td>\n",
       "      <td>P01</td>\n",
       "      <td>P01_01</td>\n",
       "      <td>00:00:24.490</td>\n",
       "      <td>00:00:24.48</td>\n",
       "      <td>00:00:27.94</td>\n",
       "      <td>1468</td>\n",
       "      <td>1676</td>\n",
       "      <td>take carrots and</td>\n",
       "      <td>take</td>\n",
       "      <td>0</td>\n",
       "      <td>carrot</td>\n",
       "      <td>41</td>\n",
       "      <td>['carrot']</td>\n",
       "      <td>[41]</td>\n",
       "      <td>9</td>\n",
       "    </tr>\n",
       "    <tr>\n",
       "      <th>2</th>\n",
       "      <td>P01_01_10</td>\n",
       "      <td>P01</td>\n",
       "      <td>P01_01</td>\n",
       "      <td>00:00:23.340</td>\n",
       "      <td>00:00:24.97</td>\n",
       "      <td>00:00:26.20</td>\n",
       "      <td>1498</td>\n",
       "      <td>1572</td>\n",
       "      <td>open drawer</td>\n",
       "      <td>open</td>\n",
       "      <td>3</td>\n",
       "      <td>drawer</td>\n",
       "      <td>8</td>\n",
       "      <td>['drawer']</td>\n",
       "      <td>[8]</td>\n",
       "      <td>10</td>\n",
       "    </tr>\n",
       "    <tr>\n",
       "      <th>13</th>\n",
       "      <td>P01_01_11</td>\n",
       "      <td>P01</td>\n",
       "      <td>P01_01</td>\n",
       "      <td>00:00:27.960</td>\n",
       "      <td>00:00:29.22</td>\n",
       "      <td>00:00:31.32</td>\n",
       "      <td>1753</td>\n",
       "      <td>1879</td>\n",
       "      <td>close fridge</td>\n",
       "      <td>close</td>\n",
       "      <td>4</td>\n",
       "      <td>fridge</td>\n",
       "      <td>12</td>\n",
       "      <td>['fridge']</td>\n",
       "      <td>[12]</td>\n",
       "      <td>11</td>\n",
       "    </tr>\n",
       "    <tr>\n",
       "      <th>23</th>\n",
       "      <td>P01_01_12</td>\n",
       "      <td>P01</td>\n",
       "      <td>P01_01</td>\n",
       "      <td>00:00:29.539</td>\n",
       "      <td>00:00:36.68</td>\n",
       "      <td>00:00:37.78</td>\n",
       "      <td>2200</td>\n",
       "      <td>2266</td>\n",
       "      <td>put down vegetables</td>\n",
       "      <td>put-down</td>\n",
       "      <td>1</td>\n",
       "      <td>vegetable</td>\n",
       "      <td>94</td>\n",
       "      <td>['vegetable']</td>\n",
       "      <td>[94]</td>\n",
       "      <td>12</td>\n",
       "    </tr>\n",
       "    <tr>\n",
       "      <th>34</th>\n",
       "      <td>P01_01_13</td>\n",
       "      <td>P01</td>\n",
       "      <td>P01_01</td>\n",
       "      <td>00:00:39.780</td>\n",
       "      <td>00:00:41.79</td>\n",
       "      <td>00:00:42.55</td>\n",
       "      <td>2507</td>\n",
       "      <td>2553</td>\n",
       "      <td>open cupboard</td>\n",
       "      <td>open</td>\n",
       "      <td>3</td>\n",
       "      <td>cupboard</td>\n",
       "      <td>3</td>\n",
       "      <td>['cupboard']</td>\n",
       "      <td>[3]</td>\n",
       "      <td>13</td>\n",
       "    </tr>\n",
       "    <tr>\n",
       "      <th>45</th>\n",
       "      <td>P01_01_14</td>\n",
       "      <td>P01</td>\n",
       "      <td>P01_01</td>\n",
       "      <td>00:00:44.140</td>\n",
       "      <td>00:00:43.20</td>\n",
       "      <td>00:00:46.64</td>\n",
       "      <td>2592</td>\n",
       "      <td>2798</td>\n",
       "      <td>take cutting board</td>\n",
       "      <td>take</td>\n",
       "      <td>0</td>\n",
       "      <td>board:cutting</td>\n",
       "      <td>18</td>\n",
       "      <td>['board:cutting']</td>\n",
       "      <td>[18]</td>\n",
       "      <td>14</td>\n",
       "    </tr>\n",
       "    <tr>\n",
       "      <th>56</th>\n",
       "      <td>P01_01_15</td>\n",
       "      <td>P01</td>\n",
       "      <td>P01_01</td>\n",
       "      <td>00:00:45.649</td>\n",
       "      <td>00:00:46.45</td>\n",
       "      <td>00:00:47.81</td>\n",
       "      <td>2787</td>\n",
       "      <td>2868</td>\n",
       "      <td>put down cutting board</td>\n",
       "      <td>put-down</td>\n",
       "      <td>1</td>\n",
       "      <td>board:cutting</td>\n",
       "      <td>18</td>\n",
       "      <td>['board:cutting']</td>\n",
       "      <td>[18]</td>\n",
       "      <td>15</td>\n",
       "    </tr>\n",
       "    <tr>\n",
       "      <th>67</th>\n",
       "      <td>P01_01_16</td>\n",
       "      <td>P01</td>\n",
       "      <td>P01_01</td>\n",
       "      <td>00:00:46.870</td>\n",
       "      <td>00:00:47.75</td>\n",
       "      <td>00:00:48.76</td>\n",
       "      <td>2865</td>\n",
       "      <td>2925</td>\n",
       "      <td>close cupboard</td>\n",
       "      <td>close</td>\n",
       "      <td>4</td>\n",
       "      <td>cupboard</td>\n",
       "      <td>3</td>\n",
       "      <td>['cupboard']</td>\n",
       "      <td>[3]</td>\n",
       "      <td>16</td>\n",
       "    </tr>\n",
       "    <tr>\n",
       "      <th>78</th>\n",
       "      <td>P01_01_17</td>\n",
       "      <td>P01</td>\n",
       "      <td>P01_01</td>\n",
       "      <td>00:00:50.360</td>\n",
       "      <td>00:00:51.66</td>\n",
       "      <td>00:00:53.00</td>\n",
       "      <td>3099</td>\n",
       "      <td>3180</td>\n",
       "      <td>open drawer</td>\n",
       "      <td>open</td>\n",
       "      <td>3</td>\n",
       "      <td>drawer</td>\n",
       "      <td>8</td>\n",
       "      <td>['drawer']</td>\n",
       "      <td>[8]</td>\n",
       "      <td>17</td>\n",
       "    </tr>\n",
       "    <tr>\n",
       "      <th>89</th>\n",
       "      <td>P01_01_18</td>\n",
       "      <td>P01</td>\n",
       "      <td>P01_01</td>\n",
       "      <td>00:00:54.670</td>\n",
       "      <td>00:00:53.50</td>\n",
       "      <td>00:00:56.00</td>\n",
       "      <td>3210</td>\n",
       "      <td>3360</td>\n",
       "      <td>take knife</td>\n",
       "      <td>take</td>\n",
       "      <td>0</td>\n",
       "      <td>knife</td>\n",
       "      <td>4</td>\n",
       "      <td>['knife']</td>\n",
       "      <td>[4]</td>\n",
       "      <td>18</td>\n",
       "    </tr>\n",
       "    <tr>\n",
       "      <th>100</th>\n",
       "      <td>P01_01_19</td>\n",
       "      <td>P01</td>\n",
       "      <td>P01_01</td>\n",
       "      <td>00:00:51.700</td>\n",
       "      <td>00:00:53.55</td>\n",
       "      <td>00:00:54.36</td>\n",
       "      <td>3213</td>\n",
       "      <td>3261</td>\n",
       "      <td>take knife</td>\n",
       "      <td>take</td>\n",
       "      <td>0</td>\n",
       "      <td>knife</td>\n",
       "      <td>4</td>\n",
       "      <td>['knife']</td>\n",
       "      <td>[4]</td>\n",
       "      <td>19</td>\n",
       "    </tr>\n",
       "    <tr>\n",
       "      <th>112</th>\n",
       "      <td>P01_01_20</td>\n",
       "      <td>P01</td>\n",
       "      <td>P01_01</td>\n",
       "      <td>00:00:56.670</td>\n",
       "      <td>00:00:54.73</td>\n",
       "      <td>00:00:55.74</td>\n",
       "      <td>3283</td>\n",
       "      <td>3344</td>\n",
       "      <td>put down knife</td>\n",
       "      <td>put-down</td>\n",
       "      <td>1</td>\n",
       "      <td>knife</td>\n",
       "      <td>4</td>\n",
       "      <td>['knife']</td>\n",
       "      <td>[4]</td>\n",
       "      <td>20</td>\n",
       "    </tr>\n",
       "    <tr>\n",
       "      <th>123</th>\n",
       "      <td>P01_01_21</td>\n",
       "      <td>P01</td>\n",
       "      <td>P01_01</td>\n",
       "      <td>00:00:55.670</td>\n",
       "      <td>00:00:56.10</td>\n",
       "      <td>00:00:56.60</td>\n",
       "      <td>3366</td>\n",
       "      <td>3396</td>\n",
       "      <td>close drawer</td>\n",
       "      <td>close</td>\n",
       "      <td>4</td>\n",
       "      <td>drawer</td>\n",
       "      <td>8</td>\n",
       "      <td>['drawer']</td>\n",
       "      <td>[8]</td>\n",
       "      <td>21</td>\n",
       "    </tr>\n",
       "    <tr>\n",
       "      <th>134</th>\n",
       "      <td>P01_01_22</td>\n",
       "      <td>P01</td>\n",
       "      <td>P01_01</td>\n",
       "      <td>00:00:53.670</td>\n",
       "      <td>00:00:57.45</td>\n",
       "      <td>00:00:58.70</td>\n",
       "      <td>3447</td>\n",
       "      <td>3522</td>\n",
       "      <td>put down knife</td>\n",
       "      <td>put-down</td>\n",
       "      <td>1</td>\n",
       "      <td>knife</td>\n",
       "      <td>4</td>\n",
       "      <td>['knife']</td>\n",
       "      <td>[4]</td>\n",
       "      <td>22</td>\n",
       "    </tr>\n",
       "    <tr>\n",
       "      <th>145</th>\n",
       "      <td>P01_01_23</td>\n",
       "      <td>P01</td>\n",
       "      <td>P01_01</td>\n",
       "      <td>00:00:59.079</td>\n",
       "      <td>00:00:59.05</td>\n",
       "      <td>00:01:02.30</td>\n",
       "      <td>3543</td>\n",
       "      <td>3738</td>\n",
       "      <td>open tap</td>\n",
       "      <td>turn-on</td>\n",
       "      <td>6</td>\n",
       "      <td>tap</td>\n",
       "      <td>0</td>\n",
       "      <td>['tap']</td>\n",
       "      <td>[0]</td>\n",
       "      <td>23</td>\n",
       "    </tr>\n",
       "    <tr>\n",
       "      <th>156</th>\n",
       "      <td>P01_01_24</td>\n",
       "      <td>P01</td>\n",
       "      <td>P01_01</td>\n",
       "      <td>00:01:00.079</td>\n",
       "      <td>00:01:01.86</td>\n",
       "      <td>00:01:05.23</td>\n",
       "      <td>3711</td>\n",
       "      <td>3913</td>\n",
       "      <td>wash courgette</td>\n",
       "      <td>wash</td>\n",
       "      <td>2</td>\n",
       "      <td>courgette</td>\n",
       "      <td>76</td>\n",
       "      <td>['courgette']</td>\n",
       "      <td>[76]</td>\n",
       "      <td>24</td>\n",
       "    </tr>\n",
       "    <tr>\n",
       "      <th>167</th>\n",
       "      <td>P01_01_25</td>\n",
       "      <td>P01</td>\n",
       "      <td>P01_01</td>\n",
       "      <td>00:01:08.109</td>\n",
       "      <td>00:01:05.20</td>\n",
       "      <td>00:01:13.13</td>\n",
       "      <td>3912</td>\n",
       "      <td>4387</td>\n",
       "      <td>still washing courgette</td>\n",
       "      <td>wash</td>\n",
       "      <td>2</td>\n",
       "      <td>courgette</td>\n",
       "      <td>76</td>\n",
       "      <td>['courgette']</td>\n",
       "      <td>[76]</td>\n",
       "      <td>25</td>\n",
       "    </tr>\n",
       "    <tr>\n",
       "      <th>178</th>\n",
       "      <td>P01_01_26</td>\n",
       "      <td>P01</td>\n",
       "      <td>P01_01</td>\n",
       "      <td>00:01:12.520</td>\n",
       "      <td>00:01:14.29</td>\n",
       "      <td>00:01:18.89</td>\n",
       "      <td>4457</td>\n",
       "      <td>4733</td>\n",
       "      <td>wash carrot</td>\n",
       "      <td>wash</td>\n",
       "      <td>2</td>\n",
       "      <td>carrot</td>\n",
       "      <td>41</td>\n",
       "      <td>['carrot']</td>\n",
       "      <td>[41]</td>\n",
       "      <td>26</td>\n",
       "    </tr>\n",
       "    <tr>\n",
       "      <th>189</th>\n",
       "      <td>P01_01_27</td>\n",
       "      <td>P01</td>\n",
       "      <td>P01_01</td>\n",
       "      <td>00:01:18.789</td>\n",
       "      <td>00:01:18.99</td>\n",
       "      <td>00:01:22.79</td>\n",
       "      <td>4739</td>\n",
       "      <td>4967</td>\n",
       "      <td>still washing carrot</td>\n",
       "      <td>wash</td>\n",
       "      <td>2</td>\n",
       "      <td>carrot</td>\n",
       "      <td>41</td>\n",
       "      <td>['carrot']</td>\n",
       "      <td>[41]</td>\n",
       "      <td>27</td>\n",
       "    </tr>\n",
       "    <tr>\n",
       "      <th>200</th>\n",
       "      <td>P01_01_28</td>\n",
       "      <td>P01</td>\n",
       "      <td>P01_01</td>\n",
       "      <td>00:01:20.469</td>\n",
       "      <td>00:01:22.19</td>\n",
       "      <td>00:01:23.19</td>\n",
       "      <td>4931</td>\n",
       "      <td>4991</td>\n",
       "      <td>close tap</td>\n",
       "      <td>turn-off</td>\n",
       "      <td>8</td>\n",
       "      <td>tap</td>\n",
       "      <td>0</td>\n",
       "      <td>['tap']</td>\n",
       "      <td>[0]</td>\n",
       "      <td>28</td>\n",
       "    </tr>\n",
       "    <tr>\n",
       "      <th>211</th>\n",
       "      <td>P01_01_29</td>\n",
       "      <td>P01</td>\n",
       "      <td>P01_01</td>\n",
       "      <td>00:01:24.229</td>\n",
       "      <td>00:01:25.49</td>\n",
       "      <td>00:01:26.49</td>\n",
       "      <td>5129</td>\n",
       "      <td>5189</td>\n",
       "      <td>put down vegetables</td>\n",
       "      <td>put-down</td>\n",
       "      <td>1</td>\n",
       "      <td>vegetable</td>\n",
       "      <td>94</td>\n",
       "      <td>['vegetable']</td>\n",
       "      <td>[94]</td>\n",
       "      <td>29</td>\n",
       "    </tr>\n",
       "    <tr>\n",
       "      <th>223</th>\n",
       "      <td>P01_01_30</td>\n",
       "      <td>P01</td>\n",
       "      <td>P01_01</td>\n",
       "      <td>00:01:26.310</td>\n",
       "      <td>00:01:27.43</td>\n",
       "      <td>00:01:28.29</td>\n",
       "      <td>5245</td>\n",
       "      <td>5297</td>\n",
       "      <td>open cupboard</td>\n",
       "      <td>open</td>\n",
       "      <td>3</td>\n",
       "      <td>cupboard</td>\n",
       "      <td>3</td>\n",
       "      <td>['cupboard']</td>\n",
       "      <td>[3]</td>\n",
       "      <td>30</td>\n",
       "    </tr>\n",
       "    <tr>\n",
       "      <th>234</th>\n",
       "      <td>P01_01_31</td>\n",
       "      <td>P01</td>\n",
       "      <td>P01_01</td>\n",
       "      <td>00:01:32.149</td>\n",
       "      <td>00:01:32.53</td>\n",
       "      <td>00:01:34.09</td>\n",
       "      <td>5551</td>\n",
       "      <td>5645</td>\n",
       "      <td>take grater</td>\n",
       "      <td>take</td>\n",
       "      <td>0</td>\n",
       "      <td>grater</td>\n",
       "      <td>96</td>\n",
       "      <td>['grater']</td>\n",
       "      <td>[96]</td>\n",
       "      <td>31</td>\n",
       "    </tr>\n",
       "    <tr>\n",
       "      <th>245</th>\n",
       "      <td>P01_01_32</td>\n",
       "      <td>P01</td>\n",
       "      <td>P01_01</td>\n",
       "      <td>00:01:37.630</td>\n",
       "      <td>00:01:35.28</td>\n",
       "      <td>00:01:39.56</td>\n",
       "      <td>5716</td>\n",
       "      <td>5973</td>\n",
       "      <td>take pan</td>\n",
       "      <td>take</td>\n",
       "      <td>0</td>\n",
       "      <td>pan</td>\n",
       "      <td>5</td>\n",
       "      <td>['pan']</td>\n",
       "      <td>[5]</td>\n",
       "      <td>32</td>\n",
       "    </tr>\n",
       "    <tr>\n",
       "      <th>256</th>\n",
       "      <td>P01_01_33</td>\n",
       "      <td>P01</td>\n",
       "      <td>P01_01</td>\n",
       "      <td>00:01:39.149</td>\n",
       "      <td>00:01:40.74</td>\n",
       "      <td>00:01:42.26</td>\n",
       "      <td>6044</td>\n",
       "      <td>6135</td>\n",
       "      <td>put down pan</td>\n",
       "      <td>put-down</td>\n",
       "      <td>1</td>\n",
       "      <td>pan</td>\n",
       "      <td>5</td>\n",
       "      <td>['pan']</td>\n",
       "      <td>[5]</td>\n",
       "      <td>33</td>\n",
       "    </tr>\n",
       "    <tr>\n",
       "      <th>257</th>\n",
       "      <td>P01_01_34</td>\n",
       "      <td>P01</td>\n",
       "      <td>P01_01</td>\n",
       "      <td>00:01:41.340</td>\n",
       "      <td>00:01:41.66</td>\n",
       "      <td>00:01:42.41</td>\n",
       "      <td>6099</td>\n",
       "      <td>6144</td>\n",
       "      <td>close cupboard</td>\n",
       "      <td>close</td>\n",
       "      <td>4</td>\n",
       "      <td>cupboard</td>\n",
       "      <td>3</td>\n",
       "      <td>['cupboard']</td>\n",
       "      <td>[3]</td>\n",
       "      <td>34</td>\n",
       "    </tr>\n",
       "    <tr>\n",
       "      <th>258</th>\n",
       "      <td>P01_01_35</td>\n",
       "      <td>P01</td>\n",
       "      <td>P01_01</td>\n",
       "      <td>00:01:40.169</td>\n",
       "      <td>00:01:43.02</td>\n",
       "      <td>00:01:43.77</td>\n",
       "      <td>6181</td>\n",
       "      <td>6226</td>\n",
       "      <td>close cupboard</td>\n",
       "      <td>close</td>\n",
       "      <td>4</td>\n",
       "      <td>cupboard</td>\n",
       "      <td>3</td>\n",
       "      <td>['cupboard']</td>\n",
       "      <td>[3]</td>\n",
       "      <td>35</td>\n",
       "    </tr>\n",
       "    <tr>\n",
       "      <th>259</th>\n",
       "      <td>P01_01_36</td>\n",
       "      <td>P01</td>\n",
       "      <td>P01_01</td>\n",
       "      <td>00:01:43.579</td>\n",
       "      <td>00:01:44.10</td>\n",
       "      <td>00:01:45.22</td>\n",
       "      <td>6246</td>\n",
       "      <td>6313</td>\n",
       "      <td>take courgette</td>\n",
       "      <td>take</td>\n",
       "      <td>0</td>\n",
       "      <td>courgette</td>\n",
       "      <td>76</td>\n",
       "      <td>['courgette']</td>\n",
       "      <td>[76]</td>\n",
       "      <td>36</td>\n",
       "    </tr>\n",
       "    <tr>\n",
       "      <th>260</th>\n",
       "      <td>P01_01_37</td>\n",
       "      <td>P01</td>\n",
       "      <td>P01_01</td>\n",
       "      <td>00:01:44.579</td>\n",
       "      <td>00:01:45.69</td>\n",
       "      <td>00:02:02.03</td>\n",
       "      <td>6341</td>\n",
       "      <td>7321</td>\n",
       "      <td>cut courgette</td>\n",
       "      <td>cut</td>\n",
       "      <td>7</td>\n",
       "      <td>courgette</td>\n",
       "      <td>76</td>\n",
       "      <td>['courgette']</td>\n",
       "      <td>[76]</td>\n",
       "      <td>37</td>\n",
       "    </tr>\n",
       "    <tr>\n",
       "      <th>261</th>\n",
       "      <td>P01_01_38</td>\n",
       "      <td>P01</td>\n",
       "      <td>P01_01</td>\n",
       "      <td>00:02:04.479</td>\n",
       "      <td>00:02:02.13</td>\n",
       "      <td>00:02:06.98</td>\n",
       "      <td>7327</td>\n",
       "      <td>7618</td>\n",
       "      <td>turn on hob</td>\n",
       "      <td>turn-on</td>\n",
       "      <td>6</td>\n",
       "      <td>hob</td>\n",
       "      <td>24</td>\n",
       "      <td>['hob']</td>\n",
       "      <td>[24]</td>\n",
       "      <td>38</td>\n",
       "    </tr>\n",
       "    <tr>\n",
       "      <th>262</th>\n",
       "      <td>P01_01_39</td>\n",
       "      <td>P01</td>\n",
       "      <td>P01_01</td>\n",
       "      <td>00:02:05.479</td>\n",
       "      <td>00:02:07.80</td>\n",
       "      <td>00:02:24.89</td>\n",
       "      <td>7668</td>\n",
       "      <td>8693</td>\n",
       "      <td>cut courgette</td>\n",
       "      <td>cut</td>\n",
       "      <td>7</td>\n",
       "      <td>courgette</td>\n",
       "      <td>76</td>\n",
       "      <td>['courgette']</td>\n",
       "      <td>[76]</td>\n",
       "      <td>39</td>\n",
       "    </tr>\n",
       "    <tr>\n",
       "      <th>264</th>\n",
       "      <td>P01_01_40</td>\n",
       "      <td>P01</td>\n",
       "      <td>P01_01</td>\n",
       "      <td>00:02:17.530</td>\n",
       "      <td>00:02:10.99</td>\n",
       "      <td>00:02:25.79</td>\n",
       "      <td>7859</td>\n",
       "      <td>8747</td>\n",
       "      <td>still cutting courgette</td>\n",
       "      <td>cut</td>\n",
       "      <td>7</td>\n",
       "      <td>courgette</td>\n",
       "      <td>76</td>\n",
       "      <td>['courgette']</td>\n",
       "      <td>[76]</td>\n",
       "      <td>40</td>\n",
       "    </tr>\n",
       "    <tr>\n",
       "      <th>265</th>\n",
       "      <td>P01_01_41</td>\n",
       "      <td>P01</td>\n",
       "      <td>P01_01</td>\n",
       "      <td>00:02:30.379</td>\n",
       "      <td>00:02:30.53</td>\n",
       "      <td>00:02:45.65</td>\n",
       "      <td>9031</td>\n",
       "      <td>9939</td>\n",
       "      <td>dicing courgette</td>\n",
       "      <td>dice</td>\n",
       "      <td>7</td>\n",
       "      <td>courgette</td>\n",
       "      <td>76</td>\n",
       "      <td>['courgette']</td>\n",
       "      <td>[76]</td>\n",
       "      <td>41</td>\n",
       "    </tr>\n",
       "    <tr>\n",
       "      <th>266</th>\n",
       "      <td>P01_01_42</td>\n",
       "      <td>P01</td>\n",
       "      <td>P01_01</td>\n",
       "      <td>00:02:48.780</td>\n",
       "      <td>00:02:45.75</td>\n",
       "      <td>00:03:00.28</td>\n",
       "      <td>9945</td>\n",
       "      <td>10816</td>\n",
       "      <td>still dicing courgette</td>\n",
       "      <td>dice</td>\n",
       "      <td>7</td>\n",
       "      <td>courgette</td>\n",
       "      <td>76</td>\n",
       "      <td>['courgette']</td>\n",
       "      <td>[76]</td>\n",
       "      <td>42</td>\n",
       "    </tr>\n",
       "    <tr>\n",
       "      <th>267</th>\n",
       "      <td>P01_01_43</td>\n",
       "      <td>P01</td>\n",
       "      <td>P01_01</td>\n",
       "      <td>00:02:50.170</td>\n",
       "      <td>00:03:00.38</td>\n",
       "      <td>00:03:13.90</td>\n",
       "      <td>10822</td>\n",
       "      <td>11634</td>\n",
       "      <td>still dicing courgette</td>\n",
       "      <td>dice</td>\n",
       "      <td>7</td>\n",
       "      <td>courgette</td>\n",
       "      <td>76</td>\n",
       "      <td>['courgette']</td>\n",
       "      <td>[76]</td>\n",
       "      <td>43</td>\n",
       "    </tr>\n",
       "    <tr>\n",
       "      <th>268</th>\n",
       "      <td>P01_01_44</td>\n",
       "      <td>P01</td>\n",
       "      <td>P01_01</td>\n",
       "      <td>00:03:41.969</td>\n",
       "      <td>00:03:59.04</td>\n",
       "      <td>00:04:08.81</td>\n",
       "      <td>14342</td>\n",
       "      <td>14928</td>\n",
       "      <td>still dicing courgette</td>\n",
       "      <td>dice</td>\n",
       "      <td>7</td>\n",
       "      <td>courgette</td>\n",
       "      <td>76</td>\n",
       "      <td>['courgette']</td>\n",
       "      <td>[76]</td>\n",
       "      <td>44</td>\n",
       "    </tr>\n",
       "    <tr>\n",
       "      <th>269</th>\n",
       "      <td>P01_01_45</td>\n",
       "      <td>P01</td>\n",
       "      <td>P01_01</td>\n",
       "      <td>00:04:08.370</td>\n",
       "      <td>00:04:10.05</td>\n",
       "      <td>00:04:17.87</td>\n",
       "      <td>15003</td>\n",
       "      <td>15472</td>\n",
       "      <td>pour courgette onto pan</td>\n",
       "      <td>pour-onto</td>\n",
       "      <td>9</td>\n",
       "      <td>courgette</td>\n",
       "      <td>76</td>\n",
       "      <td>['courgette', 'pan']</td>\n",
       "      <td>[76, 5]</td>\n",
       "      <td>45</td>\n",
       "    </tr>\n",
       "    <tr>\n",
       "      <th>270</th>\n",
       "      <td>P01_01_46</td>\n",
       "      <td>P01</td>\n",
       "      <td>P01_01</td>\n",
       "      <td>00:04:21.120</td>\n",
       "      <td>00:04:21.69</td>\n",
       "      <td>00:04:24.65</td>\n",
       "      <td>15701</td>\n",
       "      <td>15878</td>\n",
       "      <td>throw courgette into rubbish bin</td>\n",
       "      <td>throw-into</td>\n",
       "      <td>13</td>\n",
       "      <td>courgette</td>\n",
       "      <td>76</td>\n",
       "      <td>['courgette', 'bin:rubbish']</td>\n",
       "      <td>[76, 36]</td>\n",
       "      <td>46</td>\n",
       "    </tr>\n",
       "    <tr>\n",
       "      <th>271</th>\n",
       "      <td>P01_01_47</td>\n",
       "      <td>P01</td>\n",
       "      <td>P01_01</td>\n",
       "      <td>00:04:23.199</td>\n",
       "      <td>00:04:25.06</td>\n",
       "      <td>00:04:26.44</td>\n",
       "      <td>15903</td>\n",
       "      <td>15986</td>\n",
       "      <td>open drawer</td>\n",
       "      <td>open</td>\n",
       "      <td>3</td>\n",
       "      <td>drawer</td>\n",
       "      <td>8</td>\n",
       "      <td>['drawer']</td>\n",
       "      <td>[8]</td>\n",
       "      <td>47</td>\n",
       "    </tr>\n",
       "    <tr>\n",
       "      <th>272</th>\n",
       "      <td>P01_01_48</td>\n",
       "      <td>P01</td>\n",
       "      <td>P01_01</td>\n",
       "      <td>00:04:26.970</td>\n",
       "      <td>00:04:28.57</td>\n",
       "      <td>00:04:29.24</td>\n",
       "      <td>16114</td>\n",
       "      <td>16154</td>\n",
       "      <td>close drawer</td>\n",
       "      <td>close</td>\n",
       "      <td>4</td>\n",
       "      <td>drawer</td>\n",
       "      <td>8</td>\n",
       "      <td>['drawer']</td>\n",
       "      <td>[8]</td>\n",
       "      <td>48</td>\n",
       "    </tr>\n",
       "    <tr>\n",
       "      <th>273</th>\n",
       "      <td>P01_01_49</td>\n",
       "      <td>P01</td>\n",
       "      <td>P01_01</td>\n",
       "      <td>00:04:29.020</td>\n",
       "      <td>00:04:30.43</td>\n",
       "      <td>00:04:32.16</td>\n",
       "      <td>16225</td>\n",
       "      <td>16329</td>\n",
       "      <td>take spatula</td>\n",
       "      <td>take</td>\n",
       "      <td>0</td>\n",
       "      <td>spatula</td>\n",
       "      <td>20</td>\n",
       "      <td>['spatula']</td>\n",
       "      <td>[20]</td>\n",
       "      <td>49</td>\n",
       "    </tr>\n",
       "  </tbody>\n",
       "</table>\n",
       "</div>"
      ],
      "text/plain": [
       "    narration_id participant_id video_id narration_timestamp start_timestamp  \\\n",
       "0       P01_01_0            P01   P01_01        00:00:01.089     00:00:00.14   \n",
       "1       P01_01_1            P01   P01_01        00:00:02.629     00:00:04.37   \n",
       "111     P01_01_2            P01   P01_01        00:00:05.349     00:00:06.98   \n",
       "222     P01_01_3            P01   P01_01        00:00:11.040     00:00:12.77   \n",
       "263     P01_01_4            P01   P01_01        00:00:13.360     00:00:15.25   \n",
       "274     P01_01_5            P01   P01_01        00:00:14.990     00:00:16.50   \n",
       "285     P01_01_6            P01   P01_01        00:00:18.850     00:00:18.19   \n",
       "296     P01_01_7            P01   P01_01        00:00:20.410     00:00:21.91   \n",
       "307     P01_01_8            P01   P01_01        00:00:21.650     00:00:23.18   \n",
       "318     P01_01_9            P01   P01_01        00:00:24.490     00:00:24.48   \n",
       "2      P01_01_10            P01   P01_01        00:00:23.340     00:00:24.97   \n",
       "13     P01_01_11            P01   P01_01        00:00:27.960     00:00:29.22   \n",
       "23     P01_01_12            P01   P01_01        00:00:29.539     00:00:36.68   \n",
       "34     P01_01_13            P01   P01_01        00:00:39.780     00:00:41.79   \n",
       "45     P01_01_14            P01   P01_01        00:00:44.140     00:00:43.20   \n",
       "56     P01_01_15            P01   P01_01        00:00:45.649     00:00:46.45   \n",
       "67     P01_01_16            P01   P01_01        00:00:46.870     00:00:47.75   \n",
       "78     P01_01_17            P01   P01_01        00:00:50.360     00:00:51.66   \n",
       "89     P01_01_18            P01   P01_01        00:00:54.670     00:00:53.50   \n",
       "100    P01_01_19            P01   P01_01        00:00:51.700     00:00:53.55   \n",
       "112    P01_01_20            P01   P01_01        00:00:56.670     00:00:54.73   \n",
       "123    P01_01_21            P01   P01_01        00:00:55.670     00:00:56.10   \n",
       "134    P01_01_22            P01   P01_01        00:00:53.670     00:00:57.45   \n",
       "145    P01_01_23            P01   P01_01        00:00:59.079     00:00:59.05   \n",
       "156    P01_01_24            P01   P01_01        00:01:00.079     00:01:01.86   \n",
       "167    P01_01_25            P01   P01_01        00:01:08.109     00:01:05.20   \n",
       "178    P01_01_26            P01   P01_01        00:01:12.520     00:01:14.29   \n",
       "189    P01_01_27            P01   P01_01        00:01:18.789     00:01:18.99   \n",
       "200    P01_01_28            P01   P01_01        00:01:20.469     00:01:22.19   \n",
       "211    P01_01_29            P01   P01_01        00:01:24.229     00:01:25.49   \n",
       "223    P01_01_30            P01   P01_01        00:01:26.310     00:01:27.43   \n",
       "234    P01_01_31            P01   P01_01        00:01:32.149     00:01:32.53   \n",
       "245    P01_01_32            P01   P01_01        00:01:37.630     00:01:35.28   \n",
       "256    P01_01_33            P01   P01_01        00:01:39.149     00:01:40.74   \n",
       "257    P01_01_34            P01   P01_01        00:01:41.340     00:01:41.66   \n",
       "258    P01_01_35            P01   P01_01        00:01:40.169     00:01:43.02   \n",
       "259    P01_01_36            P01   P01_01        00:01:43.579     00:01:44.10   \n",
       "260    P01_01_37            P01   P01_01        00:01:44.579     00:01:45.69   \n",
       "261    P01_01_38            P01   P01_01        00:02:04.479     00:02:02.13   \n",
       "262    P01_01_39            P01   P01_01        00:02:05.479     00:02:07.80   \n",
       "264    P01_01_40            P01   P01_01        00:02:17.530     00:02:10.99   \n",
       "265    P01_01_41            P01   P01_01        00:02:30.379     00:02:30.53   \n",
       "266    P01_01_42            P01   P01_01        00:02:48.780     00:02:45.75   \n",
       "267    P01_01_43            P01   P01_01        00:02:50.170     00:03:00.38   \n",
       "268    P01_01_44            P01   P01_01        00:03:41.969     00:03:59.04   \n",
       "269    P01_01_45            P01   P01_01        00:04:08.370     00:04:10.05   \n",
       "270    P01_01_46            P01   P01_01        00:04:21.120     00:04:21.69   \n",
       "271    P01_01_47            P01   P01_01        00:04:23.199     00:04:25.06   \n",
       "272    P01_01_48            P01   P01_01        00:04:26.970     00:04:28.57   \n",
       "273    P01_01_49            P01   P01_01        00:04:29.020     00:04:30.43   \n",
       "\n",
       "    stop_timestamp  start_frame  stop_frame                         narration  \\\n",
       "0      00:00:03.37            8         202                         open door   \n",
       "1      00:00:06.17          262         370                     turn on light   \n",
       "111    00:00:09.49          418         569                        close door   \n",
       "222    00:00:13.99          766         839                       open fridge   \n",
       "263    00:00:16.40          915         983                       take celery   \n",
       "274    00:00:18.06          990        1083                    take container   \n",
       "285    00:00:21.14         1091        1268                         take tofu   \n",
       "296    00:00:23.33         1314        1399                      close fridge   \n",
       "307    00:00:24.29         1390        1457                       open fridge   \n",
       "318    00:00:27.94         1468        1676                  take carrots and   \n",
       "2      00:00:26.20         1498        1572                       open drawer   \n",
       "13     00:00:31.32         1753        1879                      close fridge   \n",
       "23     00:00:37.78         2200        2266               put down vegetables   \n",
       "34     00:00:42.55         2507        2553                     open cupboard   \n",
       "45     00:00:46.64         2592        2798                take cutting board   \n",
       "56     00:00:47.81         2787        2868            put down cutting board   \n",
       "67     00:00:48.76         2865        2925                    close cupboard   \n",
       "78     00:00:53.00         3099        3180                       open drawer   \n",
       "89     00:00:56.00         3210        3360                        take knife   \n",
       "100    00:00:54.36         3213        3261                        take knife   \n",
       "112    00:00:55.74         3283        3344                    put down knife   \n",
       "123    00:00:56.60         3366        3396                      close drawer   \n",
       "134    00:00:58.70         3447        3522                    put down knife   \n",
       "145    00:01:02.30         3543        3738                          open tap   \n",
       "156    00:01:05.23         3711        3913                    wash courgette   \n",
       "167    00:01:13.13         3912        4387           still washing courgette   \n",
       "178    00:01:18.89         4457        4733                       wash carrot   \n",
       "189    00:01:22.79         4739        4967              still washing carrot   \n",
       "200    00:01:23.19         4931        4991                         close tap   \n",
       "211    00:01:26.49         5129        5189               put down vegetables   \n",
       "223    00:01:28.29         5245        5297                     open cupboard   \n",
       "234    00:01:34.09         5551        5645                       take grater   \n",
       "245    00:01:39.56         5716        5973                          take pan   \n",
       "256    00:01:42.26         6044        6135                      put down pan   \n",
       "257    00:01:42.41         6099        6144                    close cupboard   \n",
       "258    00:01:43.77         6181        6226                    close cupboard   \n",
       "259    00:01:45.22         6246        6313                    take courgette   \n",
       "260    00:02:02.03         6341        7321                     cut courgette   \n",
       "261    00:02:06.98         7327        7618                       turn on hob   \n",
       "262    00:02:24.89         7668        8693                     cut courgette   \n",
       "264    00:02:25.79         7859        8747           still cutting courgette   \n",
       "265    00:02:45.65         9031        9939                  dicing courgette   \n",
       "266    00:03:00.28         9945       10816            still dicing courgette   \n",
       "267    00:03:13.90        10822       11634            still dicing courgette   \n",
       "268    00:04:08.81        14342       14928            still dicing courgette   \n",
       "269    00:04:17.87        15003       15472           pour courgette onto pan   \n",
       "270    00:04:24.65        15701       15878  throw courgette into rubbish bin   \n",
       "271    00:04:26.44        15903       15986                       open drawer   \n",
       "272    00:04:29.24        16114       16154                      close drawer   \n",
       "273    00:04:32.16        16225       16329                      take spatula   \n",
       "\n",
       "           verb  verb_class           noun  noun_class  \\\n",
       "0          open           3           door           3   \n",
       "1       turn-on           6          light         114   \n",
       "111       close           4           door           3   \n",
       "222        open           3         fridge          12   \n",
       "263        take           0         celery         223   \n",
       "274        take           0      container          21   \n",
       "285        take           0           tofu          81   \n",
       "296       close           4         fridge          12   \n",
       "307        open           3         fridge          12   \n",
       "318        take           0         carrot          41   \n",
       "2          open           3         drawer           8   \n",
       "13        close           4         fridge          12   \n",
       "23     put-down           1      vegetable          94   \n",
       "34         open           3       cupboard           3   \n",
       "45         take           0  board:cutting          18   \n",
       "56     put-down           1  board:cutting          18   \n",
       "67        close           4       cupboard           3   \n",
       "78         open           3         drawer           8   \n",
       "89         take           0          knife           4   \n",
       "100        take           0          knife           4   \n",
       "112    put-down           1          knife           4   \n",
       "123       close           4         drawer           8   \n",
       "134    put-down           1          knife           4   \n",
       "145     turn-on           6            tap           0   \n",
       "156        wash           2      courgette          76   \n",
       "167        wash           2      courgette          76   \n",
       "178        wash           2         carrot          41   \n",
       "189        wash           2         carrot          41   \n",
       "200    turn-off           8            tap           0   \n",
       "211    put-down           1      vegetable          94   \n",
       "223        open           3       cupboard           3   \n",
       "234        take           0         grater          96   \n",
       "245        take           0            pan           5   \n",
       "256    put-down           1            pan           5   \n",
       "257       close           4       cupboard           3   \n",
       "258       close           4       cupboard           3   \n",
       "259        take           0      courgette          76   \n",
       "260         cut           7      courgette          76   \n",
       "261     turn-on           6            hob          24   \n",
       "262         cut           7      courgette          76   \n",
       "264         cut           7      courgette          76   \n",
       "265        dice           7      courgette          76   \n",
       "266        dice           7      courgette          76   \n",
       "267        dice           7      courgette          76   \n",
       "268        dice           7      courgette          76   \n",
       "269   pour-onto           9      courgette          76   \n",
       "270  throw-into          13      courgette          76   \n",
       "271        open           3         drawer           8   \n",
       "272       close           4         drawer           8   \n",
       "273        take           0        spatula          20   \n",
       "\n",
       "                        all_nouns all_noun_classes  narration_number  \n",
       "0                        ['door']              [3]                 0  \n",
       "1                       ['light']            [114]                 1  \n",
       "111                      ['door']              [3]                 2  \n",
       "222                    ['fridge']             [12]                 3  \n",
       "263                    ['celery']            [223]                 4  \n",
       "274                 ['container']             [21]                 5  \n",
       "285                      ['tofu']             [81]                 6  \n",
       "296                    ['fridge']             [12]                 7  \n",
       "307                    ['fridge']             [12]                 8  \n",
       "318                    ['carrot']             [41]                 9  \n",
       "2                      ['drawer']              [8]                10  \n",
       "13                     ['fridge']             [12]                11  \n",
       "23                  ['vegetable']             [94]                12  \n",
       "34                   ['cupboard']              [3]                13  \n",
       "45              ['board:cutting']             [18]                14  \n",
       "56              ['board:cutting']             [18]                15  \n",
       "67                   ['cupboard']              [3]                16  \n",
       "78                     ['drawer']              [8]                17  \n",
       "89                      ['knife']              [4]                18  \n",
       "100                     ['knife']              [4]                19  \n",
       "112                     ['knife']              [4]                20  \n",
       "123                    ['drawer']              [8]                21  \n",
       "134                     ['knife']              [4]                22  \n",
       "145                       ['tap']              [0]                23  \n",
       "156                 ['courgette']             [76]                24  \n",
       "167                 ['courgette']             [76]                25  \n",
       "178                    ['carrot']             [41]                26  \n",
       "189                    ['carrot']             [41]                27  \n",
       "200                       ['tap']              [0]                28  \n",
       "211                 ['vegetable']             [94]                29  \n",
       "223                  ['cupboard']              [3]                30  \n",
       "234                    ['grater']             [96]                31  \n",
       "245                       ['pan']              [5]                32  \n",
       "256                       ['pan']              [5]                33  \n",
       "257                  ['cupboard']              [3]                34  \n",
       "258                  ['cupboard']              [3]                35  \n",
       "259                 ['courgette']             [76]                36  \n",
       "260                 ['courgette']             [76]                37  \n",
       "261                       ['hob']             [24]                38  \n",
       "262                 ['courgette']             [76]                39  \n",
       "264                 ['courgette']             [76]                40  \n",
       "265                 ['courgette']             [76]                41  \n",
       "266                 ['courgette']             [76]                42  \n",
       "267                 ['courgette']             [76]                43  \n",
       "268                 ['courgette']             [76]                44  \n",
       "269          ['courgette', 'pan']          [76, 5]                45  \n",
       "270  ['courgette', 'bin:rubbish']         [76, 36]                46  \n",
       "271                    ['drawer']              [8]                47  \n",
       "272                    ['drawer']              [8]                48  \n",
       "273                   ['spatula']             [20]                49  "
      ]
     },
     "execution_count": 5,
     "metadata": {},
     "output_type": "execute_result"
    }
   ],
   "source": [
    "train_annotations = add_narration_number(train_annotations)\n",
    "print(type(train_annotations[\"narration_number\"].iloc[0]))\n",
    "train_annotations = train_annotations.sort_values(by=['video_id','start_frame'])\n",
    "train_annotations.head(50)"
   ]
  },
  {
   "cell_type": "markdown",
   "id": "b5eaa99d",
   "metadata": {},
   "source": [
    "## Alternatives given narration overlap:\n",
    "1. Consider only actions that happen after start time\n",
    "2. Consider only actions that happen after end time\n",
    "3. Consider only actions that end after end time\n",
    "4. Combination of the options above\n",
    "\n",
    "Problem: \n",
    "a. some actions overlap almost perfectly \n",
    "b. some of these are repeated actions\n",
    "\n",
    "\n",
    "**Current solution: only counting actions that a) start after the current action has started, and b) start at most one second before the end of the current action**\n"
   ]
  },
  {
   "cell_type": "code",
   "execution_count": 7,
   "id": "8e3ae862",
   "metadata": {},
   "outputs": [
    {
     "name": "stderr",
     "output_type": "stream",
     "text": [
      "/home/camilo/Dropbox/Graduate Studies/MIT/Research/frl_projects/frl_causality_project/build_causality_matrix.py:139: FutureWarning: The default value of regex will change from True to False in a future version. In addition, single character regular expressions will*not* be treated as literal strings when regex=True.\n",
      "  df[\"verb_nouns\"] = df[\"verb_nouns\"].str.replace(\"[\",\"\")\n",
      "/home/camilo/Dropbox/Graduate Studies/MIT/Research/frl_projects/frl_causality_project/build_causality_matrix.py:140: FutureWarning: The default value of regex will change from True to False in a future version. In addition, single character regular expressions will*not* be treated as literal strings when regex=True.\n",
      "  df[\"verb_nouns\"] = df[\"verb_nouns\"].str.replace(\"]\",\"\")\n"
     ]
    },
    {
     "name": "stdout",
     "output_type": "stream",
     "text": [
      "len(unique_nv_combos) 13656\n"
     ]
    }
   ],
   "source": [
    "train_annotations = prepare_EK_df(train_annotations)\n",
    "empty_cm = init_causality_matrix(get_unique_nv_combos(train_annotations))"
   ]
  },
  {
   "cell_type": "code",
   "execution_count": 7,
   "id": "c65b495f",
   "metadata": {},
   "outputs": [
    {
     "name": "stderr",
     "output_type": "stream",
     "text": [
      "  0%|          | 0/495 [00:00<?, ?it/s]"
     ]
    },
    {
     "name": "stdout",
     "output_type": "stream",
     "text": [
      "len(unique_nv_combos) 13656\n",
      "Causality matrix initialized\n",
      "looking at group P01_01 with len 329\n"
     ]
    },
    {
     "name": "stderr",
     "output_type": "stream",
     "text": [
      "  0%|          | 1/495 [00:37<5:12:23, 37.94s/it]"
     ]
    },
    {
     "name": "stdout",
     "output_type": "stream",
     "text": [
      "looking at group P01_02 with len 145\n"
     ]
    },
    {
     "name": "stderr",
     "output_type": "stream",
     "text": [
      "  0%|          | 2/495 [00:45<2:46:42, 20.29s/it]"
     ]
    },
    {
     "name": "stdout",
     "output_type": "stream",
     "text": [
      "looking at group P01_03 with len 42\n"
     ]
    },
    {
     "name": "stderr",
     "output_type": "stream",
     "text": [
      "  1%|          | 3/495 [00:46<1:32:37, 11.29s/it]"
     ]
    },
    {
     "name": "stdout",
     "output_type": "stream",
     "text": [
      "looking at group P01_04 with len 32\n"
     ]
    },
    {
     "name": "stderr",
     "output_type": "stream",
     "text": [
      "  1%|          | 4/495 [00:46<57:01,  6.97s/it]  "
     ]
    },
    {
     "name": "stdout",
     "output_type": "stream",
     "text": [
      "looking at group P01_05 with len 259\n"
     ]
    },
    {
     "name": "stderr",
     "output_type": "stream",
     "text": [
      "  1%|          | 5/495 [01:09<1:44:03, 12.74s/it]"
     ]
    },
    {
     "name": "stdout",
     "output_type": "stream",
     "text": [
      "looking at group P01_06 with len 119\n"
     ]
    },
    {
     "name": "stderr",
     "output_type": "stream",
     "text": [
      "  1%|          | 6/495 [01:14<1:21:50, 10.04s/it]"
     ]
    },
    {
     "name": "stdout",
     "output_type": "stream",
     "text": [
      "looking at group P01_07 with len 57\n"
     ]
    },
    {
     "name": "stderr",
     "output_type": "stream",
     "text": [
      "  1%|▏         | 7/495 [01:15<57:55,  7.12s/it]  "
     ]
    },
    {
     "name": "stdout",
     "output_type": "stream",
     "text": [
      "looking at group P01_08 with len 32\n"
     ]
    },
    {
     "name": "stderr",
     "output_type": "stream",
     "text": [
      "  2%|▏         | 8/495 [01:15<40:10,  4.95s/it]"
     ]
    },
    {
     "name": "stdout",
     "output_type": "stream",
     "text": [
      "looking at group P01_09 with len 881\n"
     ]
    },
    {
     "name": "stderr",
     "output_type": "stream",
     "text": [
      "  2%|▏         | 10/495 [04:46<6:26:16, 47.79s/it]"
     ]
    },
    {
     "name": "stdout",
     "output_type": "stream",
     "text": [
      "looking at group P01_10 with len 26\n",
      "looking at group P01_102 with len 127\n"
     ]
    },
    {
     "name": "stderr",
     "output_type": "stream",
     "text": [
      "  2%|▏         | 11/495 [04:50<4:38:27, 34.52s/it]"
     ]
    },
    {
     "name": "stdout",
     "output_type": "stream",
     "text": [
      "looking at group P01_103 with len 98\n"
     ]
    },
    {
     "name": "stderr",
     "output_type": "stream",
     "text": [
      "  2%|▏         | 12/495 [04:53<3:19:47, 24.82s/it]"
     ]
    },
    {
     "name": "stdout",
     "output_type": "stream",
     "text": [
      "looking at group P01_104 with len 93\n"
     ]
    },
    {
     "name": "stderr",
     "output_type": "stream",
     "text": [
      "  3%|▎         | 13/495 [04:55<2:24:16, 17.96s/it]"
     ]
    },
    {
     "name": "stdout",
     "output_type": "stream",
     "text": [
      "looking at group P01_105 with len 790\n"
     ]
    },
    {
     "name": "stderr",
     "output_type": "stream",
     "text": [
      "  3%|▎         | 14/495 [07:41<8:22:35, 62.69s/it]"
     ]
    },
    {
     "name": "stdout",
     "output_type": "stream",
     "text": [
      "looking at group P01_106 with len 247\n"
     ]
    },
    {
     "name": "stderr",
     "output_type": "stream",
     "text": [
      "  3%|▎         | 15/495 [07:57<6:27:50, 48.48s/it]"
     ]
    },
    {
     "name": "stdout",
     "output_type": "stream",
     "text": [
      "looking at group P01_107 with len 62\n"
     ]
    },
    {
     "name": "stderr",
     "output_type": "stream",
     "text": [
      "  3%|▎         | 16/495 [07:57<4:32:47, 34.17s/it]"
     ]
    },
    {
     "name": "stdout",
     "output_type": "stream",
     "text": [
      "looking at group P01_108 with len 66\n"
     ]
    },
    {
     "name": "stderr",
     "output_type": "stream",
     "text": [
      "  3%|▎         | 17/495 [07:59<3:12:56, 24.22s/it]"
     ]
    },
    {
     "name": "stdout",
     "output_type": "stream",
     "text": [
      "looking at group P01_109 with len 918\n"
     ]
    },
    {
     "name": "stderr",
     "output_type": "stream",
     "text": [
      "  4%|▎         | 18/495 [11:50<11:26:39, 86.37s/it]"
     ]
    },
    {
     "name": "stdout",
     "output_type": "stream",
     "text": [
      "looking at group P01_16 with len 73\n"
     ]
    },
    {
     "name": "stderr",
     "output_type": "stream",
     "text": [
      "  4%|▍         | 19/495 [11:51<8:03:14, 60.91s/it] "
     ]
    },
    {
     "name": "stdout",
     "output_type": "stream",
     "text": [
      "looking at group P01_17 with len 287\n"
     ]
    },
    {
     "name": "stderr",
     "output_type": "stream",
     "text": [
      "  4%|▍         | 20/495 [12:12<6:27:28, 48.94s/it]"
     ]
    },
    {
     "name": "stdout",
     "output_type": "stream",
     "text": [
      "looking at group P01_18 with len 689\n"
     ]
    },
    {
     "name": "stderr",
     "output_type": "stream",
     "text": [
      "  4%|▍         | 21/495 [15:00<11:07:19, 84.47s/it]"
     ]
    },
    {
     "name": "stdout",
     "output_type": "stream",
     "text": [
      "looking at group P01_19 with len 137\n"
     ]
    },
    {
     "name": "stderr",
     "output_type": "stream",
     "text": [
      "  4%|▍         | 22/495 [15:12<8:16:39, 63.00s/it] "
     ]
    },
    {
     "name": "stdout",
     "output_type": "stream",
     "text": [
      "looking at group P02_01 with len 87\n"
     ]
    },
    {
     "name": "stderr",
     "output_type": "stream",
     "text": [
      "  5%|▍         | 23/495 [15:18<5:58:54, 45.62s/it]"
     ]
    },
    {
     "name": "stdout",
     "output_type": "stream",
     "text": [
      "looking at group P02_02 with len 89\n"
     ]
    },
    {
     "name": "stderr",
     "output_type": "stream",
     "text": [
      "  5%|▍         | 24/495 [15:22<4:20:39, 33.20s/it]"
     ]
    },
    {
     "name": "stdout",
     "output_type": "stream",
     "text": [
      "looking at group P02_03 with len 362\n"
     ]
    },
    {
     "name": "stderr",
     "output_type": "stream",
     "text": [
      "  5%|▌         | 25/495 [16:49<6:26:03, 49.29s/it]"
     ]
    },
    {
     "name": "stdout",
     "output_type": "stream",
     "text": [
      "looking at group P02_04 with len 168\n"
     ]
    },
    {
     "name": "stderr",
     "output_type": "stream",
     "text": [
      "  5%|▌         | 26/495 [16:58<4:51:16, 37.26s/it]"
     ]
    },
    {
     "name": "stdout",
     "output_type": "stream",
     "text": [
      "looking at group P02_05 with len 5\n",
      "looking at group P02_06 with len 371\n"
     ]
    },
    {
     "name": "stderr",
     "output_type": "stream",
     "text": [
      "  6%|▌         | 28/495 [17:55<4:19:44, 33.37s/it]"
     ]
    },
    {
     "name": "stdout",
     "output_type": "stream",
     "text": [
      "looking at group P02_07 with len 53\n"
     ]
    },
    {
     "name": "stderr",
     "output_type": "stream",
     "text": [
      "  6%|▌         | 29/495 [17:57<3:17:33, 25.44s/it]"
     ]
    },
    {
     "name": "stdout",
     "output_type": "stream",
     "text": [
      "looking at group P02_08 with len 33\n"
     ]
    },
    {
     "name": "stderr",
     "output_type": "stream",
     "text": [
      "  6%|▌         | 30/495 [17:57<2:26:34, 18.91s/it]"
     ]
    },
    {
     "name": "stdout",
     "output_type": "stream",
     "text": [
      "looking at group P02_09 with len 573\n"
     ]
    },
    {
     "name": "stderr",
     "output_type": "stream",
     "text": [
      "  6%|▋         | 31/495 [19:56<5:55:41, 45.99s/it]"
     ]
    },
    {
     "name": "stdout",
     "output_type": "stream",
     "text": [
      "looking at group P02_10 with len 12\n",
      "looking at group P02_101 with len 111\n"
     ]
    },
    {
     "name": "stderr",
     "output_type": "stream",
     "text": [
      "  7%|▋         | 33/495 [20:00<3:25:54, 26.74s/it]"
     ]
    },
    {
     "name": "stdout",
     "output_type": "stream",
     "text": [
      "looking at group P02_102 with len 110\n"
     ]
    },
    {
     "name": "stderr",
     "output_type": "stream",
     "text": [
      "  7%|▋         | 34/495 [20:04<2:45:06, 21.49s/it]"
     ]
    },
    {
     "name": "stdout",
     "output_type": "stream",
     "text": [
      "looking at group P02_103 with len 47\n"
     ]
    },
    {
     "name": "stderr",
     "output_type": "stream",
     "text": [
      "  7%|▋         | 35/495 [20:05<2:04:51, 16.29s/it]"
     ]
    },
    {
     "name": "stdout",
     "output_type": "stream",
     "text": [
      "looking at group P02_104 with len 182\n"
     ]
    },
    {
     "name": "stderr",
     "output_type": "stream",
     "text": [
      "  7%|▋         | 36/495 [20:25<2:11:05, 17.14s/it]"
     ]
    },
    {
     "name": "stdout",
     "output_type": "stream",
     "text": [
      "looking at group P02_105 with len 199\n"
     ]
    },
    {
     "name": "stderr",
     "output_type": "stream",
     "text": [
      "  7%|▋         | 37/495 [20:40<2:07:32, 16.71s/it]"
     ]
    },
    {
     "name": "stdout",
     "output_type": "stream",
     "text": [
      "looking at group P02_107 with len 52\n"
     ]
    },
    {
     "name": "stderr",
     "output_type": "stream",
     "text": [
      "  8%|▊         | 38/495 [20:42<1:33:57, 12.34s/it]"
     ]
    },
    {
     "name": "stdout",
     "output_type": "stream",
     "text": [
      "looking at group P02_108 with len 451\n"
     ]
    },
    {
     "name": "stderr",
     "output_type": "stream",
     "text": [
      "  8%|▊         | 39/495 [21:44<3:22:41, 26.67s/it]"
     ]
    },
    {
     "name": "stdout",
     "output_type": "stream",
     "text": [
      "looking at group P02_109 with len 187\n"
     ]
    },
    {
     "name": "stderr",
     "output_type": "stream",
     "text": [
      "  8%|▊         | 41/495 [22:00<2:05:41, 16.61s/it]"
     ]
    },
    {
     "name": "stdout",
     "output_type": "stream",
     "text": [
      "looking at group P02_11 with len 20\n",
      "looking at group P02_110 with len 50\n"
     ]
    },
    {
     "name": "stderr",
     "output_type": "stream",
     "text": [
      "  9%|▊         | 43/495 [22:01<1:04:10,  8.52s/it]"
     ]
    },
    {
     "name": "stdout",
     "output_type": "stream",
     "text": [
      "looking at group P02_111 with len 17\n",
      "looking at group P02_112 with len 317\n"
     ]
    },
    {
     "name": "stderr",
     "output_type": "stream",
     "text": [
      "  9%|▉         | 44/495 [22:55<2:46:52, 22.20s/it]"
     ]
    },
    {
     "name": "stdout",
     "output_type": "stream",
     "text": [
      "looking at group P02_113 with len 184\n"
     ]
    },
    {
     "name": "stderr",
     "output_type": "stream",
     "text": [
      "  9%|▉         | 46/495 [23:13<1:49:57, 14.69s/it]"
     ]
    },
    {
     "name": "stdout",
     "output_type": "stream",
     "text": [
      "looking at group P02_114 with len 16\n",
      "looking at group P02_115 with len 45\n"
     ]
    },
    {
     "name": "stderr",
     "output_type": "stream",
     "text": [
      "  9%|▉         | 47/495 [23:15<1:19:40, 10.67s/it]"
     ]
    },
    {
     "name": "stdout",
     "output_type": "stream",
     "text": [
      "looking at group P02_116 with len 32\n"
     ]
    },
    {
     "name": "stderr",
     "output_type": "stream",
     "text": [
      " 10%|▉         | 48/495 [23:15<56:51,  7.63s/it]  "
     ]
    },
    {
     "name": "stdout",
     "output_type": "stream",
     "text": [
      "looking at group P02_118 with len 290\n"
     ]
    },
    {
     "name": "stderr",
     "output_type": "stream",
     "text": [
      " 10%|█         | 50/495 [23:59<1:36:38, 13.03s/it]"
     ]
    },
    {
     "name": "stdout",
     "output_type": "stream",
     "text": [
      "looking at group P02_119 with len 16\n",
      "looking at group P02_120 with len 221\n"
     ]
    },
    {
     "name": "stderr",
     "output_type": "stream",
     "text": [
      " 10%|█         | 51/495 [24:41<2:39:41, 21.58s/it]"
     ]
    },
    {
     "name": "stdout",
     "output_type": "stream",
     "text": [
      "looking at group P02_121 with len 99\n"
     ]
    },
    {
     "name": "stderr",
     "output_type": "stream",
     "text": [
      " 11%|█         | 52/495 [24:47<2:05:06, 16.94s/it]"
     ]
    },
    {
     "name": "stdout",
     "output_type": "stream",
     "text": [
      "looking at group P02_122 with len 214\n"
     ]
    },
    {
     "name": "stderr",
     "output_type": "stream",
     "text": [
      " 11%|█         | 53/495 [25:16<2:30:49, 20.47s/it]"
     ]
    },
    {
     "name": "stdout",
     "output_type": "stream",
     "text": [
      "looking at group P02_123 with len 473\n"
     ]
    },
    {
     "name": "stderr",
     "output_type": "stream",
     "text": [
      " 11%|█         | 54/495 [28:02<7:51:45, 64.18s/it]"
     ]
    },
    {
     "name": "stdout",
     "output_type": "stream",
     "text": [
      "looking at group P02_124 with len 93\n"
     ]
    },
    {
     "name": "stderr",
     "output_type": "stream",
     "text": [
      " 11%|█         | 55/495 [28:09<5:45:52, 47.16s/it]"
     ]
    },
    {
     "name": "stdout",
     "output_type": "stream",
     "text": [
      "looking at group P02_126 with len 60\n"
     ]
    },
    {
     "name": "stderr",
     "output_type": "stream",
     "text": [
      " 12%|█▏        | 57/495 [28:13<2:54:28, 23.90s/it]"
     ]
    },
    {
     "name": "stdout",
     "output_type": "stream",
     "text": [
      "looking at group P02_127 with len 11\n",
      "looking at group P02_128 with len 63\n"
     ]
    },
    {
     "name": "stderr",
     "output_type": "stream",
     "text": [
      " 12%|█▏        | 58/495 [28:17<2:10:53, 17.97s/it]"
     ]
    },
    {
     "name": "stdout",
     "output_type": "stream",
     "text": [
      "looking at group P02_129 with len 494\n"
     ]
    },
    {
     "name": "stderr",
     "output_type": "stream",
     "text": [
      " 12%|█▏        | 59/495 [30:58<7:21:56, 60.82s/it]"
     ]
    },
    {
     "name": "stdout",
     "output_type": "stream",
     "text": [
      "looking at group P02_130 with len 331\n"
     ]
    },
    {
     "name": "stderr",
     "output_type": "stream",
     "text": [
      " 12%|█▏        | 60/495 [31:47<6:55:30, 57.31s/it]"
     ]
    },
    {
     "name": "stdout",
     "output_type": "stream",
     "text": [
      "looking at group P02_131 with len 273\n"
     ]
    },
    {
     "name": "stderr",
     "output_type": "stream",
     "text": [
      " 12%|█▏        | 61/495 [32:22<6:06:29, 50.67s/it]"
     ]
    },
    {
     "name": "stdout",
     "output_type": "stream",
     "text": [
      "looking at group P02_132 with len 89\n"
     ]
    },
    {
     "name": "stderr",
     "output_type": "stream",
     "text": [
      " 13%|█▎        | 62/495 [32:27<4:25:29, 36.79s/it]"
     ]
    },
    {
     "name": "stdout",
     "output_type": "stream",
     "text": [
      "looking at group P02_133 with len 34\n"
     ]
    },
    {
     "name": "stderr",
     "output_type": "stream",
     "text": [
      " 13%|█▎        | 63/495 [32:27<3:06:31, 25.91s/it]"
     ]
    },
    {
     "name": "stdout",
     "output_type": "stream",
     "text": [
      "looking at group P02_134 with len 14\n",
      "looking at group P02_135 with len 116\n"
     ]
    },
    {
     "name": "stderr",
     "output_type": "stream",
     "text": [
      " 13%|█▎        | 65/495 [32:34<1:50:17, 15.39s/it]"
     ]
    },
    {
     "name": "stdout",
     "output_type": "stream",
     "text": [
      "looking at group P03_02 with len 137\n"
     ]
    },
    {
     "name": "stderr",
     "output_type": "stream",
     "text": [
      " 13%|█▎        | 66/495 [32:42<1:36:56, 13.56s/it]"
     ]
    },
    {
     "name": "stdout",
     "output_type": "stream",
     "text": [
      "looking at group P03_03 with len 24\n"
     ]
    },
    {
     "name": "stderr",
     "output_type": "stream",
     "text": [
      " 14%|█▎        | 67/495 [32:42<1:12:00, 10.09s/it]"
     ]
    },
    {
     "name": "stdout",
     "output_type": "stream",
     "text": [
      "looking at group P03_04 with len 361\n"
     ]
    },
    {
     "name": "stderr",
     "output_type": "stream",
     "text": [
      " 14%|█▎        | 68/495 [33:46<2:56:14, 24.76s/it]"
     ]
    },
    {
     "name": "stdout",
     "output_type": "stream",
     "text": [
      "looking at group P03_05 with len 66\n"
     ]
    },
    {
     "name": "stderr",
     "output_type": "stream",
     "text": [
      " 14%|█▍        | 69/495 [33:49<2:12:51, 18.71s/it]"
     ]
    },
    {
     "name": "stdout",
     "output_type": "stream",
     "text": [
      "looking at group P03_06 with len 32\n"
     ]
    },
    {
     "name": "stderr",
     "output_type": "stream",
     "text": [
      " 14%|█▍        | 70/495 [33:50<1:36:21, 13.60s/it]"
     ]
    },
    {
     "name": "stdout",
     "output_type": "stream",
     "text": [
      "looking at group P03_07 with len 48\n"
     ]
    },
    {
     "name": "stderr",
     "output_type": "stream",
     "text": [
      " 14%|█▍        | 71/495 [33:52<1:11:53, 10.17s/it]"
     ]
    },
    {
     "name": "stdout",
     "output_type": "stream",
     "text": [
      "looking at group P03_08 with len 9\n",
      "looking at group P03_09 with len 180\n"
     ]
    },
    {
     "name": "stderr",
     "output_type": "stream",
     "text": [
      " 15%|█▍        | 73/495 [34:14<1:15:10, 10.69s/it]"
     ]
    },
    {
     "name": "stdout",
     "output_type": "stream",
     "text": [
      "looking at group P03_10 with len 41\n"
     ]
    },
    {
     "name": "stderr",
     "output_type": "stream",
     "text": [
      " 15%|█▍        | 74/495 [34:15<58:14,  8.30s/it]  "
     ]
    },
    {
     "name": "stdout",
     "output_type": "stream",
     "text": [
      "looking at group P03_101 with len 351\n"
     ]
    },
    {
     "name": "stderr",
     "output_type": "stream",
     "text": [
      " 15%|█▌        | 75/495 [35:21<2:42:15, 23.18s/it]"
     ]
    },
    {
     "name": "stdout",
     "output_type": "stream",
     "text": [
      "looking at group P03_102 with len 84\n"
     ]
    },
    {
     "name": "stderr",
     "output_type": "stream",
     "text": [
      " 15%|█▌        | 76/495 [35:24<2:03:40, 17.71s/it]"
     ]
    },
    {
     "name": "stdout",
     "output_type": "stream",
     "text": [
      "looking at group P03_106 with len 32\n"
     ]
    },
    {
     "name": "stderr",
     "output_type": "stream",
     "text": [
      " 16%|█▌        | 77/495 [35:25<1:30:22, 12.97s/it]"
     ]
    },
    {
     "name": "stdout",
     "output_type": "stream",
     "text": [
      "looking at group P03_107 with len 109\n"
     ]
    },
    {
     "name": "stderr",
     "output_type": "stream",
     "text": [
      " 16%|█▌        | 79/495 [35:32<55:42,  8.04s/it]  "
     ]
    },
    {
     "name": "stdout",
     "output_type": "stream",
     "text": [
      "looking at group P03_108 with len 19\n",
      "looking at group P03_109 with len 411\n"
     ]
    },
    {
     "name": "stderr",
     "output_type": "stream",
     "text": [
      " 16%|█▋        | 81/495 [36:45<2:12:32, 19.21s/it]"
     ]
    },
    {
     "name": "stdout",
     "output_type": "stream",
     "text": [
      "looking at group P03_11 with len 19\n",
      "looking at group P03_110 with len 14\n"
     ]
    },
    {
     "name": "stderr",
     "output_type": "stream",
     "text": [
      " 17%|█▋        | 82/495 [36:45<1:33:16, 13.55s/it]"
     ]
    },
    {
     "name": "stdout",
     "output_type": "stream",
     "text": [
      "looking at group P03_111 with len 35\n"
     ]
    },
    {
     "name": "stderr",
     "output_type": "stream",
     "text": [
      " 17%|█▋        | 83/495 [36:46<1:06:29,  9.68s/it]"
     ]
    },
    {
     "name": "stdout",
     "output_type": "stream",
     "text": [
      "looking at group P03_112 with len 171\n"
     ]
    },
    {
     "name": "stderr",
     "output_type": "stream",
     "text": [
      " 17%|█▋        | 84/495 [36:59<1:13:36, 10.74s/it]"
     ]
    },
    {
     "name": "stdout",
     "output_type": "stream",
     "text": [
      "looking at group P03_113 with len 62\n"
     ]
    },
    {
     "name": "stderr",
     "output_type": "stream",
     "text": [
      " 17%|█▋        | 86/495 [37:01<39:17,  5.76s/it]  "
     ]
    },
    {
     "name": "stdout",
     "output_type": "stream",
     "text": [
      "looking at group P03_114 with len 17\n",
      "looking at group P03_115 with len 14\n",
      "looking at group P03_116 with len 31\n"
     ]
    },
    {
     "name": "stderr",
     "output_type": "stream",
     "text": [
      " 18%|█▊        | 88/495 [37:02<21:43,  3.20s/it]"
     ]
    },
    {
     "name": "stdout",
     "output_type": "stream",
     "text": [
      "looking at group P03_117 with len 259\n"
     ]
    },
    {
     "name": "stderr",
     "output_type": "stream",
     "text": [
      " 18%|█▊        | 89/495 [37:35<1:11:45, 10.61s/it]"
     ]
    },
    {
     "name": "stdout",
     "output_type": "stream",
     "text": [
      "looking at group P03_118 with len 66\n"
     ]
    },
    {
     "name": "stderr",
     "output_type": "stream",
     "text": [
      " 18%|█▊        | 90/495 [37:37<55:53,  8.28s/it]  "
     ]
    },
    {
     "name": "stdout",
     "output_type": "stream",
     "text": [
      "looking at group P03_119 with len 211\n"
     ]
    },
    {
     "name": "stderr",
     "output_type": "stream",
     "text": [
      " 18%|█▊        | 91/495 [37:56<1:15:52, 11.27s/it]"
     ]
    },
    {
     "name": "stdout",
     "output_type": "stream",
     "text": [
      "looking at group P03_12 with len 7\n",
      "looking at group P03_120 with len 256\n"
     ]
    },
    {
     "name": "stderr",
     "output_type": "stream",
     "text": [
      " 19%|█▉        | 93/495 [38:21<1:19:35, 11.88s/it]"
     ]
    },
    {
     "name": "stdout",
     "output_type": "stream",
     "text": [
      "looking at group P03_121 with len 68\n"
     ]
    },
    {
     "name": "stderr",
     "output_type": "stream",
     "text": [
      " 19%|█▉        | 94/495 [38:23<1:03:36,  9.52s/it]"
     ]
    },
    {
     "name": "stdout",
     "output_type": "stream",
     "text": [
      "looking at group P03_122 with len 12\n",
      "looking at group P03_123 with len 98\n"
     ]
    },
    {
     "name": "stderr",
     "output_type": "stream",
     "text": [
      " 19%|█▉        | 96/495 [38:27<43:16,  6.51s/it]  "
     ]
    },
    {
     "name": "stdout",
     "output_type": "stream",
     "text": [
      "looking at group P03_13 with len 21\n"
     ]
    },
    {
     "name": "stderr",
     "output_type": "stream",
     "text": [
      " 20%|█▉        | 97/495 [38:27<33:48,  5.10s/it]"
     ]
    },
    {
     "name": "stdout",
     "output_type": "stream",
     "text": [
      "looking at group P03_14 with len 43\n"
     ]
    },
    {
     "name": "stderr",
     "output_type": "stream",
     "text": [
      " 20%|█▉        | 98/495 [38:28<26:57,  4.07s/it]"
     ]
    },
    {
     "name": "stdout",
     "output_type": "stream",
     "text": [
      "looking at group P03_15 with len 3\n",
      "looking at group P03_16 with len 39\n"
     ]
    },
    {
     "name": "stderr",
     "output_type": "stream",
     "text": [
      " 20%|██        | 101/495 [38:29<13:13,  2.01s/it]"
     ]
    },
    {
     "name": "stdout",
     "output_type": "stream",
     "text": [
      "looking at group P03_17 with len 25\n",
      "looking at group P03_18 with len 8\n",
      "looking at group P03_19 with len 168\n"
     ]
    },
    {
     "name": "stderr",
     "output_type": "stream",
     "text": [
      " 21%|██        | 103/495 [38:42<23:59,  3.67s/it]"
     ]
    },
    {
     "name": "stdout",
     "output_type": "stream",
     "text": [
      "looking at group P03_20 with len 74\n"
     ]
    },
    {
     "name": "stderr",
     "output_type": "stream",
     "text": [
      " 21%|██        | 104/495 [38:44<22:34,  3.46s/it]"
     ]
    },
    {
     "name": "stdout",
     "output_type": "stream",
     "text": [
      "looking at group P03_27 with len 27\n"
     ]
    },
    {
     "name": "stderr",
     "output_type": "stream",
     "text": [
      " 21%|██        | 105/495 [38:45<17:36,  2.71s/it]"
     ]
    },
    {
     "name": "stdout",
     "output_type": "stream",
     "text": [
      "looking at group P03_28 with len 41\n"
     ]
    },
    {
     "name": "stderr",
     "output_type": "stream",
     "text": [
      " 21%|██▏       | 106/495 [38:45<14:12,  2.19s/it]"
     ]
    },
    {
     "name": "stdout",
     "output_type": "stream",
     "text": [
      "looking at group P04_01 with len 262\n"
     ]
    },
    {
     "name": "stderr",
     "output_type": "stream",
     "text": [
      " 22%|██▏       | 107/495 [39:15<1:00:59,  9.43s/it]"
     ]
    },
    {
     "name": "stdout",
     "output_type": "stream",
     "text": [
      "looking at group P04_02 with len 329\n"
     ]
    },
    {
     "name": "stderr",
     "output_type": "stream",
     "text": [
      " 22%|██▏       | 108/495 [40:05<2:13:23, 20.68s/it]"
     ]
    },
    {
     "name": "stdout",
     "output_type": "stream",
     "text": [
      "looking at group P04_03 with len 218\n"
     ]
    },
    {
     "name": "stderr",
     "output_type": "stream",
     "text": [
      " 22%|██▏       | 109/495 [40:30<2:19:57, 21.76s/it]"
     ]
    },
    {
     "name": "stdout",
     "output_type": "stream",
     "text": [
      "looking at group P04_04 with len 152\n"
     ]
    },
    {
     "name": "stderr",
     "output_type": "stream",
     "text": [
      " 22%|██▏       | 110/495 [40:40<1:57:56, 18.38s/it]"
     ]
    },
    {
     "name": "stdout",
     "output_type": "stream",
     "text": [
      "looking at group P04_05 with len 309\n"
     ]
    },
    {
     "name": "stderr",
     "output_type": "stream",
     "text": [
      " 22%|██▏       | 111/495 [41:15<2:29:08, 23.30s/it]"
     ]
    },
    {
     "name": "stdout",
     "output_type": "stream",
     "text": [
      "looking at group P04_06 with len 117\n"
     ]
    },
    {
     "name": "stderr",
     "output_type": "stream",
     "text": [
      " 23%|██▎       | 112/495 [41:19<1:53:37, 17.80s/it]"
     ]
    },
    {
     "name": "stdout",
     "output_type": "stream",
     "text": [
      "looking at group P04_07 with len 29\n"
     ]
    },
    {
     "name": "stderr",
     "output_type": "stream",
     "text": [
      " 23%|██▎       | 114/495 [41:20<56:38,  8.92s/it]  "
     ]
    },
    {
     "name": "stdout",
     "output_type": "stream",
     "text": [
      "looking at group P04_08 with len 20\n",
      "looking at group P04_09 with len 35\n"
     ]
    },
    {
     "name": "stderr",
     "output_type": "stream",
     "text": [
      " 23%|██▎       | 115/495 [41:20<40:24,  6.38s/it]"
     ]
    },
    {
     "name": "stdout",
     "output_type": "stream",
     "text": [
      "looking at group P04_10 with len 106\n"
     ]
    },
    {
     "name": "stderr",
     "output_type": "stream",
     "text": [
      " 23%|██▎       | 116/495 [41:24<35:40,  5.65s/it]"
     ]
    },
    {
     "name": "stdout",
     "output_type": "stream",
     "text": [
      "looking at group P04_101 with len 241\n"
     ]
    },
    {
     "name": "stderr",
     "output_type": "stream",
     "text": [
      " 24%|██▎       | 117/495 [41:46<1:05:30, 10.40s/it]"
     ]
    },
    {
     "name": "stdout",
     "output_type": "stream",
     "text": [
      "looking at group P04_102 with len 63\n"
     ]
    },
    {
     "name": "stderr",
     "output_type": "stream",
     "text": [
      " 24%|██▍       | 118/495 [41:47<49:00,  7.80s/it]  "
     ]
    },
    {
     "name": "stdout",
     "output_type": "stream",
     "text": [
      "looking at group P04_103 with len 39\n"
     ]
    },
    {
     "name": "stderr",
     "output_type": "stream",
     "text": [
      " 24%|██▍       | 119/495 [41:48<35:29,  5.66s/it]"
     ]
    },
    {
     "name": "stdout",
     "output_type": "stream",
     "text": [
      "looking at group P04_104 with len 294\n"
     ]
    },
    {
     "name": "stderr",
     "output_type": "stream",
     "text": [
      " 24%|██▍       | 120/495 [42:21<1:27:08, 13.94s/it]"
     ]
    },
    {
     "name": "stdout",
     "output_type": "stream",
     "text": [
      "looking at group P04_106 with len 115\n"
     ]
    },
    {
     "name": "stderr",
     "output_type": "stream",
     "text": [
      " 24%|██▍       | 121/495 [42:26<1:09:22, 11.13s/it]"
     ]
    },
    {
     "name": "stdout",
     "output_type": "stream",
     "text": [
      "looking at group P04_107 with len 940\n"
     ]
    },
    {
     "name": "stderr",
     "output_type": "stream",
     "text": [
      " 25%|██▍       | 122/495 [46:56<9:12:39, 88.90s/it]"
     ]
    },
    {
     "name": "stdout",
     "output_type": "stream",
     "text": [
      "looking at group P04_108 with len 101\n"
     ]
    },
    {
     "name": "stderr",
     "output_type": "stream",
     "text": [
      " 25%|██▍       | 123/495 [46:59<6:30:32, 62.99s/it]"
     ]
    },
    {
     "name": "stdout",
     "output_type": "stream",
     "text": [
      "looking at group P04_109 with len 538\n"
     ]
    },
    {
     "name": "stderr",
     "output_type": "stream",
     "text": [
      " 25%|██▌       | 124/495 [48:27<7:16:35, 70.61s/it]"
     ]
    },
    {
     "name": "stdout",
     "output_type": "stream",
     "text": [
      "looking at group P04_11 with len 25\n"
     ]
    },
    {
     "name": "stderr",
     "output_type": "stream",
     "text": [
      " 25%|██▌       | 125/495 [48:28<5:05:13, 49.50s/it]"
     ]
    },
    {
     "name": "stdout",
     "output_type": "stream",
     "text": [
      "looking at group P04_110 with len 401\n"
     ]
    },
    {
     "name": "stderr",
     "output_type": "stream",
     "text": [
      " 25%|██▌       | 126/495 [49:27<5:23:22, 52.58s/it]"
     ]
    },
    {
     "name": "stdout",
     "output_type": "stream",
     "text": [
      "looking at group P04_111 with len 69\n"
     ]
    },
    {
     "name": "stderr",
     "output_type": "stream",
     "text": [
      " 26%|██▌       | 127/495 [49:29<3:48:53, 37.32s/it]"
     ]
    },
    {
     "name": "stdout",
     "output_type": "stream",
     "text": [
      "looking at group P04_112 with len 257\n"
     ]
    },
    {
     "name": "stderr",
     "output_type": "stream",
     "text": [
      " 26%|██▌       | 128/495 [49:50<3:18:35, 32.47s/it]"
     ]
    },
    {
     "name": "stdout",
     "output_type": "stream",
     "text": [
      "looking at group P04_113 with len 517\n"
     ]
    },
    {
     "name": "stderr",
     "output_type": "stream",
     "text": [
      " 26%|██▌       | 129/495 [52:08<6:30:33, 64.03s/it]"
     ]
    },
    {
     "name": "stdout",
     "output_type": "stream",
     "text": [
      "looking at group P04_114 with len 84\n"
     ]
    },
    {
     "name": "stderr",
     "output_type": "stream",
     "text": [
      " 26%|██▋       | 130/495 [52:13<4:42:01, 46.36s/it]"
     ]
    },
    {
     "name": "stdout",
     "output_type": "stream",
     "text": [
      "looking at group P04_115 with len 133\n"
     ]
    },
    {
     "name": "stderr",
     "output_type": "stream",
     "text": [
      " 26%|██▋       | 131/495 [52:25<3:39:11, 36.13s/it]"
     ]
    },
    {
     "name": "stdout",
     "output_type": "stream",
     "text": [
      "looking at group P04_116 with len 223\n"
     ]
    },
    {
     "name": "stderr",
     "output_type": "stream",
     "text": [
      " 27%|██▋       | 132/495 [52:49<3:16:01, 32.40s/it]"
     ]
    },
    {
     "name": "stdout",
     "output_type": "stream",
     "text": [
      "looking at group P04_117 with len 168\n"
     ]
    },
    {
     "name": "stderr",
     "output_type": "stream",
     "text": [
      " 27%|██▋       | 133/495 [53:04<2:44:34, 27.28s/it]"
     ]
    },
    {
     "name": "stdout",
     "output_type": "stream",
     "text": [
      "looking at group P04_118 with len 54\n"
     ]
    },
    {
     "name": "stderr",
     "output_type": "stream",
     "text": [
      " 27%|██▋       | 134/495 [53:06<1:58:06, 19.63s/it]"
     ]
    },
    {
     "name": "stdout",
     "output_type": "stream",
     "text": [
      "looking at group P04_119 with len 288\n"
     ]
    },
    {
     "name": "stderr",
     "output_type": "stream",
     "text": [
      " 27%|██▋       | 136/495 [53:48<1:49:55, 18.37s/it]"
     ]
    },
    {
     "name": "stdout",
     "output_type": "stream",
     "text": [
      "looking at group P04_12 with len 16\n",
      "looking at group P04_120 with len 376\n"
     ]
    },
    {
     "name": "stderr",
     "output_type": "stream",
     "text": [
      " 28%|██▊       | 137/495 [55:13<3:49:31, 38.47s/it]"
     ]
    },
    {
     "name": "stdout",
     "output_type": "stream",
     "text": [
      "looking at group P04_121 with len 717\n"
     ]
    },
    {
     "name": "stderr",
     "output_type": "stream",
     "text": [
      " 28%|██▊       | 138/495 [58:19<8:12:31, 82.78s/it]"
     ]
    },
    {
     "name": "stdout",
     "output_type": "stream",
     "text": [
      "looking at group P04_13 with len 41\n"
     ]
    },
    {
     "name": "stderr",
     "output_type": "stream",
     "text": [
      " 28%|██▊       | 139/495 [58:20<5:44:46, 58.11s/it]"
     ]
    },
    {
     "name": "stdout",
     "output_type": "stream",
     "text": [
      "looking at group P04_14 with len 9\n",
      "looking at group P04_15 with len 1\n",
      "looking at group P04_16 with len 43\n"
     ]
    },
    {
     "name": "stderr",
     "output_type": "stream",
     "text": [
      " 29%|██▉       | 143/495 [58:21<1:58:22, 20.18s/it]"
     ]
    },
    {
     "name": "stdout",
     "output_type": "stream",
     "text": [
      "looking at group P04_17 with len 22\n",
      "looking at group P04_18 with len 26\n"
     ]
    },
    {
     "name": "stderr",
     "output_type": "stream",
     "text": [
      " 29%|██▉       | 144/495 [58:21<1:30:58, 15.55s/it]"
     ]
    },
    {
     "name": "stdout",
     "output_type": "stream",
     "text": [
      "looking at group P04_19 with len 5\n",
      "looking at group P04_20 with len 13\n",
      "looking at group P04_21 with len 24\n"
     ]
    },
    {
     "name": "stderr",
     "output_type": "stream",
     "text": [
      " 30%|██▉       | 148/495 [58:21<36:50,  6.37s/it]  "
     ]
    },
    {
     "name": "stdout",
     "output_type": "stream",
     "text": [
      "looking at group P04_22 with len 22\n",
      "looking at group P04_23 with len 93\n"
     ]
    },
    {
     "name": "stderr",
     "output_type": "stream",
     "text": [
      " 30%|███       | 149/495 [58:25<33:01,  5.73s/it]"
     ]
    },
    {
     "name": "stdout",
     "output_type": "stream",
     "text": [
      "looking at group P05_01 with len 49\n"
     ]
    },
    {
     "name": "stderr",
     "output_type": "stream",
     "text": [
      " 30%|███       | 150/495 [58:26<26:29,  4.61s/it]"
     ]
    },
    {
     "name": "stdout",
     "output_type": "stream",
     "text": [
      "looking at group P05_02 with len 56\n"
     ]
    },
    {
     "name": "stderr",
     "output_type": "stream",
     "text": [
      " 31%|███       | 151/495 [58:27<21:20,  3.72s/it]"
     ]
    },
    {
     "name": "stdout",
     "output_type": "stream",
     "text": [
      "looking at group P05_03 with len 163\n"
     ]
    },
    {
     "name": "stderr",
     "output_type": "stream",
     "text": [
      " 31%|███       | 152/495 [58:35<28:11,  4.93s/it]"
     ]
    },
    {
     "name": "stdout",
     "output_type": "stream",
     "text": [
      "looking at group P05_04 with len 60\n"
     ]
    },
    {
     "name": "stderr",
     "output_type": "stream",
     "text": [
      " 31%|███       | 153/495 [58:36<22:10,  3.89s/it]"
     ]
    },
    {
     "name": "stdout",
     "output_type": "stream",
     "text": [
      "looking at group P05_05 with len 30\n"
     ]
    },
    {
     "name": "stderr",
     "output_type": "stream",
     "text": [
      " 31%|███       | 154/495 [58:36<16:21,  2.88s/it]"
     ]
    },
    {
     "name": "stdout",
     "output_type": "stream",
     "text": [
      "looking at group P05_06 with len 38\n"
     ]
    },
    {
     "name": "stderr",
     "output_type": "stream",
     "text": [
      " 31%|███▏      | 155/495 [58:37<12:27,  2.20s/it]"
     ]
    },
    {
     "name": "stdout",
     "output_type": "stream",
     "text": [
      "looking at group P05_08 with len 139\n"
     ]
    },
    {
     "name": "stderr",
     "output_type": "stream",
     "text": [
      " 32%|███▏      | 156/495 [58:43<18:53,  3.34s/it]"
     ]
    },
    {
     "name": "stdout",
     "output_type": "stream",
     "text": [
      "looking at group P06_01 with len 23\n"
     ]
    },
    {
     "name": "stderr",
     "output_type": "stream",
     "text": [
      " 32%|███▏      | 157/495 [58:43<13:41,  2.43s/it]"
     ]
    },
    {
     "name": "stdout",
     "output_type": "stream",
     "text": [
      "looking at group P06_02 with len 6\n",
      "looking at group P06_03 with len 128\n"
     ]
    },
    {
     "name": "stderr",
     "output_type": "stream",
     "text": [
      " 32%|███▏      | 159/495 [58:49<14:40,  2.62s/it]"
     ]
    },
    {
     "name": "stdout",
     "output_type": "stream",
     "text": [
      "looking at group P06_05 with len 224\n"
     ]
    },
    {
     "name": "stderr",
     "output_type": "stream",
     "text": [
      " 32%|███▏      | 160/495 [59:07<36:13,  6.49s/it]"
     ]
    },
    {
     "name": "stdout",
     "output_type": "stream",
     "text": [
      "looking at group P06_07 with len 256\n"
     ]
    },
    {
     "name": "stderr",
     "output_type": "stream",
     "text": [
      " 33%|███▎      | 161/495 [59:28<56:35, 10.16s/it]"
     ]
    },
    {
     "name": "stdout",
     "output_type": "stream",
     "text": [
      "looking at group P06_08 with len 6\n",
      "looking at group P06_09 with len 178\n"
     ]
    },
    {
     "name": "stderr",
     "output_type": "stream",
     "text": [
      " 33%|███▎      | 163/495 [59:39<45:13,  8.17s/it]"
     ]
    },
    {
     "name": "stdout",
     "output_type": "stream",
     "text": [
      "looking at group P06_101 with len 422\n"
     ]
    },
    {
     "name": "stderr",
     "output_type": "stream",
     "text": [
      " 33%|███▎      | 164/495 [1:00:34<1:44:56, 19.02s/it]"
     ]
    },
    {
     "name": "stdout",
     "output_type": "stream",
     "text": [
      "looking at group P06_102 with len 129\n"
     ]
    },
    {
     "name": "stderr",
     "output_type": "stream",
     "text": [
      " 33%|███▎      | 165/495 [1:00:38<1:24:34, 15.38s/it]"
     ]
    },
    {
     "name": "stdout",
     "output_type": "stream",
     "text": [
      "looking at group P06_103 with len 177\n"
     ]
    },
    {
     "name": "stderr",
     "output_type": "stream",
     "text": [
      " 34%|███▎      | 166/495 [1:00:48<1:16:58, 14.04s/it]"
     ]
    },
    {
     "name": "stdout",
     "output_type": "stream",
     "text": [
      "looking at group P06_104 with len 37\n"
     ]
    },
    {
     "name": "stderr",
     "output_type": "stream",
     "text": [
      " 34%|███▎      | 167/495 [1:00:49<56:26, 10.33s/it]  "
     ]
    },
    {
     "name": "stdout",
     "output_type": "stream",
     "text": [
      "looking at group P06_105 with len 29\n"
     ]
    },
    {
     "name": "stderr",
     "output_type": "stream",
     "text": [
      " 34%|███▍      | 168/495 [1:00:49<40:50,  7.49s/it]"
     ]
    },
    {
     "name": "stdout",
     "output_type": "stream",
     "text": [
      "looking at group P06_106 with len 53\n"
     ]
    },
    {
     "name": "stderr",
     "output_type": "stream",
     "text": [
      " 34%|███▍      | 169/495 [1:00:50<30:39,  5.64s/it]"
     ]
    },
    {
     "name": "stdout",
     "output_type": "stream",
     "text": [
      "looking at group P06_107 with len 64\n"
     ]
    },
    {
     "name": "stderr",
     "output_type": "stream",
     "text": [
      " 34%|███▍      | 170/495 [1:00:51<23:32,  4.35s/it]"
     ]
    },
    {
     "name": "stdout",
     "output_type": "stream",
     "text": [
      "looking at group P06_108 with len 171\n"
     ]
    },
    {
     "name": "stderr",
     "output_type": "stream",
     "text": [
      " 35%|███▍      | 171/495 [1:00:59<29:27,  5.46s/it]"
     ]
    },
    {
     "name": "stdout",
     "output_type": "stream",
     "text": [
      "looking at group P06_109 with len 10\n",
      "looking at group P06_110 with len 15\n",
      "looking at group P06_113 with len 122\n"
     ]
    },
    {
     "name": "stderr",
     "output_type": "stream",
     "text": [
      " 36%|███▌      | 176/495 [1:01:04<11:10,  2.10s/it]"
     ]
    },
    {
     "name": "stdout",
     "output_type": "stream",
     "text": [
      "looking at group P07_01 with len 15\n",
      "looking at group P07_02 with len 15\n",
      "looking at group P07_03 with len 31\n"
     ]
    },
    {
     "name": "stderr",
     "output_type": "stream",
     "text": [
      " 36%|███▌      | 177/495 [1:01:04<09:12,  1.74s/it]"
     ]
    },
    {
     "name": "stdout",
     "output_type": "stream",
     "text": [
      "looking at group P07_04 with len 154\n"
     ]
    },
    {
     "name": "stderr",
     "output_type": "stream",
     "text": [
      " 36%|███▌      | 178/495 [1:01:12<16:09,  3.06s/it]"
     ]
    },
    {
     "name": "stdout",
     "output_type": "stream",
     "text": [
      "looking at group P07_05 with len 34\n"
     ]
    },
    {
     "name": "stderr",
     "output_type": "stream",
     "text": [
      " 36%|███▌      | 179/495 [1:01:12<12:45,  2.42s/it]"
     ]
    },
    {
     "name": "stdout",
     "output_type": "stream",
     "text": [
      "looking at group P07_06 with len 29\n"
     ]
    },
    {
     "name": "stderr",
     "output_type": "stream",
     "text": [
      " 36%|███▋      | 180/495 [1:01:12<09:52,  1.88s/it]"
     ]
    },
    {
     "name": "stdout",
     "output_type": "stream",
     "text": [
      "looking at group P07_07 with len 53\n"
     ]
    },
    {
     "name": "stderr",
     "output_type": "stream",
     "text": [
      " 37%|███▋      | 182/495 [1:01:13<06:26,  1.23s/it]"
     ]
    },
    {
     "name": "stdout",
     "output_type": "stream",
     "text": [
      "looking at group P07_08 with len 25\n",
      "looking at group P07_09 with len 46\n"
     ]
    },
    {
     "name": "stderr",
     "output_type": "stream",
     "text": [
      " 37%|███▋      | 183/495 [1:01:14<05:35,  1.08s/it]"
     ]
    },
    {
     "name": "stdout",
     "output_type": "stream",
     "text": [
      "looking at group P07_10 with len 330\n"
     ]
    },
    {
     "name": "stderr",
     "output_type": "stream",
     "text": [
      " 37%|███▋      | 184/495 [1:01:51<59:14, 11.43s/it]"
     ]
    },
    {
     "name": "stdout",
     "output_type": "stream",
     "text": [
      "looking at group P07_101 with len 81\n"
     ]
    },
    {
     "name": "stderr",
     "output_type": "stream",
     "text": [
      " 37%|███▋      | 185/495 [1:01:54<45:57,  8.89s/it]"
     ]
    },
    {
     "name": "stdout",
     "output_type": "stream",
     "text": [
      "looking at group P07_102 with len 60\n"
     ]
    },
    {
     "name": "stderr",
     "output_type": "stream",
     "text": [
      " 38%|███▊      | 187/495 [1:01:55<24:18,  4.73s/it]"
     ]
    },
    {
     "name": "stdout",
     "output_type": "stream",
     "text": [
      "looking at group P07_103 with len 18\n",
      "looking at group P07_106 with len 5\n",
      "looking at group P07_107 with len 61\n"
     ]
    },
    {
     "name": "stderr",
     "output_type": "stream",
     "text": [
      " 38%|███▊      | 189/495 [1:01:57<14:31,  2.85s/it]"
     ]
    },
    {
     "name": "stdout",
     "output_type": "stream",
     "text": [
      "looking at group P07_11 with len 28\n"
     ]
    },
    {
     "name": "stderr",
     "output_type": "stream",
     "text": [
      " 38%|███▊      | 190/495 [1:01:57<11:13,  2.21s/it]"
     ]
    },
    {
     "name": "stdout",
     "output_type": "stream",
     "text": [
      "looking at group P07_110 with len 85\n"
     ]
    },
    {
     "name": "stderr",
     "output_type": "stream",
     "text": [
      " 39%|███▊      | 191/495 [1:01:59<10:56,  2.16s/it]"
     ]
    },
    {
     "name": "stdout",
     "output_type": "stream",
     "text": [
      "looking at group P07_111 with len 52\n"
     ]
    },
    {
     "name": "stderr",
     "output_type": "stream",
     "text": [
      " 39%|███▉      | 193/495 [1:02:00<06:35,  1.31s/it]"
     ]
    },
    {
     "name": "stdout",
     "output_type": "stream",
     "text": [
      "looking at group P07_112 with len 20\n",
      "looking at group P07_113 with len 171\n"
     ]
    },
    {
     "name": "stderr",
     "output_type": "stream",
     "text": [
      " 39%|███▉      | 194/495 [1:02:07<15:31,  3.09s/it]"
     ]
    },
    {
     "name": "stdout",
     "output_type": "stream",
     "text": [
      "looking at group P07_114 with len 44\n"
     ]
    },
    {
     "name": "stderr",
     "output_type": "stream",
     "text": [
      " 39%|███▉      | 195/495 [1:02:08<11:41,  2.34s/it]"
     ]
    },
    {
     "name": "stdout",
     "output_type": "stream",
     "text": [
      "looking at group P07_115 with len 66\n"
     ]
    },
    {
     "name": "stderr",
     "output_type": "stream",
     "text": [
      " 40%|███▉      | 196/495 [1:02:09<09:50,  1.97s/it]"
     ]
    },
    {
     "name": "stdout",
     "output_type": "stream",
     "text": [
      "looking at group P07_116 with len 31\n"
     ]
    },
    {
     "name": "stderr",
     "output_type": "stream",
     "text": [
      " 40%|███▉      | 197/495 [1:02:09<07:16,  1.47s/it]"
     ]
    },
    {
     "name": "stdout",
     "output_type": "stream",
     "text": [
      "looking at group P07_117 with len 131\n"
     ]
    },
    {
     "name": "stderr",
     "output_type": "stream",
     "text": [
      " 40%|████      | 198/495 [1:02:13<11:25,  2.31s/it]"
     ]
    },
    {
     "name": "stdout",
     "output_type": "stream",
     "text": [
      "looking at group P08_01 with len 156\n"
     ]
    },
    {
     "name": "stderr",
     "output_type": "stream",
     "text": [
      " 40%|████      | 199/495 [1:02:19<16:33,  3.36s/it]"
     ]
    },
    {
     "name": "stdout",
     "output_type": "stream",
     "text": [
      "looking at group P08_02 with len 34\n"
     ]
    },
    {
     "name": "stderr",
     "output_type": "stream",
     "text": [
      " 40%|████      | 200/495 [1:02:19<11:58,  2.44s/it]"
     ]
    },
    {
     "name": "stdout",
     "output_type": "stream",
     "text": [
      "looking at group P08_03 with len 34\n"
     ]
    },
    {
     "name": "stderr",
     "output_type": "stream",
     "text": [
      " 41%|████      | 201/495 [1:02:20<08:47,  1.79s/it]"
     ]
    },
    {
     "name": "stdout",
     "output_type": "stream",
     "text": [
      "looking at group P08_04 with len 66\n"
     ]
    },
    {
     "name": "stderr",
     "output_type": "stream",
     "text": [
      " 41%|████      | 202/495 [1:02:21<07:59,  1.64s/it]"
     ]
    },
    {
     "name": "stdout",
     "output_type": "stream",
     "text": [
      "looking at group P08_05 with len 371\n"
     ]
    },
    {
     "name": "stderr",
     "output_type": "stream",
     "text": [
      " 41%|████      | 203/495 [1:02:56<56:27, 11.60s/it]"
     ]
    },
    {
     "name": "stdout",
     "output_type": "stream",
     "text": [
      "looking at group P08_06 with len 122\n"
     ]
    },
    {
     "name": "stderr",
     "output_type": "stream",
     "text": [
      " 41%|████      | 204/495 [1:02:59<44:27,  9.17s/it]"
     ]
    },
    {
     "name": "stdout",
     "output_type": "stream",
     "text": [
      "looking at group P08_07 with len 9\n",
      "looking at group P08_08 with len 36\n"
     ]
    },
    {
     "name": "stderr",
     "output_type": "stream",
     "text": [
      " 42%|████▏     | 206/495 [1:03:00<24:09,  5.01s/it]"
     ]
    },
    {
     "name": "stdout",
     "output_type": "stream",
     "text": [
      "looking at group P08_11 with len 51\n"
     ]
    },
    {
     "name": "stderr",
     "output_type": "stream",
     "text": [
      " 42%|████▏     | 207/495 [1:03:00<18:52,  3.93s/it]"
     ]
    },
    {
     "name": "stdout",
     "output_type": "stream",
     "text": [
      "looking at group P08_12 with len 8\n",
      "looking at group P08_13 with len 4\n",
      "looking at group P08_18 with len 113\n"
     ]
    },
    {
     "name": "stderr",
     "output_type": "stream",
     "text": [
      " 43%|████▎     | 211/495 [1:03:04<09:29,  2.01s/it]"
     ]
    },
    {
     "name": "stdout",
     "output_type": "stream",
     "text": [
      "looking at group P08_19 with len 25\n",
      "looking at group P08_20 with len 40\n"
     ]
    },
    {
     "name": "stderr",
     "output_type": "stream",
     "text": [
      " 43%|████▎     | 212/495 [1:03:04<07:48,  1.65s/it]"
     ]
    },
    {
     "name": "stdout",
     "output_type": "stream",
     "text": [
      "looking at group P08_21 with len 341\n"
     ]
    },
    {
     "name": "stderr",
     "output_type": "stream",
     "text": [
      " 43%|████▎     | 213/495 [1:03:31<35:58,  7.66s/it]"
     ]
    },
    {
     "name": "stdout",
     "output_type": "stream",
     "text": [
      "looking at group P08_22 with len 37\n"
     ]
    },
    {
     "name": "stderr",
     "output_type": "stream",
     "text": [
      " 43%|████▎     | 214/495 [1:03:31<27:06,  5.79s/it]"
     ]
    },
    {
     "name": "stdout",
     "output_type": "stream",
     "text": [
      "looking at group P08_23 with len 294\n"
     ]
    },
    {
     "name": "stderr",
     "output_type": "stream",
     "text": [
      " 43%|████▎     | 215/495 [1:03:48<41:12,  8.83s/it]"
     ]
    },
    {
     "name": "stdout",
     "output_type": "stream",
     "text": [
      "looking at group P08_24 with len 117\n"
     ]
    },
    {
     "name": "stderr",
     "output_type": "stream",
     "text": [
      " 44%|████▎     | 216/495 [1:03:51<33:27,  7.20s/it]"
     ]
    },
    {
     "name": "stdout",
     "output_type": "stream",
     "text": [
      "looking at group P08_25 with len 7\n",
      "looking at group P08_26 with len 103\n"
     ]
    },
    {
     "name": "stderr",
     "output_type": "stream",
     "text": [
      " 44%|████▍     | 218/495 [1:03:54<20:56,  4.54s/it]"
     ]
    },
    {
     "name": "stdout",
     "output_type": "stream",
     "text": [
      "looking at group P08_27 with len 41\n"
     ]
    },
    {
     "name": "stderr",
     "output_type": "stream",
     "text": [
      " 44%|████▍     | 219/495 [1:03:54<16:15,  3.54s/it]"
     ]
    },
    {
     "name": "stdout",
     "output_type": "stream",
     "text": [
      "looking at group P08_28 with len 15\n",
      "looking at group P09_01 with len 3\n",
      "looking at group P09_02 with len 68\n"
     ]
    },
    {
     "name": "stderr",
     "output_type": "stream",
     "text": [
      " 45%|████▍     | 222/495 [1:03:55<08:42,  1.91s/it]"
     ]
    },
    {
     "name": "stdout",
     "output_type": "stream",
     "text": [
      "looking at group P09_03 with len 34\n"
     ]
    },
    {
     "name": "stderr",
     "output_type": "stream",
     "text": [
      " 45%|████▌     | 223/495 [1:03:55<07:12,  1.59s/it]"
     ]
    },
    {
     "name": "stdout",
     "output_type": "stream",
     "text": [
      "looking at group P09_04 with len 19\n",
      "looking at group P09_05 with len 50\n"
     ]
    },
    {
     "name": "stderr",
     "output_type": "stream",
     "text": [
      " 45%|████▌     | 225/495 [1:03:56<05:03,  1.13s/it]"
     ]
    },
    {
     "name": "stdout",
     "output_type": "stream",
     "text": [
      "looking at group P09_06 with len 69\n"
     ]
    },
    {
     "name": "stderr",
     "output_type": "stream",
     "text": [
      " 46%|████▌     | 226/495 [1:03:57<04:54,  1.09s/it]"
     ]
    },
    {
     "name": "stdout",
     "output_type": "stream",
     "text": [
      "looking at group P09_103 with len 44\n"
     ]
    },
    {
     "name": "stderr",
     "output_type": "stream",
     "text": [
      " 46%|████▌     | 227/495 [1:03:57<04:11,  1.07it/s]"
     ]
    },
    {
     "name": "stdout",
     "output_type": "stream",
     "text": [
      "looking at group P09_104 with len 85\n"
     ]
    },
    {
     "name": "stderr",
     "output_type": "stream",
     "text": [
      " 46%|████▌     | 228/495 [1:03:59<04:51,  1.09s/it]"
     ]
    },
    {
     "name": "stdout",
     "output_type": "stream",
     "text": [
      "looking at group P09_105 with len 36\n"
     ]
    },
    {
     "name": "stderr",
     "output_type": "stream",
     "text": [
      " 46%|████▋     | 230/495 [1:03:59<03:02,  1.45it/s]"
     ]
    },
    {
     "name": "stdout",
     "output_type": "stream",
     "text": [
      "looking at group P09_106 with len 27\n",
      "looking at group P10_01 with len 123\n"
     ]
    },
    {
     "name": "stderr",
     "output_type": "stream",
     "text": [
      " 47%|████▋     | 231/495 [1:04:03<06:13,  1.42s/it]"
     ]
    },
    {
     "name": "stdout",
     "output_type": "stream",
     "text": [
      "looking at group P10_02 with len 150\n"
     ]
    },
    {
     "name": "stderr",
     "output_type": "stream",
     "text": [
      " 47%|████▋     | 232/495 [1:04:07<09:58,  2.28s/it]"
     ]
    },
    {
     "name": "stdout",
     "output_type": "stream",
     "text": [
      "looking at group P10_04 with len 506\n"
     ]
    },
    {
     "name": "stderr",
     "output_type": "stream",
     "text": [
      " 47%|████▋     | 233/495 [1:04:59<1:12:06, 16.51s/it]"
     ]
    },
    {
     "name": "stdout",
     "output_type": "stream",
     "text": [
      "looking at group P11_01 with len 76\n"
     ]
    },
    {
     "name": "stderr",
     "output_type": "stream",
     "text": [
      " 47%|████▋     | 235/495 [1:05:00<36:56,  8.52s/it]  "
     ]
    },
    {
     "name": "stdout",
     "output_type": "stream",
     "text": [
      "looking at group P11_02 with len 22\n",
      "looking at group P11_03 with len 51\n"
     ]
    },
    {
     "name": "stderr",
     "output_type": "stream",
     "text": [
      " 48%|████▊     | 236/495 [1:05:00<26:36,  6.16s/it]"
     ]
    },
    {
     "name": "stdout",
     "output_type": "stream",
     "text": [
      "looking at group P11_04 with len 118\n"
     ]
    },
    {
     "name": "stderr",
     "output_type": "stream",
     "text": [
      " 48%|████▊     | 237/495 [1:05:03<22:15,  5.18s/it]"
     ]
    },
    {
     "name": "stdout",
     "output_type": "stream",
     "text": [
      "looking at group P11_05 with len 412\n"
     ]
    },
    {
     "name": "stderr",
     "output_type": "stream",
     "text": [
      " 48%|████▊     | 238/495 [1:05:42<1:04:24, 15.04s/it]"
     ]
    },
    {
     "name": "stdout",
     "output_type": "stream",
     "text": [
      "looking at group P11_06 with len 16\n",
      "looking at group P11_07 with len 12\n",
      "looking at group P11_08 with len 30\n"
     ]
    },
    {
     "name": "stderr",
     "output_type": "stream",
     "text": [
      " 49%|████▊     | 241/495 [1:05:42<28:11,  6.66s/it]  "
     ]
    },
    {
     "name": "stdout",
     "output_type": "stream",
     "text": [
      "looking at group P11_09 with len 42\n"
     ]
    },
    {
     "name": "stderr",
     "output_type": "stream",
     "text": [
      " 49%|████▉     | 242/495 [1:05:42<22:31,  5.34s/it]"
     ]
    },
    {
     "name": "stdout",
     "output_type": "stream",
     "text": [
      "looking at group P11_10 with len 6\n",
      "looking at group P11_101 with len 41\n"
     ]
    },
    {
     "name": "stderr",
     "output_type": "stream",
     "text": [
      " 49%|████▉     | 244/495 [1:05:43<14:14,  3.40s/it]"
     ]
    },
    {
     "name": "stdout",
     "output_type": "stream",
     "text": [
      "looking at group P11_102 with len 80\n"
     ]
    },
    {
     "name": "stderr",
     "output_type": "stream",
     "text": [
      " 49%|████▉     | 245/495 [1:05:44<12:22,  2.97s/it]"
     ]
    },
    {
     "name": "stdout",
     "output_type": "stream",
     "text": [
      "looking at group P11_103 with len 74\n"
     ]
    },
    {
     "name": "stderr",
     "output_type": "stream",
     "text": [
      " 50%|████▉     | 246/495 [1:05:45<10:34,  2.55s/it]"
     ]
    },
    {
     "name": "stdout",
     "output_type": "stream",
     "text": [
      "looking at group P11_104 with len 199\n"
     ]
    },
    {
     "name": "stderr",
     "output_type": "stream",
     "text": [
      " 50%|████▉     | 247/495 [1:05:54<16:46,  4.06s/it]"
     ]
    },
    {
     "name": "stdout",
     "output_type": "stream",
     "text": [
      "looking at group P11_105 with len 84\n"
     ]
    },
    {
     "name": "stderr",
     "output_type": "stream",
     "text": [
      " 50%|█████     | 248/495 [1:05:55<13:54,  3.38s/it]"
     ]
    },
    {
     "name": "stdout",
     "output_type": "stream",
     "text": [
      "looking at group P11_107 with len 32\n"
     ]
    },
    {
     "name": "stderr",
     "output_type": "stream",
     "text": [
      " 50%|█████     | 249/495 [1:05:55<10:18,  2.52s/it]"
     ]
    },
    {
     "name": "stdout",
     "output_type": "stream",
     "text": [
      "looking at group P11_109 with len 120\n"
     ]
    },
    {
     "name": "stderr",
     "output_type": "stream",
     "text": [
      " 51%|█████     | 251/495 [1:05:59<07:50,  1.93s/it]"
     ]
    },
    {
     "name": "stdout",
     "output_type": "stream",
     "text": [
      "looking at group P11_11 with len 25\n",
      "looking at group P11_12 with len 16\n",
      "looking at group P11_13 with len 24\n"
     ]
    },
    {
     "name": "stderr",
     "output_type": "stream",
     "text": [
      " 51%|█████     | 253/495 [1:05:59<04:26,  1.10s/it]"
     ]
    },
    {
     "name": "stdout",
     "output_type": "stream",
     "text": [
      "looking at group P11_14 with len 11\n",
      "looking at group P11_15 with len 109\n"
     ]
    },
    {
     "name": "stderr",
     "output_type": "stream",
     "text": [
      " 52%|█████▏    | 255/495 [1:06:01<04:38,  1.16s/it]"
     ]
    },
    {
     "name": "stdout",
     "output_type": "stream",
     "text": [
      "looking at group P11_16 with len 86\n"
     ]
    },
    {
     "name": "stderr",
     "output_type": "stream",
     "text": [
      " 52%|█████▏    | 256/495 [1:06:03<04:56,  1.24s/it]"
     ]
    },
    {
     "name": "stdout",
     "output_type": "stream",
     "text": [
      "looking at group P12_01 with len 67\n"
     ]
    },
    {
     "name": "stderr",
     "output_type": "stream",
     "text": [
      " 52%|█████▏    | 257/495 [1:06:04<04:38,  1.17s/it]"
     ]
    },
    {
     "name": "stdout",
     "output_type": "stream",
     "text": [
      "looking at group P12_02 with len 190\n"
     ]
    },
    {
     "name": "stderr",
     "output_type": "stream",
     "text": [
      " 52%|█████▏    | 258/495 [1:06:11<10:41,  2.70s/it]"
     ]
    },
    {
     "name": "stdout",
     "output_type": "stream",
     "text": [
      "looking at group P12_04 with len 113\n"
     ]
    },
    {
     "name": "stderr",
     "output_type": "stream",
     "text": [
      " 53%|█████▎    | 261/495 [1:06:14<06:01,  1.55s/it]"
     ]
    },
    {
     "name": "stdout",
     "output_type": "stream",
     "text": [
      "looking at group P12_05 with len 5\n",
      "looking at group P12_06 with len 28\n",
      "looking at group P12_07 with len 37\n"
     ]
    },
    {
     "name": "stderr",
     "output_type": "stream",
     "text": [
      " 53%|█████▎    | 262/495 [1:06:14<04:50,  1.25s/it]"
     ]
    },
    {
     "name": "stdout",
     "output_type": "stream",
     "text": [
      "looking at group P12_101 with len 501\n"
     ]
    },
    {
     "name": "stderr",
     "output_type": "stream",
     "text": [
      " 53%|█████▎    | 263/495 [1:07:06<54:47, 14.17s/it]"
     ]
    },
    {
     "name": "stdout",
     "output_type": "stream",
     "text": [
      "looking at group P12_103 with len 137\n"
     ]
    },
    {
     "name": "stderr",
     "output_type": "stream",
     "text": [
      " 53%|█████▎    | 264/495 [1:07:10<44:02, 11.44s/it]"
     ]
    },
    {
     "name": "stdout",
     "output_type": "stream",
     "text": [
      "looking at group P12_104 with len 292\n"
     ]
    },
    {
     "name": "stderr",
     "output_type": "stream",
     "text": [
      " 54%|█████▎    | 265/495 [1:07:27<49:30, 12.91s/it]"
     ]
    },
    {
     "name": "stdout",
     "output_type": "stream",
     "text": [
      "looking at group P12_105 with len 72\n"
     ]
    },
    {
     "name": "stderr",
     "output_type": "stream",
     "text": [
      " 54%|█████▎    | 266/495 [1:07:28<36:30,  9.57s/it]"
     ]
    },
    {
     "name": "stdout",
     "output_type": "stream",
     "text": [
      "looking at group P13_04 with len 47\n"
     ]
    },
    {
     "name": "stderr",
     "output_type": "stream",
     "text": [
      " 54%|█████▍    | 267/495 [1:07:29<26:24,  6.95s/it]"
     ]
    },
    {
     "name": "stdout",
     "output_type": "stream",
     "text": [
      "looking at group P13_05 with len 36\n"
     ]
    },
    {
     "name": "stderr",
     "output_type": "stream",
     "text": [
      " 54%|█████▍    | 269/495 [1:07:29<13:25,  3.57s/it]"
     ]
    },
    {
     "name": "stdout",
     "output_type": "stream",
     "text": [
      "looking at group P13_06 with len 22\n",
      "looking at group P13_07 with len 25\n"
     ]
    },
    {
     "name": "stderr",
     "output_type": "stream",
     "text": [
      " 55%|█████▍    | 270/495 [1:07:29<09:33,  2.55s/it]"
     ]
    },
    {
     "name": "stdout",
     "output_type": "stream",
     "text": [
      "looking at group P13_08 with len 186\n"
     ]
    },
    {
     "name": "stderr",
     "output_type": "stream",
     "text": [
      " 55%|█████▍    | 271/495 [1:07:36<14:17,  3.83s/it]"
     ]
    },
    {
     "name": "stdout",
     "output_type": "stream",
     "text": [
      "looking at group P13_09 with len 57\n"
     ]
    },
    {
     "name": "stderr",
     "output_type": "stream",
     "text": [
      " 55%|█████▌    | 273/495 [1:07:37<07:43,  2.09s/it]"
     ]
    },
    {
     "name": "stdout",
     "output_type": "stream",
     "text": [
      "looking at group P13_10 with len 29\n",
      "looking at group P14_01 with len 17\n"
     ]
    },
    {
     "name": "stderr",
     "output_type": "stream",
     "text": [
      " 56%|█████▌    | 277/495 [1:07:37<02:54,  1.25it/s]"
     ]
    },
    {
     "name": "stdout",
     "output_type": "stream",
     "text": [
      "looking at group P14_02 with len 8\n",
      "looking at group P14_03 with len 2\n",
      "looking at group P14_04 with len 22\n",
      "looking at group P14_05 with len 13\n",
      "looking at group P14_07 with len 12\n",
      "looking at group P14_09 with len 36\n"
     ]
    },
    {
     "name": "stderr",
     "output_type": "stream",
     "text": [
      " 57%|█████▋    | 280/495 [1:07:37<01:53,  1.90it/s]"
     ]
    },
    {
     "name": "stdout",
     "output_type": "stream",
     "text": [
      "looking at group P15_01 with len 9\n",
      "looking at group P15_02 with len 62\n"
     ]
    },
    {
     "name": "stderr",
     "output_type": "stream",
     "text": [
      " 57%|█████▋    | 282/495 [1:07:38<01:44,  2.04it/s]"
     ]
    },
    {
     "name": "stdout",
     "output_type": "stream",
     "text": [
      "looking at group P15_03 with len 43\n"
     ]
    },
    {
     "name": "stderr",
     "output_type": "stream",
     "text": [
      " 57%|█████▋    | 283/495 [1:07:38<01:39,  2.13it/s]"
     ]
    },
    {
     "name": "stdout",
     "output_type": "stream",
     "text": [
      "looking at group P15_07 with len 12\n",
      "looking at group P15_08 with len 89\n"
     ]
    },
    {
     "name": "stderr",
     "output_type": "stream",
     "text": [
      " 58%|█████▊    | 286/495 [1:07:40<01:41,  2.06it/s]"
     ]
    },
    {
     "name": "stdout",
     "output_type": "stream",
     "text": [
      "looking at group P15_09 with len 24\n",
      "looking at group P15_10 with len 21\n",
      "looking at group P15_11 with len 3\n",
      "looking at group P15_12 with len 5\n",
      "looking at group P15_13 with len 77\n"
     ]
    },
    {
     "name": "stderr",
     "output_type": "stream",
     "text": [
      " 59%|█████▊    | 290/495 [1:07:42<01:23,  2.45it/s]"
     ]
    },
    {
     "name": "stdout",
     "output_type": "stream",
     "text": [
      "looking at group P16_01 with len 81\n"
     ]
    },
    {
     "name": "stderr",
     "output_type": "stream",
     "text": [
      " 59%|█████▉    | 294/495 [1:07:43<01:10,  2.85it/s]"
     ]
    },
    {
     "name": "stdout",
     "output_type": "stream",
     "text": [
      "looking at group P16_02 with len 8\n",
      "looking at group P16_03 with len 14\n",
      "looking at group P17_01 with len 16\n",
      "looking at group P17_03 with len 28\n",
      "looking at group P17_04 with len 45\n"
     ]
    },
    {
     "name": "stderr",
     "output_type": "stream",
     "text": [
      " 60%|█████▉    | 296/495 [1:07:44<01:07,  2.97it/s]"
     ]
    },
    {
     "name": "stdout",
     "output_type": "stream",
     "text": [
      "looking at group P19_01 with len 84\n"
     ]
    },
    {
     "name": "stderr",
     "output_type": "stream",
     "text": [
      " 60%|██████    | 299/495 [1:07:45<01:17,  2.54it/s]"
     ]
    },
    {
     "name": "stdout",
     "output_type": "stream",
     "text": [
      "looking at group P19_02 with len 5\n",
      "looking at group P19_03 with len 25\n",
      "looking at group P19_04 with len 93\n"
     ]
    },
    {
     "name": "stderr",
     "output_type": "stream",
     "text": [
      " 61%|██████    | 300/495 [1:07:47<02:08,  1.52it/s]"
     ]
    },
    {
     "name": "stdout",
     "output_type": "stream",
     "text": [
      "looking at group P20_01 with len 353\n"
     ]
    },
    {
     "name": "stderr",
     "output_type": "stream",
     "text": [
      " 61%|██████    | 301/495 [1:08:13<19:07,  5.91s/it]"
     ]
    },
    {
     "name": "stdout",
     "output_type": "stream",
     "text": [
      "looking at group P20_02 with len 116\n"
     ]
    },
    {
     "name": "stderr",
     "output_type": "stream",
     "text": [
      " 61%|██████    | 302/495 [1:08:16<16:42,  5.20s/it]"
     ]
    },
    {
     "name": "stdout",
     "output_type": "stream",
     "text": [
      "looking at group P20_03 with len 58\n"
     ]
    },
    {
     "name": "stderr",
     "output_type": "stream",
     "text": [
      " 61%|██████    | 303/495 [1:08:16<13:01,  4.07s/it]"
     ]
    },
    {
     "name": "stdout",
     "output_type": "stream",
     "text": [
      "looking at group P20_04 with len 395\n"
     ]
    },
    {
     "name": "stderr",
     "output_type": "stream",
     "text": [
      " 61%|██████▏   | 304/495 [1:08:46<34:23, 10.81s/it]"
     ]
    },
    {
     "name": "stdout",
     "output_type": "stream",
     "text": [
      "looking at group P21_01 with len 97\n"
     ]
    },
    {
     "name": "stderr",
     "output_type": "stream",
     "text": [
      " 62%|██████▏   | 305/495 [1:08:48<26:40,  8.42s/it]"
     ]
    },
    {
     "name": "stdout",
     "output_type": "stream",
     "text": [
      "looking at group P21_03 with len 75\n"
     ]
    },
    {
     "name": "stderr",
     "output_type": "stream",
     "text": [
      " 62%|██████▏   | 306/495 [1:08:49<20:14,  6.42s/it]"
     ]
    },
    {
     "name": "stdout",
     "output_type": "stream",
     "text": [
      "looking at group P21_04 with len 73\n"
     ]
    },
    {
     "name": "stderr",
     "output_type": "stream",
     "text": [
      " 62%|██████▏   | 307/495 [1:08:51<15:23,  4.91s/it]"
     ]
    },
    {
     "name": "stdout",
     "output_type": "stream",
     "text": [
      "looking at group P22_05 with len 492\n"
     ]
    },
    {
     "name": "stderr",
     "output_type": "stream",
     "text": [
      " 62%|██████▏   | 308/495 [1:09:38<53:57, 17.31s/it]"
     ]
    },
    {
     "name": "stdout",
     "output_type": "stream",
     "text": [
      "looking at group P22_06 with len 189\n"
     ]
    },
    {
     "name": "stderr",
     "output_type": "stream",
     "text": [
      " 62%|██████▏   | 309/495 [1:09:45<43:54, 14.16s/it]"
     ]
    },
    {
     "name": "stdout",
     "output_type": "stream",
     "text": [
      "looking at group P22_07 with len 742\n"
     ]
    },
    {
     "name": "stderr",
     "output_type": "stream",
     "text": [
      " 63%|██████▎   | 310/495 [1:11:41<2:16:06, 44.14s/it]"
     ]
    },
    {
     "name": "stdout",
     "output_type": "stream",
     "text": [
      "looking at group P22_08 with len 385\n"
     ]
    },
    {
     "name": "stderr",
     "output_type": "stream",
     "text": [
      " 63%|██████▎   | 311/495 [1:12:16<2:07:42, 41.64s/it]"
     ]
    },
    {
     "name": "stdout",
     "output_type": "stream",
     "text": [
      "looking at group P22_09 with len 191\n"
     ]
    },
    {
     "name": "stderr",
     "output_type": "stream",
     "text": [
      " 63%|██████▎   | 312/495 [1:12:27<1:38:39, 32.34s/it]"
     ]
    },
    {
     "name": "stdout",
     "output_type": "stream",
     "text": [
      "looking at group P22_10 with len 429\n"
     ]
    },
    {
     "name": "stderr",
     "output_type": "stream",
     "text": [
      " 63%|██████▎   | 313/495 [1:13:16<1:53:25, 37.39s/it]"
     ]
    },
    {
     "name": "stdout",
     "output_type": "stream",
     "text": [
      "looking at group P22_101 with len 164\n"
     ]
    },
    {
     "name": "stderr",
     "output_type": "stream",
     "text": [
      " 63%|██████▎   | 314/495 [1:13:24<1:26:20, 28.62s/it]"
     ]
    },
    {
     "name": "stdout",
     "output_type": "stream",
     "text": [
      "looking at group P22_102 with len 139\n"
     ]
    },
    {
     "name": "stderr",
     "output_type": "stream",
     "text": [
      " 64%|██████▎   | 315/495 [1:13:29<1:04:59, 21.66s/it]"
     ]
    },
    {
     "name": "stdout",
     "output_type": "stream",
     "text": [
      "looking at group P22_103 with len 400\n"
     ]
    },
    {
     "name": "stderr",
     "output_type": "stream",
     "text": [
      " 64%|██████▍   | 316/495 [1:14:18<1:28:48, 29.77s/it]"
     ]
    },
    {
     "name": "stdout",
     "output_type": "stream",
     "text": [
      "looking at group P22_104 with len 196\n"
     ]
    },
    {
     "name": "stderr",
     "output_type": "stream",
     "text": [
      " 64%|██████▍   | 318/495 [1:14:33<52:01, 17.63s/it]  "
     ]
    },
    {
     "name": "stdout",
     "output_type": "stream",
     "text": [
      "looking at group P22_105 with len 17\n",
      "looking at group P22_106 with len 312\n"
     ]
    },
    {
     "name": "stderr",
     "output_type": "stream",
     "text": [
      " 64%|██████▍   | 319/495 [1:15:09<1:07:55, 23.15s/it]"
     ]
    },
    {
     "name": "stdout",
     "output_type": "stream",
     "text": [
      "looking at group P22_107 with len 242\n"
     ]
    },
    {
     "name": "stderr",
     "output_type": "stream",
     "text": [
      " 65%|██████▍   | 320/495 [1:15:38<1:13:10, 25.09s/it]"
     ]
    },
    {
     "name": "stdout",
     "output_type": "stream",
     "text": [
      "looking at group P22_108 with len 105\n"
     ]
    },
    {
     "name": "stderr",
     "output_type": "stream",
     "text": [
      " 65%|██████▍   | 321/495 [1:15:44<55:43, 19.21s/it]  "
     ]
    },
    {
     "name": "stdout",
     "output_type": "stream",
     "text": [
      "looking at group P22_109 with len 817\n"
     ]
    },
    {
     "name": "stderr",
     "output_type": "stream",
     "text": [
      " 65%|██████▌   | 322/495 [1:19:14<3:40:38, 76.52s/it]"
     ]
    },
    {
     "name": "stdout",
     "output_type": "stream",
     "text": [
      "looking at group P22_11 with len 196\n"
     ]
    },
    {
     "name": "stderr",
     "output_type": "stream",
     "text": [
      " 65%|██████▌   | 323/495 [1:19:25<2:43:11, 56.93s/it]"
     ]
    },
    {
     "name": "stdout",
     "output_type": "stream",
     "text": [
      "looking at group P22_110 with len 212\n"
     ]
    },
    {
     "name": "stderr",
     "output_type": "stream",
     "text": [
      " 65%|██████▌   | 324/495 [1:19:40<2:06:36, 44.42s/it]"
     ]
    },
    {
     "name": "stdout",
     "output_type": "stream",
     "text": [
      "looking at group P22_111 with len 672\n"
     ]
    },
    {
     "name": "stderr",
     "output_type": "stream",
     "text": [
      " 66%|██████▌   | 325/495 [1:21:43<3:12:37, 67.98s/it]"
     ]
    },
    {
     "name": "stdout",
     "output_type": "stream",
     "text": [
      "looking at group P22_112 with len 172\n"
     ]
    },
    {
     "name": "stderr",
     "output_type": "stream",
     "text": [
      " 66%|██████▌   | 326/495 [1:21:55<2:23:48, 51.05s/it]"
     ]
    },
    {
     "name": "stdout",
     "output_type": "stream",
     "text": [
      "looking at group P22_113 with len 327\n"
     ]
    },
    {
     "name": "stderr",
     "output_type": "stream",
     "text": [
      " 66%|██████▌   | 327/495 [1:22:43<2:20:27, 50.17s/it]"
     ]
    },
    {
     "name": "stdout",
     "output_type": "stream",
     "text": [
      "looking at group P22_115 with len 247\n"
     ]
    },
    {
     "name": "stderr",
     "output_type": "stream",
     "text": [
      " 66%|██████▋   | 328/495 [1:23:06<1:56:46, 41.96s/it]"
     ]
    },
    {
     "name": "stdout",
     "output_type": "stream",
     "text": [
      "looking at group P22_116 with len 223\n"
     ]
    },
    {
     "name": "stderr",
     "output_type": "stream",
     "text": [
      " 66%|██████▋   | 329/495 [1:23:22<1:34:49, 34.27s/it]"
     ]
    },
    {
     "name": "stdout",
     "output_type": "stream",
     "text": [
      "looking at group P22_117 with len 439\n"
     ]
    },
    {
     "name": "stderr",
     "output_type": "stream",
     "text": [
      " 67%|██████▋   | 330/495 [1:24:49<2:17:25, 49.98s/it]"
     ]
    },
    {
     "name": "stdout",
     "output_type": "stream",
     "text": [
      "looking at group P22_12 with len 289\n"
     ]
    },
    {
     "name": "stderr",
     "output_type": "stream",
     "text": [
      " 67%|██████▋   | 331/495 [1:25:28<2:08:08, 46.88s/it]"
     ]
    },
    {
     "name": "stdout",
     "output_type": "stream",
     "text": [
      "looking at group P22_13 with len 246\n"
     ]
    },
    {
     "name": "stderr",
     "output_type": "stream",
     "text": [
      " 67%|██████▋   | 332/495 [1:25:55<1:50:21, 40.62s/it]"
     ]
    },
    {
     "name": "stdout",
     "output_type": "stream",
     "text": [
      "looking at group P22_14 with len 291\n"
     ]
    },
    {
     "name": "stderr",
     "output_type": "stream",
     "text": [
      " 67%|██████▋   | 333/495 [1:26:21<1:38:10, 36.36s/it]"
     ]
    },
    {
     "name": "stdout",
     "output_type": "stream",
     "text": [
      "looking at group P22_15 with len 280\n"
     ]
    },
    {
     "name": "stderr",
     "output_type": "stream",
     "text": [
      " 67%|██████▋   | 334/495 [1:27:00<1:39:38, 37.13s/it]"
     ]
    },
    {
     "name": "stdout",
     "output_type": "stream",
     "text": [
      "looking at group P22_16 with len 528\n"
     ]
    },
    {
     "name": "stderr",
     "output_type": "stream",
     "text": [
      " 68%|██████▊   | 335/495 [1:29:07<2:51:16, 64.23s/it]"
     ]
    },
    {
     "name": "stdout",
     "output_type": "stream",
     "text": [
      "looking at group P22_17 with len 560\n"
     ]
    },
    {
     "name": "stderr",
     "output_type": "stream",
     "text": [
      " 68%|██████▊   | 336/495 [1:31:11<3:37:41, 82.15s/it]"
     ]
    },
    {
     "name": "stdout",
     "output_type": "stream",
     "text": [
      "looking at group P23_01 with len 14\n",
      "looking at group P23_02 with len 203\n"
     ]
    },
    {
     "name": "stderr",
     "output_type": "stream",
     "text": [
      " 68%|██████▊   | 338/495 [1:31:25<2:03:46, 47.30s/it]"
     ]
    },
    {
     "name": "stdout",
     "output_type": "stream",
     "text": [
      "looking at group P23_03 with len 44\n"
     ]
    },
    {
     "name": "stderr",
     "output_type": "stream",
     "text": [
      " 68%|██████▊   | 339/495 [1:31:25<1:32:56, 35.75s/it]"
     ]
    },
    {
     "name": "stdout",
     "output_type": "stream",
     "text": [
      "looking at group P23_04 with len 188\n"
     ]
    },
    {
     "name": "stderr",
     "output_type": "stream",
     "text": [
      " 69%|██████▊   | 340/495 [1:31:38<1:16:54, 29.77s/it]"
     ]
    },
    {
     "name": "stdout",
     "output_type": "stream",
     "text": [
      "looking at group P23_101 with len 353\n"
     ]
    },
    {
     "name": "stderr",
     "output_type": "stream",
     "text": [
      " 69%|██████▉   | 341/495 [1:32:12<1:19:15, 30.88s/it]"
     ]
    },
    {
     "name": "stdout",
     "output_type": "stream",
     "text": [
      "looking at group P23_102 with len 629\n"
     ]
    },
    {
     "name": "stderr",
     "output_type": "stream",
     "text": [
      " 69%|██████▉   | 342/495 [1:34:23<2:29:53, 58.78s/it]"
     ]
    },
    {
     "name": "stdout",
     "output_type": "stream",
     "text": [
      "looking at group P24_01 with len 95\n"
     ]
    },
    {
     "name": "stderr",
     "output_type": "stream",
     "text": [
      " 69%|██████▉   | 343/495 [1:34:25<1:48:08, 42.69s/it]"
     ]
    },
    {
     "name": "stdout",
     "output_type": "stream",
     "text": [
      "looking at group P24_02 with len 155\n"
     ]
    },
    {
     "name": "stderr",
     "output_type": "stream",
     "text": [
      " 69%|██████▉   | 344/495 [1:34:32<1:21:22, 32.33s/it]"
     ]
    },
    {
     "name": "stdout",
     "output_type": "stream",
     "text": [
      "looking at group P24_03 with len 120\n"
     ]
    },
    {
     "name": "stderr",
     "output_type": "stream",
     "text": [
      " 70%|██████▉   | 345/495 [1:34:36<1:00:06, 24.04s/it]"
     ]
    },
    {
     "name": "stdout",
     "output_type": "stream",
     "text": [
      "looking at group P24_04 with len 122\n"
     ]
    },
    {
     "name": "stderr",
     "output_type": "stream",
     "text": [
      " 70%|██████▉   | 346/495 [1:34:40<45:00, 18.12s/it]  "
     ]
    },
    {
     "name": "stdout",
     "output_type": "stream",
     "text": [
      "looking at group P24_05 with len 314\n"
     ]
    },
    {
     "name": "stderr",
     "output_type": "stream",
     "text": [
      " 70%|███████   | 347/495 [1:35:06<50:16, 20.38s/it]"
     ]
    },
    {
     "name": "stdout",
     "output_type": "stream",
     "text": [
      "looking at group P24_06 with len 103\n"
     ]
    },
    {
     "name": "stderr",
     "output_type": "stream",
     "text": [
      " 70%|███████   | 348/495 [1:35:08<36:44, 14.99s/it]"
     ]
    },
    {
     "name": "stdout",
     "output_type": "stream",
     "text": [
      "looking at group P24_07 with len 187\n"
     ]
    },
    {
     "name": "stderr",
     "output_type": "stream",
     "text": [
      " 71%|███████   | 349/495 [1:35:15<30:46, 12.65s/it]"
     ]
    },
    {
     "name": "stdout",
     "output_type": "stream",
     "text": [
      "looking at group P24_08 with len 361\n"
     ]
    },
    {
     "name": "stderr",
     "output_type": "stream",
     "text": [
      " 71%|███████   | 350/495 [1:35:42<40:42, 16.85s/it]"
     ]
    },
    {
     "name": "stdout",
     "output_type": "stream",
     "text": [
      "looking at group P25_01 with len 16\n",
      "looking at group P25_02 with len 33\n"
     ]
    },
    {
     "name": "stderr",
     "output_type": "stream",
     "text": [
      " 71%|███████   | 352/495 [1:35:42<21:48,  9.15s/it]"
     ]
    },
    {
     "name": "stdout",
     "output_type": "stream",
     "text": [
      "looking at group P25_03 with len 15\n",
      "looking at group P25_04 with len 65\n"
     ]
    },
    {
     "name": "stderr",
     "output_type": "stream",
     "text": [
      " 72%|███████▏  | 354/495 [1:35:43<13:24,  5.71s/it]"
     ]
    },
    {
     "name": "stdout",
     "output_type": "stream",
     "text": [
      "looking at group P25_05 with len 152\n"
     ]
    },
    {
     "name": "stderr",
     "output_type": "stream",
     "text": [
      " 72%|███████▏  | 355/495 [1:35:48<13:04,  5.60s/it]"
     ]
    },
    {
     "name": "stdout",
     "output_type": "stream",
     "text": [
      "looking at group P25_09 with len 119\n"
     ]
    },
    {
     "name": "stderr",
     "output_type": "stream",
     "text": [
      " 72%|███████▏  | 356/495 [1:35:52<12:13,  5.27s/it]"
     ]
    },
    {
     "name": "stdout",
     "output_type": "stream",
     "text": [
      "looking at group P25_10 with len 39\n"
     ]
    },
    {
     "name": "stderr",
     "output_type": "stream",
     "text": [
      " 72%|███████▏  | 357/495 [1:35:53<09:18,  4.05s/it]"
     ]
    },
    {
     "name": "stdout",
     "output_type": "stream",
     "text": [
      "looking at group P25_101 with len 127\n"
     ]
    },
    {
     "name": "stderr",
     "output_type": "stream",
     "text": [
      " 72%|███████▏  | 358/495 [1:35:58<09:52,  4.32s/it]"
     ]
    },
    {
     "name": "stdout",
     "output_type": "stream",
     "text": [
      "looking at group P25_102 with len 132\n"
     ]
    },
    {
     "name": "stderr",
     "output_type": "stream",
     "text": [
      " 73%|███████▎  | 359/495 [1:36:03<10:17,  4.54s/it]"
     ]
    },
    {
     "name": "stdout",
     "output_type": "stream",
     "text": [
      "looking at group P25_103 with len 112\n"
     ]
    },
    {
     "name": "stderr",
     "output_type": "stream",
     "text": [
      " 73%|███████▎  | 360/495 [1:36:07<09:47,  4.35s/it]"
     ]
    },
    {
     "name": "stdout",
     "output_type": "stream",
     "text": [
      "looking at group P25_104 with len 263\n"
     ]
    },
    {
     "name": "stderr",
     "output_type": "stream",
     "text": [
      " 73%|███████▎  | 361/495 [1:36:28<20:33,  9.21s/it]"
     ]
    },
    {
     "name": "stdout",
     "output_type": "stream",
     "text": [
      "looking at group P25_106 with len 301\n"
     ]
    },
    {
     "name": "stderr",
     "output_type": "stream",
     "text": [
      " 73%|███████▎  | 362/495 [1:37:00<35:13, 15.89s/it]"
     ]
    },
    {
     "name": "stdout",
     "output_type": "stream",
     "text": [
      "looking at group P25_107 with len 510\n"
     ]
    },
    {
     "name": "stderr",
     "output_type": "stream",
     "text": [
      " 73%|███████▎  | 363/495 [1:38:16<1:13:39, 33.48s/it]"
     ]
    },
    {
     "name": "stdout",
     "output_type": "stream",
     "text": [
      "looking at group P25_11 with len 56\n"
     ]
    },
    {
     "name": "stderr",
     "output_type": "stream",
     "text": [
      " 74%|███████▎  | 364/495 [1:38:17<52:01, 23.83s/it]  "
     ]
    },
    {
     "name": "stdout",
     "output_type": "stream",
     "text": [
      "looking at group P25_12 with len 17\n",
      "looking at group P26_01 with len 25\n"
     ]
    },
    {
     "name": "stderr",
     "output_type": "stream",
     "text": [
      " 74%|███████▍  | 366/495 [1:38:17<27:52, 12.97s/it]"
     ]
    },
    {
     "name": "stdout",
     "output_type": "stream",
     "text": [
      "looking at group P26_02 with len 94\n"
     ]
    },
    {
     "name": "stderr",
     "output_type": "stream",
     "text": [
      " 74%|███████▍  | 367/495 [1:38:20<22:06, 10.36s/it]"
     ]
    },
    {
     "name": "stdout",
     "output_type": "stream",
     "text": [
      "looking at group P26_03 with len 58\n"
     ]
    },
    {
     "name": "stderr",
     "output_type": "stream",
     "text": [
      " 74%|███████▍  | 368/495 [1:38:20<16:41,  7.88s/it]"
     ]
    },
    {
     "name": "stdout",
     "output_type": "stream",
     "text": [
      "looking at group P26_04 with len 39\n"
     ]
    },
    {
     "name": "stderr",
     "output_type": "stream",
     "text": [
      " 75%|███████▍  | 369/495 [1:38:21<12:16,  5.84s/it]"
     ]
    },
    {
     "name": "stdout",
     "output_type": "stream",
     "text": [
      "looking at group P26_05 with len 11\n",
      "looking at group P26_06 with len 6\n",
      "looking at group P26_07 with len 5\n",
      "looking at group P26_08 with len 9\n",
      "looking at group P26_09 with len 26\n"
     ]
    },
    {
     "name": "stderr",
     "output_type": "stream",
     "text": [
      " 76%|███████▌  | 374/495 [1:38:21<04:04,  2.02s/it]"
     ]
    },
    {
     "name": "stdout",
     "output_type": "stream",
     "text": [
      "looking at group P26_10 with len 32\n"
     ]
    },
    {
     "name": "stderr",
     "output_type": "stream",
     "text": [
      " 76%|███████▌  | 376/495 [1:38:21<02:51,  1.44s/it]"
     ]
    },
    {
     "name": "stdout",
     "output_type": "stream",
     "text": [
      "looking at group P26_101 with len 24\n",
      "looking at group P26_102 with len 35\n"
     ]
    },
    {
     "name": "stderr",
     "output_type": "stream",
     "text": [
      " 76%|███████▌  | 377/495 [1:38:22<02:22,  1.20s/it]"
     ]
    },
    {
     "name": "stdout",
     "output_type": "stream",
     "text": [
      "looking at group P26_103 with len 157\n"
     ]
    },
    {
     "name": "stderr",
     "output_type": "stream",
     "text": [
      " 76%|███████▋  | 378/495 [1:38:28<04:40,  2.40s/it]"
     ]
    },
    {
     "name": "stdout",
     "output_type": "stream",
     "text": [
      "looking at group P26_104 with len 171\n"
     ]
    },
    {
     "name": "stderr",
     "output_type": "stream",
     "text": [
      " 77%|███████▋  | 379/495 [1:38:37<07:31,  3.89s/it]"
     ]
    },
    {
     "name": "stdout",
     "output_type": "stream",
     "text": [
      "looking at group P26_105 with len 171\n"
     ]
    },
    {
     "name": "stderr",
     "output_type": "stream",
     "text": [
      " 77%|███████▋  | 381/495 [1:38:46<07:18,  3.84s/it]"
     ]
    },
    {
     "name": "stdout",
     "output_type": "stream",
     "text": [
      "looking at group P26_106 with len 22\n",
      "looking at group P26_107 with len 28\n"
     ]
    },
    {
     "name": "stderr",
     "output_type": "stream",
     "text": [
      " 77%|███████▋  | 382/495 [1:38:46<05:20,  2.83s/it]"
     ]
    },
    {
     "name": "stdout",
     "output_type": "stream",
     "text": [
      "looking at group P26_108 with len 36\n"
     ]
    },
    {
     "name": "stderr",
     "output_type": "stream",
     "text": [
      " 78%|███████▊  | 385/495 [1:38:46<02:12,  1.21s/it]"
     ]
    },
    {
     "name": "stdout",
     "output_type": "stream",
     "text": [
      "looking at group P26_109 with len 7\n",
      "looking at group P26_11 with len 24\n",
      "looking at group P26_110 with len 86\n"
     ]
    },
    {
     "name": "stderr",
     "output_type": "stream",
     "text": [
      " 78%|███████▊  | 386/495 [1:38:48<02:34,  1.42s/it]"
     ]
    },
    {
     "name": "stdout",
     "output_type": "stream",
     "text": [
      "looking at group P26_111 with len 41\n"
     ]
    },
    {
     "name": "stderr",
     "output_type": "stream",
     "text": [
      " 78%|███████▊  | 387/495 [1:38:49<02:07,  1.18s/it]"
     ]
    },
    {
     "name": "stdout",
     "output_type": "stream",
     "text": [
      "looking at group P26_112 with len 125\n"
     ]
    },
    {
     "name": "stderr",
     "output_type": "stream",
     "text": [
      " 79%|███████▊  | 389/495 [1:38:53<02:37,  1.48s/it]"
     ]
    },
    {
     "name": "stdout",
     "output_type": "stream",
     "text": [
      "looking at group P26_113 with len 17\n",
      "looking at group P26_114 with len 13\n"
     ]
    },
    {
     "name": "stderr",
     "output_type": "stream",
     "text": [
      " 79%|███████▉  | 391/495 [1:38:55<02:02,  1.18s/it]"
     ]
    },
    {
     "name": "stdout",
     "output_type": "stream",
     "text": [
      "looking at group P26_115 with len 67\n",
      "looking at group P26_116 with len 67\n"
     ]
    },
    {
     "name": "stderr",
     "output_type": "stream",
     "text": [
      " 79%|███████▉  | 392/495 [1:38:56<02:04,  1.21s/it]"
     ]
    },
    {
     "name": "stdout",
     "output_type": "stream",
     "text": [
      "looking at group P26_117 with len 132\n"
     ]
    },
    {
     "name": "stderr",
     "output_type": "stream",
     "text": [
      " 79%|███████▉  | 393/495 [1:39:01<03:41,  2.17s/it]"
     ]
    },
    {
     "name": "stdout",
     "output_type": "stream",
     "text": [
      "looking at group P26_118 with len 97\n"
     ]
    },
    {
     "name": "stderr",
     "output_type": "stream",
     "text": [
      " 80%|███████▉  | 394/495 [1:39:04<03:53,  2.32s/it]"
     ]
    },
    {
     "name": "stdout",
     "output_type": "stream",
     "text": [
      "looking at group P26_119 with len 147\n"
     ]
    },
    {
     "name": "stderr",
     "output_type": "stream",
     "text": [
      " 80%|███████▉  | 395/495 [1:39:10<05:21,  3.22s/it]"
     ]
    },
    {
     "name": "stdout",
     "output_type": "stream",
     "text": [
      "looking at group P26_12 with len 6\n",
      "looking at group P26_124 with len 216\n"
     ]
    },
    {
     "name": "stderr",
     "output_type": "stream",
     "text": [
      " 80%|████████  | 397/495 [1:39:22<07:24,  4.54s/it]"
     ]
    },
    {
     "name": "stdout",
     "output_type": "stream",
     "text": [
      "looking at group P26_13 with len 27\n"
     ]
    },
    {
     "name": "stderr",
     "output_type": "stream",
     "text": [
      " 81%|████████  | 402/495 [1:39:22<02:18,  1.49s/it]"
     ]
    },
    {
     "name": "stdout",
     "output_type": "stream",
     "text": [
      "looking at group P26_14 with len 2\n",
      "looking at group P26_15 with len 8\n",
      "looking at group P26_16 with len 13\n",
      "looking at group P26_17 with len 12\n",
      "looking at group P26_18 with len 45\n",
      "looking at group P26_19 with len 91\n"
     ]
    },
    {
     "name": "stderr",
     "output_type": "stream",
     "text": [
      " 82%|████████▏ | 404/495 [1:39:26<02:19,  1.54s/it]"
     ]
    },
    {
     "name": "stdout",
     "output_type": "stream",
     "text": [
      "looking at group P26_20 with len 8\n",
      "looking at group P26_21 with len 89\n"
     ]
    },
    {
     "name": "stderr",
     "output_type": "stream",
     "text": [
      " 82%|████████▏ | 407/495 [1:39:28<01:46,  1.22s/it]"
     ]
    },
    {
     "name": "stdout",
     "output_type": "stream",
     "text": [
      "looking at group P26_22 with len 22\n",
      "looking at group P26_23 with len 14\n",
      "looking at group P26_24 with len 9\n"
     ]
    },
    {
     "name": "stderr",
     "output_type": "stream",
     "text": [
      " 83%|████████▎ | 409/495 [1:39:28<01:11,  1.20it/s]"
     ]
    },
    {
     "name": "stdout",
     "output_type": "stream",
     "text": [
      "looking at group P26_25 with len 2\n",
      "looking at group P26_26 with len 10\n",
      "looking at group P26_27 with len 1\n",
      "looking at group P26_28 with len 30\n"
     ]
    },
    {
     "name": "stderr",
     "output_type": "stream",
     "text": [
      " 83%|████████▎ | 413/495 [1:39:29<00:38,  2.15it/s]"
     ]
    },
    {
     "name": "stdout",
     "output_type": "stream",
     "text": [
      "looking at group P26_29 with len 13\n",
      "looking at group P27_01 with len 42\n"
     ]
    },
    {
     "name": "stderr",
     "output_type": "stream",
     "text": [
      " 84%|████████▍ | 417/495 [1:39:29<00:25,  3.05it/s]"
     ]
    },
    {
     "name": "stdout",
     "output_type": "stream",
     "text": [
      "looking at group P27_02 with len 14\n",
      "looking at group P27_03 with len 18\n",
      "looking at group P27_04 with len 50\n"
     ]
    },
    {
     "name": "stderr",
     "output_type": "stream",
     "text": [
      " 84%|████████▍ | 418/495 [1:39:30<00:31,  2.48it/s]"
     ]
    },
    {
     "name": "stdout",
     "output_type": "stream",
     "text": [
      "looking at group P27_06 with len 92\n"
     ]
    },
    {
     "name": "stderr",
     "output_type": "stream",
     "text": [
      " 85%|████████▍ | 419/495 [1:39:32<00:58,  1.31it/s]"
     ]
    },
    {
     "name": "stdout",
     "output_type": "stream",
     "text": [
      "looking at group P27_07 with len 92\n"
     ]
    },
    {
     "name": "stderr",
     "output_type": "stream",
     "text": [
      " 85%|████████▍ | 420/495 [1:39:35<01:24,  1.13s/it]"
     ]
    },
    {
     "name": "stdout",
     "output_type": "stream",
     "text": [
      "looking at group P27_101 with len 473\n"
     ]
    },
    {
     "name": "stderr",
     "output_type": "stream",
     "text": [
      " 85%|████████▌ | 421/495 [1:40:55<24:00, 19.47s/it]"
     ]
    },
    {
     "name": "stdout",
     "output_type": "stream",
     "text": [
      "looking at group P27_103 with len 668\n"
     ]
    },
    {
     "name": "stderr",
     "output_type": "stream",
     "text": [
      " 85%|████████▌ | 422/495 [1:44:09<1:16:20, 62.75s/it]"
     ]
    },
    {
     "name": "stdout",
     "output_type": "stream",
     "text": [
      "looking at group P27_104 with len 350\n"
     ]
    },
    {
     "name": "stderr",
     "output_type": "stream",
     "text": [
      " 85%|████████▌ | 423/495 [1:44:48<1:08:00, 56.67s/it]"
     ]
    },
    {
     "name": "stdout",
     "output_type": "stream",
     "text": [
      "looking at group P27_105 with len 295\n"
     ]
    },
    {
     "name": "stderr",
     "output_type": "stream",
     "text": [
      " 86%|████████▌ | 424/495 [1:45:13<56:42, 47.92s/it]  "
     ]
    },
    {
     "name": "stdout",
     "output_type": "stream",
     "text": [
      "looking at group P28_01 with len 90\n"
     ]
    },
    {
     "name": "stderr",
     "output_type": "stream",
     "text": [
      " 86%|████████▌ | 425/495 [1:45:17<41:37, 35.68s/it]"
     ]
    },
    {
     "name": "stdout",
     "output_type": "stream",
     "text": [
      "looking at group P28_02 with len 156\n"
     ]
    },
    {
     "name": "stderr",
     "output_type": "stream",
     "text": [
      " 86%|████████▌ | 426/495 [1:45:30<33:31, 29.15s/it]"
     ]
    },
    {
     "name": "stdout",
     "output_type": "stream",
     "text": [
      "looking at group P28_03 with len 154\n"
     ]
    },
    {
     "name": "stderr",
     "output_type": "stream",
     "text": [
      " 86%|████████▋ | 427/495 [1:45:40<26:55, 23.76s/it]"
     ]
    },
    {
     "name": "stdout",
     "output_type": "stream",
     "text": [
      "looking at group P28_04 with len 90\n"
     ]
    },
    {
     "name": "stderr",
     "output_type": "stream",
     "text": [
      " 86%|████████▋ | 428/495 [1:45:43<19:45, 17.70s/it]"
     ]
    },
    {
     "name": "stdout",
     "output_type": "stream",
     "text": [
      "looking at group P28_05 with len 76\n"
     ]
    },
    {
     "name": "stderr",
     "output_type": "stream",
     "text": [
      " 87%|████████▋ | 429/495 [1:45:46<14:27, 13.14s/it]"
     ]
    },
    {
     "name": "stdout",
     "output_type": "stream",
     "text": [
      "looking at group P28_06 with len 150\n"
     ]
    },
    {
     "name": "stderr",
     "output_type": "stream",
     "text": [
      " 87%|████████▋ | 430/495 [1:45:55<12:54, 11.92s/it]"
     ]
    },
    {
     "name": "stdout",
     "output_type": "stream",
     "text": [
      "looking at group P28_07 with len 16\n",
      "looking at group P28_08 with len 86\n"
     ]
    },
    {
     "name": "stderr",
     "output_type": "stream",
     "text": [
      " 87%|████████▋ | 432/495 [1:45:57<07:16,  6.93s/it]"
     ]
    },
    {
     "name": "stdout",
     "output_type": "stream",
     "text": [
      "looking at group P28_09 with len 131\n"
     ]
    },
    {
     "name": "stderr",
     "output_type": "stream",
     "text": [
      " 88%|████████▊ | 434/495 [1:46:02<04:52,  4.79s/it]"
     ]
    },
    {
     "name": "stdout",
     "output_type": "stream",
     "text": [
      "looking at group P28_10 with len 21\n",
      "looking at group P28_101 with len 120\n"
     ]
    },
    {
     "name": "stderr",
     "output_type": "stream",
     "text": [
      " 88%|████████▊ | 435/495 [1:46:07<04:48,  4.81s/it]"
     ]
    },
    {
     "name": "stdout",
     "output_type": "stream",
     "text": [
      "looking at group P28_102 with len 59\n"
     ]
    },
    {
     "name": "stderr",
     "output_type": "stream",
     "text": [
      " 88%|████████▊ | 436/495 [1:46:08<03:49,  3.89s/it]"
     ]
    },
    {
     "name": "stdout",
     "output_type": "stream",
     "text": [
      "looking at group P28_103 with len 295\n"
     ]
    },
    {
     "name": "stderr",
     "output_type": "stream",
     "text": [
      " 88%|████████▊ | 437/495 [1:46:46<13:03, 13.52s/it]"
     ]
    },
    {
     "name": "stdout",
     "output_type": "stream",
     "text": [
      "looking at group P28_104 with len 207\n"
     ]
    },
    {
     "name": "stderr",
     "output_type": "stream",
     "text": [
      " 88%|████████▊ | 438/495 [1:47:00<13:01, 13.70s/it]"
     ]
    },
    {
     "name": "stdout",
     "output_type": "stream",
     "text": [
      "looking at group P28_105 with len 120\n"
     ]
    },
    {
     "name": "stderr",
     "output_type": "stream",
     "text": [
      " 89%|████████▊ | 439/495 [1:47:05<10:31, 11.27s/it]"
     ]
    },
    {
     "name": "stdout",
     "output_type": "stream",
     "text": [
      "looking at group P28_106 with len 46\n"
     ]
    },
    {
     "name": "stderr",
     "output_type": "stream",
     "text": [
      " 89%|████████▉ | 440/495 [1:47:06<07:31,  8.20s/it]"
     ]
    },
    {
     "name": "stdout",
     "output_type": "stream",
     "text": [
      "looking at group P28_107 with len 7\n",
      "looking at group P28_108 with len 67\n"
     ]
    },
    {
     "name": "stderr",
     "output_type": "stream",
     "text": [
      " 89%|████████▉ | 442/495 [1:47:08<04:15,  4.82s/it]"
     ]
    },
    {
     "name": "stdout",
     "output_type": "stream",
     "text": [
      "looking at group P28_109 with len 56\n"
     ]
    },
    {
     "name": "stderr",
     "output_type": "stream",
     "text": [
      " 89%|████████▉ | 443/495 [1:47:09<03:26,  3.98s/it]"
     ]
    },
    {
     "name": "stdout",
     "output_type": "stream",
     "text": [
      "looking at group P28_11 with len 57\n"
     ]
    },
    {
     "name": "stderr",
     "output_type": "stream",
     "text": [
      " 90%|████████▉ | 444/495 [1:47:10<02:45,  3.24s/it]"
     ]
    },
    {
     "name": "stdout",
     "output_type": "stream",
     "text": [
      "looking at group P28_110 with len 34\n"
     ]
    },
    {
     "name": "stderr",
     "output_type": "stream",
     "text": [
      " 90%|████████▉ | 445/495 [1:47:11<02:03,  2.47s/it]"
     ]
    },
    {
     "name": "stdout",
     "output_type": "stream",
     "text": [
      "looking at group P28_111 with len 236\n"
     ]
    },
    {
     "name": "stderr",
     "output_type": "stream",
     "text": [
      " 90%|█████████ | 446/495 [1:47:31<06:01,  7.38s/it]"
     ]
    },
    {
     "name": "stdout",
     "output_type": "stream",
     "text": [
      "looking at group P28_112 with len 118\n"
     ]
    },
    {
     "name": "stderr",
     "output_type": "stream",
     "text": [
      " 90%|█████████ | 447/495 [1:47:37<05:33,  6.96s/it]"
     ]
    },
    {
     "name": "stdout",
     "output_type": "stream",
     "text": [
      "looking at group P28_113 with len 150\n"
     ]
    },
    {
     "name": "stderr",
     "output_type": "stream",
     "text": [
      " 91%|█████████ | 448/495 [1:47:46<05:59,  7.65s/it]"
     ]
    },
    {
     "name": "stdout",
     "output_type": "stream",
     "text": [
      "looking at group P28_12 with len 7\n",
      "looking at group P28_13 with len 34\n"
     ]
    },
    {
     "name": "stderr",
     "output_type": "stream",
     "text": [
      " 91%|█████████ | 450/495 [1:47:47<03:12,  4.28s/it]"
     ]
    },
    {
     "name": "stdout",
     "output_type": "stream",
     "text": [
      "looking at group P28_14 with len 85\n"
     ]
    },
    {
     "name": "stderr",
     "output_type": "stream",
     "text": [
      " 91%|█████████ | 451/495 [1:47:49<02:50,  3.87s/it]"
     ]
    },
    {
     "name": "stdout",
     "output_type": "stream",
     "text": [
      "looking at group P29_01 with len 338\n"
     ]
    },
    {
     "name": "stderr",
     "output_type": "stream",
     "text": [
      " 91%|█████████▏| 452/495 [1:48:28<09:19, 13.01s/it]"
     ]
    },
    {
     "name": "stdout",
     "output_type": "stream",
     "text": [
      "looking at group P29_02 with len 69\n"
     ]
    },
    {
     "name": "stderr",
     "output_type": "stream",
     "text": [
      " 92%|█████████▏| 453/495 [1:48:30<07:02, 10.05s/it]"
     ]
    },
    {
     "name": "stdout",
     "output_type": "stream",
     "text": [
      "looking at group P29_03 with len 526\n"
     ]
    },
    {
     "name": "stderr",
     "output_type": "stream",
     "text": [
      " 92%|█████████▏| 454/495 [1:49:53<20:43, 30.34s/it]"
     ]
    },
    {
     "name": "stdout",
     "output_type": "stream",
     "text": [
      "looking at group P29_04 with len 56\n"
     ]
    },
    {
     "name": "stderr",
     "output_type": "stream",
     "text": [
      " 92%|█████████▏| 456/495 [1:49:54<10:10, 15.64s/it]"
     ]
    },
    {
     "name": "stdout",
     "output_type": "stream",
     "text": [
      "looking at group P30_01 with len 30\n",
      "looking at group P30_02 with len 45\n"
     ]
    },
    {
     "name": "stderr",
     "output_type": "stream",
     "text": [
      " 92%|█████████▏| 457/495 [1:49:55<07:06, 11.22s/it]"
     ]
    },
    {
     "name": "stdout",
     "output_type": "stream",
     "text": [
      "looking at group P30_03 with len 146\n"
     ]
    },
    {
     "name": "stderr",
     "output_type": "stream",
     "text": [
      " 93%|█████████▎| 458/495 [1:50:00<05:50,  9.46s/it]"
     ]
    },
    {
     "name": "stdout",
     "output_type": "stream",
     "text": [
      "looking at group P30_04 with len 174\n"
     ]
    },
    {
     "name": "stderr",
     "output_type": "stream",
     "text": [
      " 93%|█████████▎| 459/495 [1:50:09<05:37,  9.37s/it]"
     ]
    },
    {
     "name": "stdout",
     "output_type": "stream",
     "text": [
      "looking at group P30_05 with len 749\n"
     ]
    }
   ],
   "source": [
    "cm = build_causality_matrix_weighted(train_annotations, linear_decay, empty_cm)"
   ]
  },
  {
   "cell_type": "markdown",
   "id": "40c05ba6",
   "metadata": {},
   "source": [
    "## Save Matrix"
   ]
  },
  {
   "cell_type": "code",
   "execution_count": null,
   "id": "3ed57791",
   "metadata": {},
   "outputs": [],
   "source": [
    "# Save causality matrix as pkl\n",
    "with open('causality_matrix.pkl', 'wb') as f:\n",
    "    pickle.dump(cm_array, f)"
   ]
  },
  {
   "cell_type": "code",
   "execution_count": null,
   "id": "3d8b67ad",
   "metadata": {},
   "outputs": [],
   "source": [
    "# Save causality matrix as json\n",
    "# with open('causality_matrix.json', 'w') as fp:\n",
    "#     json.dump(cm, fp)"
   ]
  },
  {
   "cell_type": "markdown",
   "id": "ecfa4d2a",
   "metadata": {},
   "source": [
    "## Load Matrix"
   ]
  },
  {
   "cell_type": "code",
   "execution_count": 5,
   "id": "12d0bfe9",
   "metadata": {},
   "outputs": [
    {
     "name": "stdout",
     "output_type": "stream",
     "text": [
      "13656\n",
      "<class 'dict'>\n"
     ]
    }
   ],
   "source": [
    "# Load causality matrix as dict\n",
    "# with open('causality_matrix.json', 'r') as fp:\n",
    "#     cm = json.load(fp)\n",
    "\n",
    "# print(type(cm))\n",
    "\n",
    "\n",
    "# Load causality matrix as pkl\n",
    "with open('causality_matrix_weighted_linear.pkl', 'rb') as f:\n",
    "    cm_pkl = pickle.load(f)\n",
    "\n",
    "print(len(cm_pkl))\n",
    "print(type(cm_pkl))"
   ]
  },
  {
   "cell_type": "code",
   "execution_count": 6,
   "id": "3f86cbf8",
   "metadata": {},
   "outputs": [],
   "source": [
    "cm_array = matrix_dict_to_array(cm_pkl)"
   ]
  },
  {
   "cell_type": "markdown",
   "id": "fe0b87f3",
   "metadata": {},
   "source": [
    "## Visualize Matrix"
   ]
  },
  {
   "cell_type": "code",
   "execution_count": 17,
   "id": "93d8db75",
   "metadata": {},
   "outputs": [
    {
     "data": {
      "image/png": "[encoded data removed]",
      "text/plain": [
       "<Figure size 2160x2160 with 2 Axes>"
      ]
     },
     "metadata": {
      "needs_background": "light"
     },
     "output_type": "display_data"
    }
   ],
   "source": [
    "# Visualize causality matrix\n",
    "import seaborn as sns\n",
    "import matplotlib.pyplot as plt\n",
    "\n",
    "\n",
    "cm_keys = list(cm_pkl.keys())\n",
    "k = 50\n",
    "plt.figure(figsize=[30,30])\n",
    "sns.heatmap(cm_array[:k, :k], annot=True, fmt=\".1f\", xticklabels=cm_keys[:k], yticklabels=cm_keys[:k], cmap='Blues')\n",
    "plt.show()\n"
   ]
  },
  {
   "cell_type": "markdown",
   "id": "b6dccddb",
   "metadata": {},
   "source": [
    "## Get Matrix Stats"
   ]
  },
  {
   "cell_type": "code",
   "execution_count": 14,
   "id": "c9ba0830",
   "metadata": {},
   "outputs": [
    {
     "name": "stdout",
     "output_type": "stream",
     "text": [
      "Mean: 0.003734166360049049\n",
      "Standard deviation: 0.3127908174385907\n",
      "Min: 0.0\n",
      "Max: 1680.2805999999973\n",
      "Median: 0.0\n",
      "Q1: 0.0\n",
      "Q3: 0.0\n",
      "Range: 1680.2805999999973\n",
      "IQR: 0.0\n"
     ]
    }
   ],
   "source": [
    "def get_causality_matrix_statistics(cm_array_l):\n",
    "    '''\n",
    "    Computes statistics for the causality matrix\n",
    "    '''\n",
    "    # Compute mean and standard deviation\n",
    "    mean = np.mean(cm_array_l)\n",
    "    std = np.std(cm_array_l)\n",
    "\n",
    "    # Compute min and max\n",
    "    min = np.min(cm_array_l)\n",
    "    max = np.max(cm_array_l)\n",
    "\n",
    "    # Compute median\n",
    "    median = np.median(cm_array_l)\n",
    "\n",
    "    # Compute quartiles\n",
    "    q1 = np.percentile(cm_array_l, 25)\n",
    "    q3 = np.percentile(cm_array_l, 75)\n",
    "\n",
    "    # Compute range\n",
    "    range = max - min\n",
    "\n",
    "    # Compute interquartile range\n",
    "    iqr = q3 - q1\n",
    "\n",
    "    # Compute outliers\n",
    "    # outliers = []\n",
    "    # print(len(cm_array_l))\n",
    "    # for i in np.arange(len(cm_array_l)):\n",
    "    #     for j in np.arange(len(cm_array_l)):\n",
    "    #         if cm_array_l[i][j] > q3 + 1.5 * iqr:\n",
    "    #             outliers.append((i, j))\n",
    "\n",
    "    return mean, std, min, max, median, q1, q3, range, iqr\n",
    "    \n",
    "def pretty_print_stats(stats):\n",
    "    '''\n",
    "    Prints the statistics for the causality matrix\n",
    "    '''\n",
    "    print('Mean:', stats[0])\n",
    "    print('Standard deviation:', stats[1])\n",
    "    print('Min:', stats[2])\n",
    "    print('Max:', stats[3])\n",
    "    print('Median:', stats[4])\n",
    "    print('Q1:', stats[5])\n",
    "    print('Q3:', stats[6])\n",
    "    print('Range:', stats[7])\n",
    "    print('IQR:', stats[8])\n",
    "    # print('Outliers:', stats[9])\n",
    "\n",
    "\n",
    "pretty_print_stats(get_causality_matrix_statistics(cm_array))"
   ]
  },
  {
   "cell_type": "code",
   "execution_count": 18,
   "id": "ed7308d9",
   "metadata": {},
   "outputs": [
    {
     "name": "stdout",
     "output_type": "stream",
     "text": [
      "Percentage of zeros: 0.9972894689721395\n"
     ]
    }
   ],
   "source": [
    "# Get percentage of zeros of causality matrix\n",
    "print('Percentage of zeros:', np.count_nonzero(cm_array == 0) / len(cm_array) ** 2)"
   ]
  },
  {
   "cell_type": "code",
   "execution_count": 13,
   "id": "9123f45b",
   "metadata": {},
   "outputs": [
    {
     "name": "stdout",
     "output_type": "stream",
     "text": [
      "[ 284.2358  284.493   291.6792  298.6078  302.7371  307.2321  311.0169\n",
      "  312.6169  342.3738  344.4422  361.101   423.7239  468.0778  518.6302\n",
      "  657.4487  703.6951  795.9463  806.235   904.8933 1680.2806]\n",
      "[ 9067602  9067605   122913  1639674   246472   245979 13028778 42869323\n",
      "   286966  1638840   150227  8384850    40975 13027944   286797   122921\n",
      "   245826   150230   286794   245829]\n"
     ]
    }
   ],
   "source": [
    "# Get the top 10 values of causality matrix\n",
    "top_10 = np.sort(cm_array.flatten())[-20:]\n",
    "print(top_10)\n",
    "\n",
    "\n",
    "# Get the indices of top 20 values of causality matrix\n",
    "top_20_indices = np.argsort(cm_array.flatten())[-20:]\n",
    "print(top_20_indices)"
   ]
  },
  {
   "cell_type": "code",
   "execution_count": 20,
   "id": "cf295935",
   "metadata": {},
   "outputs": [
    {
     "data": {
      "text/plain": [
       "(array([5.02384e+05, 1.93300e+03, 5.31000e+02, 2.49000e+02, 1.15000e+02,\n",
       "        5.50000e+01, 5.60000e+01, 2.60000e+01, 3.70000e+01, 1.60000e+01,\n",
       "        1.10000e+01, 1.10000e+01, 7.00000e+00, 1.20000e+01, 3.00000e+00,\n",
       "        6.00000e+00, 7.00000e+00, 2.00000e+00, 4.00000e+00, 0.00000e+00,\n",
       "        2.00000e+00, 1.00000e+00, 0.00000e+00, 0.00000e+00, 0.00000e+00,\n",
       "        1.00000e+00, 0.00000e+00, 1.00000e+00, 0.00000e+00, 0.00000e+00,\n",
       "        1.00000e+00, 0.00000e+00, 0.00000e+00, 0.00000e+00, 0.00000e+00,\n",
       "        0.00000e+00, 0.00000e+00, 0.00000e+00, 0.00000e+00, 1.00000e+00,\n",
       "        0.00000e+00, 1.00000e+00, 0.00000e+00, 0.00000e+00, 0.00000e+00,\n",
       "        0.00000e+00, 0.00000e+00, 2.00000e+00, 0.00000e+00, 0.00000e+00,\n",
       "        0.00000e+00, 0.00000e+00, 0.00000e+00, 1.00000e+00, 0.00000e+00,\n",
       "        0.00000e+00, 0.00000e+00, 0.00000e+00, 0.00000e+00, 0.00000e+00,\n",
       "        0.00000e+00, 0.00000e+00, 0.00000e+00, 0.00000e+00, 0.00000e+00,\n",
       "        0.00000e+00, 0.00000e+00, 0.00000e+00, 0.00000e+00, 0.00000e+00,\n",
       "        0.00000e+00, 0.00000e+00, 0.00000e+00, 0.00000e+00, 0.00000e+00,\n",
       "        0.00000e+00, 0.00000e+00, 0.00000e+00, 0.00000e+00, 0.00000e+00,\n",
       "        0.00000e+00, 0.00000e+00, 0.00000e+00, 0.00000e+00, 0.00000e+00,\n",
       "        0.00000e+00, 0.00000e+00, 0.00000e+00, 0.00000e+00, 0.00000e+00,\n",
       "        0.00000e+00, 0.00000e+00, 0.00000e+00, 0.00000e+00, 0.00000e+00,\n",
       "        0.00000e+00, 0.00000e+00, 0.00000e+00, 0.00000e+00, 1.00000e+00]),\n",
       " array([1.00000000e-04, 1.68029050e+01, 3.36057100e+01, 5.04085150e+01,\n",
       "        6.72113200e+01, 8.40141250e+01, 1.00816930e+02, 1.17619735e+02,\n",
       "        1.34422540e+02, 1.51225345e+02, 1.68028150e+02, 1.84830955e+02,\n",
       "        2.01633760e+02, 2.18436565e+02, 2.35239370e+02, 2.52042175e+02,\n",
       "        2.68844980e+02, 2.85647785e+02, 3.02450590e+02, 3.19253395e+02,\n",
       "        3.36056200e+02, 3.52859005e+02, 3.69661810e+02, 3.86464615e+02,\n",
       "        4.03267420e+02, 4.20070225e+02, 4.36873030e+02, 4.53675835e+02,\n",
       "        4.70478640e+02, 4.87281445e+02, 5.04084250e+02, 5.20887055e+02,\n",
       "        5.37689860e+02, 5.54492665e+02, 5.71295470e+02, 5.88098275e+02,\n",
       "        6.04901080e+02, 6.21703885e+02, 6.38506690e+02, 6.55309495e+02,\n",
       "        6.72112300e+02, 6.88915105e+02, 7.05717910e+02, 7.22520715e+02,\n",
       "        7.39323520e+02, 7.56126325e+02, 7.72929130e+02, 7.89731935e+02,\n",
       "        8.06534740e+02, 8.23337545e+02, 8.40140350e+02, 8.56943155e+02,\n",
       "        8.73745960e+02, 8.90548765e+02, 9.07351570e+02, 9.24154375e+02,\n",
       "        9.40957180e+02, 9.57759985e+02, 9.74562790e+02, 9.91365595e+02,\n",
       "        1.00816840e+03, 1.02497120e+03, 1.04177401e+03, 1.05857681e+03,\n",
       "        1.07537962e+03, 1.09218242e+03, 1.10898523e+03, 1.12578803e+03,\n",
       "        1.14259084e+03, 1.15939364e+03, 1.17619645e+03, 1.19299925e+03,\n",
       "        1.20980206e+03, 1.22660486e+03, 1.24340767e+03, 1.26021047e+03,\n",
       "        1.27701328e+03, 1.29381608e+03, 1.31061889e+03, 1.32742169e+03,\n",
       "        1.34422450e+03, 1.36102730e+03, 1.37783011e+03, 1.39463291e+03,\n",
       "        1.41143572e+03, 1.42823852e+03, 1.44504133e+03, 1.46184413e+03,\n",
       "        1.47864694e+03, 1.49544974e+03, 1.51225255e+03, 1.52905535e+03,\n",
       "        1.54585816e+03, 1.56266096e+03, 1.57946377e+03, 1.59626657e+03,\n",
       "        1.61306938e+03, 1.62987218e+03, 1.64667499e+03, 1.66347779e+03,\n",
       "        1.68028060e+03]),\n",
       " <BarContainer object of 100 artists>)"
      ]
     },
     "execution_count": 20,
     "metadata": {},
     "output_type": "execute_result"
    },
    {
     "data": {
      "image/png": "[encoded data removed]",
      "text/plain": [
       "<Figure size 432x288 with 1 Axes>"
      ]
     },
     "metadata": {
      "needs_background": "light"
     },
     "output_type": "display_data"
    }
   ],
   "source": [
    "# Histogram of causality matrix values except 0 in logspace\n",
    "plt.hist(cm_array.flatten()[cm_array.flatten() != 0], bins=100, log=True)\n",
    "# plt.hist(cm_array.flatten()[cm_array.flatten() != 0], bins=100);\n"
   ]
  },
  {
   "cell_type": "code",
   "execution_count": 7,
   "id": "42ddaf87",
   "metadata": {},
   "outputs": [
    {
     "data": {
      "text/plain": [
       "[<matplotlib.lines.Line2D at 0x7ff0eea4fb20>]"
      ]
     },
     "execution_count": 7,
     "metadata": {},
     "output_type": "execute_result"
    },
    {
     "data": {
      "image/png": "[encoded data removed]",
      "text/plain": [
       "<Figure size 432x288 with 1 Axes>"
      ]
     },
     "metadata": {
      "needs_background": "light"
     },
     "output_type": "display_data"
    }
   ],
   "source": [
    "# Plot sigmoid\n",
    "x = np.linspace(0, 30, 100)\n",
    "plt.plot(x, sigmoid_decay(x))\n",
    "\n"
   ]
  },
  {
   "cell_type": "code",
   "execution_count": 17,
   "id": "58218218",
   "metadata": {},
   "outputs": [
    {
     "data": {
      "text/plain": [
       "[<matplotlib.lines.Line2D at 0x7f6c9d0f7850>]"
      ]
     },
     "execution_count": 17,
     "metadata": {},
     "output_type": "execute_result"
    },
    {
     "data": {
      "image/png": "[encoded data removed]",
      "text/plain": [
       "<Figure size 432x288 with 1 Axes>"
      ]
     },
     "metadata": {
      "needs_background": "light"
     },
     "output_type": "display_data"
    }
   ],
   "source": [
    "# plot linear decay\n",
    "plt.plot(x, linear_decay(x))\n"
   ]
  },
  {
   "cell_type": "code",
   "execution_count": 14,
   "id": "dedfd721",
   "metadata": {},
   "outputs": [
    {
     "data": {
      "text/plain": [
       "[<matplotlib.lines.Line2D at 0x7ff0ecba3ac0>]"
      ]
     },
     "execution_count": 14,
     "metadata": {},
     "output_type": "execute_result"
    },
    {
     "data": {
      "image/png": "[encoded data removed]",
      "text/plain": [
       "<Figure size 432x288 with 1 Axes>"
      ]
     },
     "metadata": {
      "needs_background": "light"
     },
     "output_type": "display_data"
    }
   ],
   "source": [
    "# plot exponential decay\n",
    "x = np.linspace(0, 50, 100)\n",
    "plt.plot(x, exp_decay_idx(x))"
   ]
  },
  {
   "cell_type": "code",
   "execution_count": 34,
   "id": "c38b77b7",
   "metadata": {},
   "outputs": [
    {
     "data": {
      "text/plain": [
       "[<matplotlib.lines.Line2D at 0x7f6c9cbc33d0>]"
      ]
     },
     "execution_count": 34,
     "metadata": {},
     "output_type": "execute_result"
    },
    {
     "data": {
      "image/png": "[encoded data removed]",
      "text/plain": [
       "<Figure size 432x288 with 1 Axes>"
      ]
     },
     "metadata": {
      "needs_background": "light"
     },
     "output_type": "display_data"
    }
   ],
   "source": [
    "#plot inverse decay\n",
    "plt.plot(x, inverse_decay(x))\n"
   ]
  },
  {
   "cell_type": "markdown",
   "id": "78de9d10",
   "metadata": {},
   "source": [
    "## ToDo List\n",
    "\n",
    "- Actions that always follow another action but never precede it\n",
    "- What is the the distribution of “causality scores” (i.e. the values in the cells of the matrix)? What is the highest score, the lowest score, the average? A histogram would be a helpful way to visualize this.\n",
    "    - [ ] Build histogram\n",
    "    - \n",
    "- How many non-zero values are there typically in a row? That is, how many downstream actions generally follow a given action? Again, a histogram showing the frequency of the count of non-zero values across all the rows would work for this\n",
    "    - 99th percentile is still zero\n",
    "    - [ ] typical amount of zeros in rows\n",
    "- Get list of actions that have almost no follow-up actions\n",
    "- Similarity between actions based on their vectors\n",
    "- Histogram for non-zero cells?\n",
    "- Are there actions that constrain possible futures more?"
   ]
  },
  {
   "cell_type": "markdown",
   "id": "ed08bc4a",
   "metadata": {},
   "source": [
    "# Notes\n",
    "\n",
    "- physical constraints between events have lower variability\n",
    "- while individual quirks have more var\n",
    "- what's task specific, what's individual/location based?\n",
    "- \n",
    "\n",
    "sort by frequency\n",
    "which one has most density in first couple columns?\n",
    "which one are highly regular actions?\n",
    "\n",
    "distribution of when stuff will happen?\n",
    "\n",
    "\n",
    "Look at distribution of times for specific actions\n",
    "normalize the index approach by time of action\n",
    "\n",
    "Can we treat this problem as representation building? Let a machine define the ordering?\n",
    "Instance approach?\n",
    "Matrix can allow us to get answer to cause questions"
   ]
  }
 ],
 "metadata": {
  "kernelspec": {
   "display_name": "Python 3",
   "language": "python",
   "name": "python3"
  },
  "language_info": {
   "codemirror_mode": {
    "name": "ipython",
    "version": 3
   },
   "file_extension": ".py",
   "mimetype": "text/x-python",
   "name": "python",
   "nbconvert_exporter": "python",
   "pygments_lexer": "ipython3",
   "version": "3.8.3"
  }
 },
 "nbformat": 4,
 "nbformat_minor": 5
}
